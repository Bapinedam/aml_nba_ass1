{
 "cells": [
  {
   "cell_type": "markdown",
   "metadata": {
    "id": "uQ6wc2HE0pke"
   },
   "source": [
    "# **Experiment Notebook**\n",
    "\n"
   ]
  },
  {
   "cell_type": "code",
   "execution_count": 1,
   "metadata": {
    "id": "qNOA146K2c6f"
   },
   "outputs": [],
   "source": [
    "# Do not modify this code\n",
    "!pip install -q utstd\n",
    "\n",
    "from utstd.ipyrenders import *"
   ]
  },
  {
   "cell_type": "code",
   "execution_count": 2,
   "metadata": {
    "id": "6FneOmBfka9G"
   },
   "outputs": [],
   "source": [
    "# Do not modify this code\n",
    "import warnings\n",
    "warnings.simplefilter(action='ignore')"
   ]
  },
  {
   "cell_type": "markdown",
   "metadata": {
    "id": "mXFKfa2tp1ch"
   },
   "source": [
    "## 0. Import Packages"
   ]
  },
  {
   "cell_type": "code",
   "execution_count": 3,
   "metadata": {
    "id": "GBEAwdncnlAx"
   },
   "outputs": [],
   "source": [
    "\n",
    "# <Student to fill this section>\n",
    "\n",
    "from brayam_pineda_ml import DataLoader, ModelTrainer, ModelEvaluator, Predictor, parse_height_to_cm\n",
    "\n",
    "import os\n",
    "import pandas as pd\n",
    "import matplotlib.pyplot as plt\n",
    "import seaborn as sns\n",
    "import numpy as np\n",
    "from sklearn.model_selection import train_test_split\n",
    "from sklearn.preprocessing import StandardScaler\n",
    "import lightgbm as lgb\n",
    "import lightgbm as lgb\n",
    "from sklearn.metrics import roc_auc_score\n",
    "import matplotlib.pyplot as plt\n",
    "from sklearn.metrics import roc_curve, auc\n",
    "import joblib"
   ]
  },
  {
   "cell_type": "markdown",
   "metadata": {
    "id": "tQgxLRrvjiJb"
   },
   "source": [
    "---\n",
    "## A. Project Description\n"
   ]
  },
  {
   "cell_type": "code",
   "execution_count": 4,
   "metadata": {
    "id": "Je1EzzfFD5hj"
   },
   "outputs": [],
   "source": [
    "# <Student to fill this section>\n",
    "student_name = \"Brayam Alexander Pineda\"\n",
    "student_id = \"25587799\"\n",
    "group_id = \"26\""
   ]
  },
  {
   "cell_type": "code",
   "execution_count": 5,
   "metadata": {
    "id": "pdKiYvFWD5my"
   },
   "outputs": [
    {
     "data": {
      "text/html": [
       "<p style=\"color:grey\">student_name</p><h1 font-size: 3em>Brayam Alexander Pineda</h1>"
      ],
      "text/plain": [
       "<IPython.core.display.HTML object>"
      ]
     },
     "metadata": {},
     "output_type": "display_data"
    }
   ],
   "source": [
    "# Do not modify this code\n",
    "print_tile(size=\"h1\", key='student_name', value=student_name)"
   ]
  },
  {
   "cell_type": "code",
   "execution_count": 6,
   "metadata": {
    "id": "9KTEbRjqD5o_"
   },
   "outputs": [
    {
     "data": {
      "text/html": [
       "<p style=\"color:grey\">student_id</p><h1 font-size: 3em>25587799</h1>"
      ],
      "text/plain": [
       "<IPython.core.display.HTML object>"
      ]
     },
     "metadata": {},
     "output_type": "display_data"
    }
   ],
   "source": [
    "# Do not modify this code\n",
    "print_tile(size=\"h1\", key='student_id', value=student_id)"
   ]
  },
  {
   "cell_type": "code",
   "execution_count": 7,
   "metadata": {
    "id": "UKRt4jK6rInY"
   },
   "outputs": [
    {
     "data": {
      "text/html": [
       "<p style=\"color:grey\">group_id</p><h1 font-size: 3em>26</h1>"
      ],
      "text/plain": [
       "<IPython.core.display.HTML object>"
      ]
     },
     "metadata": {},
     "output_type": "display_data"
    }
   ],
   "source": [
    "# Do not modify this code\n",
    "print_tile(size=\"h1\", key='group_id', value=group_id)"
   ]
  },
  {
   "cell_type": "markdown",
   "metadata": {
    "id": "4q1Bzcejvfpm"
   },
   "source": [
    "---\n",
    "## B. Business Understanding"
   ]
  },
  {
   "cell_type": "code",
   "execution_count": 8,
   "metadata": {
    "id": "Mmo6apC9EEv8"
   },
   "outputs": [],
   "source": [
    "# <Student to fill this section>\n",
    "business_use_case_description = \"\"\"\n",
    "The goal of this project is to develop a machine learning model that accurately predicts the likelihood of a college basketball player being drafted into the NBA. By analyzing player performance statistics from the current season, the model will produce probability scores that reflect how likely each athlete is to be selected by a team.\n",
    "\"\"\""
   ]
  },
  {
   "cell_type": "code",
   "execution_count": 9,
   "metadata": {
    "id": "bgb0DkG2EE2e"
   },
   "outputs": [
    {
     "data": {
      "text/html": [
       "<p style=\"color:grey\">business_use_case_description</p><h3 font-size: 3em>\n",
       "The goal of this project is to develop a machine learning model that accurately predicts the likelihood of a college basketball player being drafted into the NBA. By analyzing player performance statistics from the current season, the model will produce probability scores that reflect how likely each athlete is to be selected by a team.\n",
       "</h3>"
      ],
      "text/plain": [
       "<IPython.core.display.HTML object>"
      ]
     },
     "metadata": {},
     "output_type": "display_data"
    }
   ],
   "source": [
    "# Do not modify this code\n",
    "print_tile(size=\"h3\", key='business_use_case_description', value=business_use_case_description)"
   ]
  },
  {
   "cell_type": "code",
   "execution_count": 10,
   "metadata": {
    "id": "29Yqk3d2EE8q"
   },
   "outputs": [],
   "source": [
    "# <Student to fill this section>\n",
    "business_objectives = \"\"\"\n",
    "Accurate predictions can lead to better drafting strategies, more efficient use of scouting resources, and increased competitive advantage for NBA teams. On the other hand, inaccurate results may cause teams to overlook high-potential players or waste draft picks on less qualified candidates. Therefore, the model’s reliability is critical, not just for performance, but for fairness, reputation, and long-term trust in AI-driven sports analytics.\n",
    "\"\"\""
   ]
  },
  {
   "cell_type": "code",
   "execution_count": 11,
   "metadata": {
    "id": "sSu_8J96EFDs"
   },
   "outputs": [
    {
     "data": {
      "text/html": [
       "<p style=\"color:grey\">business_objectives</p><h3 font-size: 3em>\n",
       "Accurate predictions can lead to better drafting strategies, more efficient use of scouting resources, and increased competitive advantage for NBA teams. On the other hand, inaccurate results may cause teams to overlook high-potential players or waste draft picks on less qualified candidates. Therefore, the model’s reliability is critical, not just for performance, but for fairness, reputation, and long-term trust in AI-driven sports analytics.\n",
       "</h3>"
      ],
      "text/plain": [
       "<IPython.core.display.HTML object>"
      ]
     },
     "metadata": {},
     "output_type": "display_data"
    }
   ],
   "source": [
    "# Do not modify this code\n",
    "print_tile(size=\"h3\", key='business_objectives', value=business_objectives)"
   ]
  },
  {
   "cell_type": "code",
   "execution_count": 12,
   "metadata": {
    "id": "Hf4ThY5cEF5W"
   },
   "outputs": [],
   "source": [
    "# <Student to fill this section>\n",
    "stakeholders_expectations_explanations = \"\"\"\n",
    "The primary users of the model predictions will be NBA team decision-makers, including scouts and general managers, who can integrate these insights into their draft strategies. Additionally, college programs, player agents, and sports analysts may use the results to track potential draftees and support players’ development and exposure. The predictions may impact athletes directly by influencing perceptions of their draftability, as well as teams by affecting draft choices, competitive outcomes, and financial investments.\"\"\""
   ]
  },
  {
   "cell_type": "code",
   "execution_count": 13,
   "metadata": {
    "id": "jH9a2X70EF8M"
   },
   "outputs": [
    {
     "data": {
      "text/html": [
       "<p style=\"color:grey\">stakeholders_expectations_explanations</p><h3 font-size: 3em>\n",
       "The primary users of the model predictions will be NBA team decision-makers, including scouts and general managers, who can integrate these insights into their draft strategies. Additionally, college programs, player agents, and sports analysts may use the results to track potential draftees and support players’ development and exposure. The predictions may impact athletes directly by influencing perceptions of their draftability, as well as teams by affecting draft choices, competitive outcomes, and financial investments.</h3>"
      ],
      "text/plain": [
       "<IPython.core.display.HTML object>"
      ]
     },
     "metadata": {},
     "output_type": "display_data"
    }
   ],
   "source": [
    "# Do not modify this code\n",
    "print_tile(size=\"h3\", key='stakeholders_expectations_explanations', value=stakeholders_expectations_explanations)"
   ]
  },
  {
   "cell_type": "markdown",
   "metadata": {},
   "source": [
    "---\n",
    "## C. Experiment Description"
   ]
  },
  {
   "cell_type": "code",
   "execution_count": 14,
   "metadata": {},
   "outputs": [],
   "source": [
    "experiment_description = \"\"\"\n",
    "Based on Experiment 1, where we trained the model using all variables with fixed hyperparameters, the goal of this experiment is to fine-tune the hyperparameters in order to achieve better performance than in Experiment 1. Although the results obtained previously were satisfactory (train AUC: 0.984, validation AUC: 0.993), we aim to further improve the model through fine-tuning.\"\"\""
   ]
  },
  {
   "cell_type": "code",
   "execution_count": 15,
   "metadata": {},
   "outputs": [
    {
     "data": {
      "text/html": [
       "<p style=\"color:grey\">experiment_description</p><h3 font-size: 3em>\n",
       "Based on Experiment 1, where we trained the model using all variables with fixed hyperparameters, the goal of this experiment is to fine-tune the hyperparameters in order to achieve better performance than in Experiment 1. Although the results obtained previously were satisfactory (train AUC: 0.984, validation AUC: 0.993), we aim to further improve the model through fine-tuning.</h3>"
      ],
      "text/plain": [
       "<IPython.core.display.HTML object>"
      ]
     },
     "metadata": {},
     "output_type": "display_data"
    }
   ],
   "source": [
    "# Do not modify this code\n",
    "print_tile(size=\"h3\", key='experiment_description', value=experiment_description)"
   ]
  },
  {
   "cell_type": "markdown",
   "metadata": {},
   "source": [
    "---\n",
    "## D. Load Dataset"
   ]
  },
  {
   "cell_type": "code",
   "execution_count": 16,
   "metadata": {},
   "outputs": [
    {
     "name": "stderr",
     "output_type": "stream",
     "text": [
      "\u001b[32m2025-08-28 23:11:44.069\u001b[0m | \u001b[1mINFO    \u001b[0m | \u001b[36mbrayam_pineda_ml.data_loader\u001b[0m:\u001b[36m__init__\u001b[0m:\u001b[36m86\u001b[0m - \u001b[1mDataLoader initialized with data folder: ../data/raw\u001b[0m\n"
     ]
    },
    {
     "name": "stdout",
     "output_type": "stream",
     "text": [
      "(9846, 46)\n",
      "(2462, 46)\n",
      "(1297, 46)\n",
      "(9846, 1)\n",
      "(2462, 1)\n"
     ]
    }
   ],
   "source": [
    "data_loader = DataLoader()\n",
    "X_train = pd.read_csv(\"../Data/processed/X_train.csv\")\n",
    "X_val = pd.read_csv(\"../Data/processed/X_val.csv\") \n",
    "X_test = pd.read_csv(\"../Data/processed/X_test.csv\")\n",
    "y_train = pd.read_csv(\"../Data/processed/y_train.csv\")\n",
    "y_val = pd.read_csv(\"../Data/processed/y_val.csv\")\n",
    "\n",
    "print(X_train.shape)\n",
    "print(X_val.shape)\n",
    "print(X_test.shape)\n",
    "print(y_train.shape)\n",
    "print(y_val.shape)"
   ]
  },
  {
   "cell_type": "markdown",
   "metadata": {},
   "source": [
    "---\n",
    "## E. Data Transformation"
   ]
  },
  {
   "cell_type": "markdown",
   "metadata": {
    "id": "JHJ25iRRG1Gb"
   },
   "source": [
    "### G.2 Data Transformation \"normalisation\""
   ]
  },
  {
   "cell_type": "code",
   "execution_count": 17,
   "metadata": {},
   "outputs": [
    {
     "name": "stderr",
     "output_type": "stream",
     "text": [
      "\u001b[32m2025-08-28 23:11:44.112\u001b[0m | \u001b[1mINFO    \u001b[0m | \u001b[36mbrayam_pineda_ml.data_loader\u001b[0m:\u001b[36mprepare_features\u001b[0m:\u001b[36m187\u001b[0m - \u001b[1mPrepared features - Train: (9846, 44), Val: (2462, 44), Test: (1297, 44)\u001b[0m\n",
      "\u001b[32m2025-08-28 23:11:44.113\u001b[0m | \u001b[1mINFO    \u001b[0m | \u001b[36mbrayam_pineda_ml.model_trainer\u001b[0m:\u001b[36m__init__\u001b[0m:\u001b[36m41\u001b[0m - \u001b[1mModelTrainer initialized with random_state=42\u001b[0m\n",
      "\u001b[32m2025-08-28 23:11:44.116\u001b[0m | \u001b[1mINFO    \u001b[0m | \u001b[36mbrayam_pineda_ml.model_trainer\u001b[0m:\u001b[36mscale_features\u001b[0m:\u001b[36m108\u001b[0m - \u001b[1mFeatures scaled using StandardScaler\u001b[0m\n"
     ]
    },
    {
     "name": "stdout",
     "output_type": "stream",
     "text": [
      "(9846, 44) (2462, 44) (1297, 44)\n"
     ]
    }
   ],
   "source": [
    "# Use your package's feature preparation\n",
    "X_train, X_val, X_test = data_loader.prepare_features(X_train, X_val, X_test)\n",
    "\n",
    "# Use your package's scaling functionality\n",
    "trainer = ModelTrainer()\n",
    "X_train_scaled, X_val_scaled, X_test_scaled = trainer.scale_features(X_train, X_val, X_test)\n",
    "\n",
    "print(X_train.shape, X_val.shape, X_test.shape)"
   ]
  },
  {
   "cell_type": "code",
   "execution_count": 36,
   "metadata": {},
   "outputs": [
    {
     "data": {
      "text/plain": [
       "array([-1.27238064, -1.00998088, -1.00450608, -0.61291206, -0.55745273,\n",
       "       -0.74328778, -0.31931991,  0.12707421, -0.33598291,  0.79894839,\n",
       "       -0.76590397, -0.82002928, -1.82843806, -0.79833571, -0.82528817,\n",
       "       -1.868592  , -0.56961208, -0.62826426,  0.64328466, -0.17048771,\n",
       "       -0.60261263, -0.88195882,  0.32847127, -0.78987753, -1.10421305,\n",
       "        0.50217733,  0.38256024,  0.44769102, -0.97383265, -0.98392959,\n",
       "       -0.71012124, -0.77506633, -0.42687282, -1.28913816, -0.88474532,\n",
       "       -1.18844479, -1.02448394, -0.77642819, -0.60130192, -0.69699501,\n",
       "       -0.58279124, -0.72018408, -0.61036749, -0.60155837])"
      ]
     },
     "execution_count": 36,
     "metadata": {},
     "output_type": "execute_result"
    }
   ],
   "source": [
    "X_test_scaled[0]"
   ]
  },
  {
   "cell_type": "code",
   "execution_count": 18,
   "metadata": {
    "id": "XbWWDBacGn9n"
   },
   "outputs": [],
   "source": [
    "# <Student to fill this section>\n",
    "data_transformation_1_explanations = \"\"\"\n",
    "Standardizing the data using StandardScaler is important to ensure that all features contribute equally to the model, especially those that are sensitive to feature magnitudes, such as logistic regression or distance-based models. By transforming features to have zero mean and unit variance, we prevent variables with larger scales from disproportionately influencing the learning process. This improves model stability, speeds up convergence, and ensures that regularization techniques operate effectively across all features.\n",
    "\"\"\""
   ]
  },
  {
   "cell_type": "code",
   "execution_count": 19,
   "metadata": {
    "id": "vepkbzldGn_8"
   },
   "outputs": [
    {
     "data": {
      "text/html": [
       "<p style=\"color:grey\">data_transformation_1_explanations</p><h3 font-size: 3em>\n",
       "Standardizing the data using StandardScaler is important to ensure that all features contribute equally to the model, especially those that are sensitive to feature magnitudes, such as logistic regression or distance-based models. By transforming features to have zero mean and unit variance, we prevent variables with larger scales from disproportionately influencing the learning process. This improves model stability, speeds up convergence, and ensures that regularization techniques operate effectively across all features.\n",
       "</h3>"
      ],
      "text/plain": [
       "<IPython.core.display.HTML object>"
      ]
     },
     "metadata": {},
     "output_type": "display_data"
    }
   ],
   "source": [
    "# Do not modify this code\n",
    "print_tile(size=\"h3\", key='data_transformation_1_explanations', value=data_transformation_1_explanations)"
   ]
  },
  {
   "cell_type": "markdown",
   "metadata": {
    "id": "RtLjr7niHpNZ"
   },
   "source": [
    "---\n",
    "## I. Selection of Performance Metrics\n",
    "\n",
    "> Provide some explanations on why you believe the performance metrics you chose is appropriate\n"
   ]
  },
  {
   "cell_type": "code",
   "execution_count": 20,
   "metadata": {
    "id": "KV_pxLAiHxKW"
   },
   "outputs": [],
   "source": [
    "# <Student to fill this section>"
   ]
  },
  {
   "cell_type": "code",
   "execution_count": 21,
   "metadata": {
    "id": "kC949nluHR5s"
   },
   "outputs": [],
   "source": [
    "# <Student to fill this section>\n",
    "performance_metrics_explanations = \"\"\"\n",
    "The chosen performance metric is AUROC (Area Under the Receiver Operating Characteristic Curve), which is particularly appropriate for this task due to the strong class imbalance in the dataset — with only around 0.8% of players being drafted. AUROC evaluates the model's ability to distinguish between the positive and negative classes across all possible thresholds, making it more informative than accuracy or F1-score in imbalanced scenarios. It reflects how well the model ranks drafted players higher than non-drafted ones, which aligns directly with the business objective of identifying high-potential players. Therefore, AUROC provides a robust and threshold-independent measure of model performance for this classification problem.\n",
    "\"\"\""
   ]
  },
  {
   "cell_type": "code",
   "execution_count": 22,
   "metadata": {
    "id": "wABRzU2sHR8j"
   },
   "outputs": [
    {
     "data": {
      "text/html": [
       "<p style=\"color:grey\">performance_metrics_explanations</p><h3 font-size: 3em>\n",
       "The chosen performance metric is AUROC (Area Under the Receiver Operating Characteristic Curve), which is particularly appropriate for this task due to the strong class imbalance in the dataset — with only around 0.8% of players being drafted. AUROC evaluates the model's ability to distinguish between the positive and negative classes across all possible thresholds, making it more informative than accuracy or F1-score in imbalanced scenarios. It reflects how well the model ranks drafted players higher than non-drafted ones, which aligns directly with the business objective of identifying high-potential players. Therefore, AUROC provides a robust and threshold-independent measure of model performance for this classification problem.\n",
       "</h3>"
      ],
      "text/plain": [
       "<IPython.core.display.HTML object>"
      ]
     },
     "metadata": {},
     "output_type": "display_data"
    }
   ],
   "source": [
    "# Do not modify this code\n",
    "print_tile(size=\"h3\", key='performance_metrics_explanations', value=performance_metrics_explanations)"
   ]
  },
  {
   "cell_type": "markdown",
   "metadata": {
    "id": "ZpxjwSDYIJy6"
   },
   "source": [
    "## J. Train Machine Learning Model"
   ]
  },
  {
   "cell_type": "markdown",
   "metadata": {
    "id": "_XBy7-9PIVcU"
   },
   "source": [
    "### J.1 Import Algorithm\n",
    "\n",
    "> Provide some explanations on why you believe this algorithm is a good fit\n"
   ]
  },
  {
   "cell_type": "code",
   "execution_count": 23,
   "metadata": {
    "id": "diUB08xMIOuS"
   },
   "outputs": [],
   "source": [
    "import lightgbm as lgb"
   ]
  },
  {
   "cell_type": "code",
   "execution_count": 24,
   "metadata": {
    "id": "GIWOpv6CGUTE"
   },
   "outputs": [],
   "source": [
    "# <Student to fill this section>\n",
    "algorithm_selection_explanations = \"\"\"\n",
    "LightGBM was selected as the first modeling approach due to its proven performance with structured tabular data, its robustness to feature scaling, and its native support for handling imbalanced datasets — a critical factor in this task. Its ability to capture non-linear interactions and provide probabilistic outputs aligns well with the project's classification objective and the use of AUROC as the evaluation metric.\n",
    "\"\"\""
   ]
  },
  {
   "cell_type": "code",
   "execution_count": 25,
   "metadata": {
    "id": "N4yogQ9aGUVe"
   },
   "outputs": [
    {
     "data": {
      "text/html": [
       "<p style=\"color:grey\">algorithm_selection_explanations</p><h3 font-size: 3em>\n",
       "LightGBM was selected as the first modeling approach due to its proven performance with structured tabular data, its robustness to feature scaling, and its native support for handling imbalanced datasets — a critical factor in this task. Its ability to capture non-linear interactions and provide probabilistic outputs aligns well with the project's classification objective and the use of AUROC as the evaluation metric.\n",
       "</h3>"
      ],
      "text/plain": [
       "<IPython.core.display.HTML object>"
      ]
     },
     "metadata": {},
     "output_type": "display_data"
    }
   ],
   "source": [
    "# Do not modify this code\n",
    "print_tile(size=\"h3\", key='algorithm_selection_explanations', value=algorithm_selection_explanations)"
   ]
  },
  {
   "cell_type": "markdown",
   "metadata": {
    "id": "0ks_MmM2mCfm"
   },
   "source": [
    "### J.2 Set Hyperparameters\n",
    "\n",
    "> Provide some explanations on why you believe this algorithm is a good fit\n"
   ]
  },
  {
   "cell_type": "code",
   "execution_count": 26,
   "metadata": {
    "id": "NUswpGVLmDXl"
   },
   "outputs": [
    {
     "name": "stderr",
     "output_type": "stream",
     "text": [
      "\u001b[32m2025-08-28 23:11:44.150\u001b[0m | \u001b[1mINFO    \u001b[0m | \u001b[36mbrayam_pineda_ml.utils\u001b[0m:\u001b[36mcalculate_scale_pos_weight\u001b[0m:\u001b[36m54\u001b[0m - \u001b[1mCalculated scale_pos_weight: 125.23 (negative: 9768, positive: 78)\u001b[0m\n"
     ]
    }
   ],
   "source": [
    "if isinstance(y_train, pd.DataFrame):\n",
    "    y_train = y_train.squeeze(\"columns\")   # -> Series\n",
    "if isinstance(y_val, pd.DataFrame):\n",
    "    y_val = y_val.squeeze(\"columns\")       # -> Series\n",
    "    \n",
    "\n",
    "from brayam_pineda_ml.utils import ensure_numeric, calculate_scale_pos_weight\n",
    "\n",
    "X_train_scaled = ensure_numeric(X_train_scaled)\n",
    "X_val_scaled = ensure_numeric(X_val_scaled)\n",
    "\n",
    "scale_pos_weight = calculate_scale_pos_weight(y_train)\n",
    "\n",
    "# Define the parameter grid for fine-tuning\n",
    "param_grid = {\n",
    "    'learning_rate': [0.001, 0.005, 0.01],\n",
    "    'num_leaves': [32, 64, 128],\n",
    "    'max_depth': [4, 6, 8, -1],\n",
    "    'min_data_in_leaf': [10, 20, 50],\n",
    "    'feature_fraction': [0.6, 0.8, 1.0],\n",
    "    'bagging_freq': [3, 5, 7]\n",
    "}\n",
    "\n",
    "# Create base parameters (keeping the ones not in grid search)\n",
    "base_params = {\n",
    "    'objective': 'binary',\n",
    "    'metric': 'auc',\n",
    "    'boosting_type': 'gbdt',\n",
    "    'scale_pos_weight': scale_pos_weight,\n",
    "    'verbose': -1,\n",
    "    'random_state': 42,\n",
    "    'n_estimators': 500\n",
    "}\n",
    "\n",
    "# Create a small temporary param grid for quick testing\n",
    "temp_param_grid = {\n",
    "    'learning_rate': [0.01, 0.05],\n",
    "    'num_leaves': [31, 64]\n",
    "}"
   ]
  },
  {
   "cell_type": "code",
   "execution_count": 27,
   "metadata": {
    "id": "crG_Bm72HfL-"
   },
   "outputs": [],
   "source": [
    "# <Student to fill this section>\n",
    "hyperparameters_selection_explanations = \"\"\"\n",
    "The hyperparameters used for the initial LightGBM model were selected to balance model complexity, training efficiency, and the unique characteristics of the dataset — particularly its severe class imbalance. The objective='binary' and metric='auc' were chosen to align with the binary classification task and the AUROC evaluation metric. To address the imbalance (~0.8% positive class), scale_pos_weight was calculated based on the ratio of negative to positive samples, giving more weight to the minority class during training.\n",
    "\n",
    "The learning rate (learning_rate=0.05) was set conservatively to ensure stable learning, and num_leaves=31 was chosen as a moderate value to balance model expressiveness and overfitting risk. max_depth=-1 allows the model to determine optimal depth per tree without hard constraints, while min_data_in_leaf=20 adds a regularization effect to avoid overly specific splits.\n",
    "\n",
    "To further improve generalization, feature_fraction=0.8 and bagging_fraction=0.8 were applied to randomly sample features and rows, respectively, at each iteration, with bagging_freq=5 to trigger bagging every few rounds. Finally, a fixed random_state=42 ensures reproducibility of results across runs.\n",
    "\"\"\""
   ]
  },
  {
   "cell_type": "code",
   "execution_count": 28,
   "metadata": {
    "id": "k0uqlRCVHfQI"
   },
   "outputs": [
    {
     "data": {
      "text/html": [
       "<p style=\"color:grey\">hyperparameters_selection_explanations</p><h3 font-size: 3em>\n",
       "The hyperparameters used for the initial LightGBM model were selected to balance model complexity, training efficiency, and the unique characteristics of the dataset — particularly its severe class imbalance. The objective='binary' and metric='auc' were chosen to align with the binary classification task and the AUROC evaluation metric. To address the imbalance (~0.8% positive class), scale_pos_weight was calculated based on the ratio of negative to positive samples, giving more weight to the minority class during training.\n",
       "\n",
       "The learning rate (learning_rate=0.05) was set conservatively to ensure stable learning, and num_leaves=31 was chosen as a moderate value to balance model expressiveness and overfitting risk. max_depth=-1 allows the model to determine optimal depth per tree without hard constraints, while min_data_in_leaf=20 adds a regularization effect to avoid overly specific splits.\n",
       "\n",
       "To further improve generalization, feature_fraction=0.8 and bagging_fraction=0.8 were applied to randomly sample features and rows, respectively, at each iteration, with bagging_freq=5 to trigger bagging every few rounds. Finally, a fixed random_state=42 ensures reproducibility of results across runs.\n",
       "</h3>"
      ],
      "text/plain": [
       "<IPython.core.display.HTML object>"
      ]
     },
     "metadata": {},
     "output_type": "display_data"
    }
   ],
   "source": [
    "# Do not modify this code\n",
    "print_tile(size=\"h3\", key='hyperparameters_selection_explanations', value=hyperparameters_selection_explanations)"
   ]
  },
  {
   "cell_type": "markdown",
   "metadata": {
    "id": "VDjdjQjFmkLe"
   },
   "source": [
    "### J.3 Fit Model"
   ]
  },
  {
   "cell_type": "code",
   "execution_count": 29,
   "metadata": {},
   "outputs": [
    {
     "name": "stderr",
     "output_type": "stream",
     "text": [
      "\u001b[32m2025-08-28 23:11:44.974\u001b[0m | \u001b[1mINFO    \u001b[0m | \u001b[36mbrayam_pineda_ml.utils\u001b[0m:\u001b[36mvalidate_data_shapes\u001b[0m:\u001b[36m117\u001b[0m - \u001b[1mData shape validation passed\u001b[0m\n",
      "\u001b[32m2025-08-28 23:11:44.985\u001b[0m | \u001b[1mINFO    \u001b[0m | \u001b[36mbrayam_pineda_ml.model_trainer\u001b[0m:\u001b[36mscale_features\u001b[0m:\u001b[36m108\u001b[0m - \u001b[1mFeatures scaled using StandardScaler\u001b[0m\n",
      "\u001b[32m2025-08-28 23:11:44.986\u001b[0m | \u001b[1mINFO    \u001b[0m | \u001b[36mbrayam_pineda_ml.utils\u001b[0m:\u001b[36mcalculate_scale_pos_weight\u001b[0m:\u001b[36m54\u001b[0m - \u001b[1mCalculated scale_pos_weight: 125.23 (negative: 9768, positive: 78)\u001b[0m\n",
      "\u001b[32m2025-08-28 23:11:44.986\u001b[0m | \u001b[1mINFO    \u001b[0m | \u001b[36mbrayam_pineda_ml.model_trainer\u001b[0m:\u001b[36mtrain_with_grid_search\u001b[0m:\u001b[36m159\u001b[0m - \u001b[1mStarting grid search hyperparameter tuning...\u001b[0m\n",
      "\u001b[32m2025-08-29 00:16:34.897\u001b[0m | \u001b[1mINFO    \u001b[0m | \u001b[36mbrayam_pineda_ml.model_trainer\u001b[0m:\u001b[36mtrain_with_grid_search\u001b[0m:\u001b[36m183\u001b[0m - \u001b[1mBest parameters: {'bagging_freq': 3, 'feature_fraction': 1.0, 'learning_rate': 0.01, 'max_depth': -1, 'min_data_in_leaf': 50, 'num_leaves': 32}\u001b[0m\n",
      "\u001b[32m2025-08-29 00:16:34.911\u001b[0m | \u001b[1mINFO    \u001b[0m | \u001b[36mbrayam_pineda_ml.model_trainer\u001b[0m:\u001b[36mtrain_with_grid_search\u001b[0m:\u001b[36m184\u001b[0m - \u001b[1mBest cross-validation score: 0.9856\u001b[0m\n",
      "\u001b[32m2025-08-29 00:16:34.940\u001b[0m | \u001b[1mINFO    \u001b[0m | \u001b[36mbrayam_pineda_ml.utils\u001b[0m:\u001b[36mlog_model_info\u001b[0m:\u001b[36m143\u001b[0m - \u001b[1mBest LightGBM type: LGBMClassifier\u001b[0m\n",
      "\u001b[32m2025-08-29 00:16:34.940\u001b[0m | \u001b[1mINFO    \u001b[0m | \u001b[36mbrayam_pineda_ml.utils\u001b[0m:\u001b[36mlog_model_info\u001b[0m:\u001b[36m148\u001b[0m - \u001b[1mBest LightGBM parameters: {'boosting_type': 'gbdt', 'class_weight': None, 'colsample_bytree': 1.0, 'importance_type': 'split', 'learning_rate': 0.01, 'max_depth': -1, 'min_child_samples': 20, 'min_child_weight': 0.001, 'min_split_gain': 0.0, 'n_estimators': 300, 'n_jobs': None, 'num_leaves': 32, 'objective': 'binary', 'random_state': 42, 'reg_alpha': 0.0, 'reg_lambda': 0.0, 'subsample': 1.0, 'subsample_for_bin': 200000, 'subsample_freq': 0, 'metric': 'auc', 'scale_pos_weight': 125.23076923076923, 'verbose': -1, 'bagging_freq': 3, 'feature_fraction': 1.0, 'min_data_in_leaf': 50}\u001b[0m\n",
      "\u001b[32m2025-08-29 00:16:34.941\u001b[0m | \u001b[1mINFO    \u001b[0m | \u001b[36mbrayam_pineda_ml.utils\u001b[0m:\u001b[36mlog_model_info\u001b[0m:\u001b[36m154\u001b[0m - \u001b[1mBest LightGBM has 44 features\u001b[0m\n",
      "\u001b[32m2025-08-29 00:16:34.942\u001b[0m | \u001b[1mINFO    \u001b[0m | \u001b[36mbrayam_pineda_ml.utils\u001b[0m:\u001b[36mlog_model_info\u001b[0m:\u001b[36m155\u001b[0m - \u001b[1mBest LightGBM top 5 feature indices: [28, 42, 24, 13, 27]\u001b[0m\n"
     ]
    },
    {
     "name": "stdout",
     "output_type": "stream",
     "text": [
      "Top 10 best hyperparameter sets and their validation results:\n"
     ]
    },
    {
     "data": {
      "text/html": [
       "<div>\n",
       "<style scoped>\n",
       "    .dataframe tbody tr th:only-of-type {\n",
       "        vertical-align: middle;\n",
       "    }\n",
       "\n",
       "    .dataframe tbody tr th {\n",
       "        vertical-align: top;\n",
       "    }\n",
       "\n",
       "    .dataframe thead th {\n",
       "        text-align: right;\n",
       "    }\n",
       "</style>\n",
       "<table border=\"1\" class=\"dataframe\">\n",
       "  <thead>\n",
       "    <tr style=\"text-align: right;\">\n",
       "      <th></th>\n",
       "      <th>mean_fit_time</th>\n",
       "      <th>std_fit_time</th>\n",
       "      <th>mean_score_time</th>\n",
       "      <th>std_score_time</th>\n",
       "      <th>param_bagging_freq</th>\n",
       "      <th>param_feature_fraction</th>\n",
       "      <th>param_learning_rate</th>\n",
       "      <th>param_max_depth</th>\n",
       "      <th>param_min_data_in_leaf</th>\n",
       "      <th>param_num_leaves</th>\n",
       "      <th>params</th>\n",
       "      <th>split0_test_score</th>\n",
       "      <th>split1_test_score</th>\n",
       "      <th>split2_test_score</th>\n",
       "      <th>split3_test_score</th>\n",
       "      <th>split4_test_score</th>\n",
       "      <th>mean_test_score</th>\n",
       "      <th>std_test_score</th>\n",
       "      <th>rank_test_score</th>\n",
       "    </tr>\n",
       "  </thead>\n",
       "  <tbody>\n",
       "    <tr>\n",
       "      <th>969</th>\n",
       "      <td>6.098316</td>\n",
       "      <td>0.114783</td>\n",
       "      <td>0.016064</td>\n",
       "      <td>0.008416</td>\n",
       "      <td>7</td>\n",
       "      <td>1.0</td>\n",
       "      <td>0.01</td>\n",
       "      <td>-1</td>\n",
       "      <td>50</td>\n",
       "      <td>32</td>\n",
       "      <td>{'bagging_freq': 7, 'feature_fraction': 1.0, '...</td>\n",
       "      <td>0.983527</td>\n",
       "      <td>0.990208</td>\n",
       "      <td>0.983043</td>\n",
       "      <td>0.986207</td>\n",
       "      <td>0.984831</td>\n",
       "      <td>0.985563</td>\n",
       "      <td>0.002570</td>\n",
       "      <td>1</td>\n",
       "    </tr>\n",
       "    <tr>\n",
       "      <th>645</th>\n",
       "      <td>5.819723</td>\n",
       "      <td>0.046785</td>\n",
       "      <td>0.034723</td>\n",
       "      <td>0.050079</td>\n",
       "      <td>5</td>\n",
       "      <td>1.0</td>\n",
       "      <td>0.01</td>\n",
       "      <td>-1</td>\n",
       "      <td>50</td>\n",
       "      <td>32</td>\n",
       "      <td>{'bagging_freq': 5, 'feature_fraction': 1.0, '...</td>\n",
       "      <td>0.983527</td>\n",
       "      <td>0.990208</td>\n",
       "      <td>0.983043</td>\n",
       "      <td>0.986207</td>\n",
       "      <td>0.984831</td>\n",
       "      <td>0.985563</td>\n",
       "      <td>0.002570</td>\n",
       "      <td>1</td>\n",
       "    </tr>\n",
       "    <tr>\n",
       "      <th>321</th>\n",
       "      <td>6.302729</td>\n",
       "      <td>0.629169</td>\n",
       "      <td>0.012425</td>\n",
       "      <td>0.004395</td>\n",
       "      <td>3</td>\n",
       "      <td>1.0</td>\n",
       "      <td>0.01</td>\n",
       "      <td>-1</td>\n",
       "      <td>50</td>\n",
       "      <td>32</td>\n",
       "      <td>{'bagging_freq': 3, 'feature_fraction': 1.0, '...</td>\n",
       "      <td>0.983527</td>\n",
       "      <td>0.990208</td>\n",
       "      <td>0.983043</td>\n",
       "      <td>0.986207</td>\n",
       "      <td>0.984831</td>\n",
       "      <td>0.985563</td>\n",
       "      <td>0.002570</td>\n",
       "      <td>1</td>\n",
       "    </tr>\n",
       "    <tr>\n",
       "      <th>745</th>\n",
       "      <td>5.946890</td>\n",
       "      <td>0.075388</td>\n",
       "      <td>0.012037</td>\n",
       "      <td>0.001298</td>\n",
       "      <td>7</td>\n",
       "      <td>0.6</td>\n",
       "      <td>0.01</td>\n",
       "      <td>8</td>\n",
       "      <td>50</td>\n",
       "      <td>64</td>\n",
       "      <td>{'bagging_freq': 7, 'feature_fraction': 0.6, '...</td>\n",
       "      <td>0.980617</td>\n",
       "      <td>0.989014</td>\n",
       "      <td>0.987001</td>\n",
       "      <td>0.985663</td>\n",
       "      <td>0.985375</td>\n",
       "      <td>0.985534</td>\n",
       "      <td>0.002774</td>\n",
       "      <td>4</td>\n",
       "    </tr>\n",
       "    <tr>\n",
       "      <th>746</th>\n",
       "      <td>6.573960</td>\n",
       "      <td>0.789718</td>\n",
       "      <td>0.044557</td>\n",
       "      <td>0.044628</td>\n",
       "      <td>7</td>\n",
       "      <td>0.6</td>\n",
       "      <td>0.01</td>\n",
       "      <td>8</td>\n",
       "      <td>50</td>\n",
       "      <td>128</td>\n",
       "      <td>{'bagging_freq': 7, 'feature_fraction': 0.6, '...</td>\n",
       "      <td>0.980617</td>\n",
       "      <td>0.989014</td>\n",
       "      <td>0.987001</td>\n",
       "      <td>0.985663</td>\n",
       "      <td>0.985375</td>\n",
       "      <td>0.985534</td>\n",
       "      <td>0.002774</td>\n",
       "      <td>4</td>\n",
       "    </tr>\n",
       "    <tr>\n",
       "      <th>97</th>\n",
       "      <td>5.435875</td>\n",
       "      <td>0.139570</td>\n",
       "      <td>0.011250</td>\n",
       "      <td>0.003634</td>\n",
       "      <td>3</td>\n",
       "      <td>0.6</td>\n",
       "      <td>0.01</td>\n",
       "      <td>8</td>\n",
       "      <td>50</td>\n",
       "      <td>64</td>\n",
       "      <td>{'bagging_freq': 3, 'feature_fraction': 0.6, '...</td>\n",
       "      <td>0.980617</td>\n",
       "      <td>0.989014</td>\n",
       "      <td>0.987001</td>\n",
       "      <td>0.985663</td>\n",
       "      <td>0.985375</td>\n",
       "      <td>0.985534</td>\n",
       "      <td>0.002774</td>\n",
       "      <td>4</td>\n",
       "    </tr>\n",
       "    <tr>\n",
       "      <th>98</th>\n",
       "      <td>5.422071</td>\n",
       "      <td>0.126940</td>\n",
       "      <td>0.009136</td>\n",
       "      <td>0.000442</td>\n",
       "      <td>3</td>\n",
       "      <td>0.6</td>\n",
       "      <td>0.01</td>\n",
       "      <td>8</td>\n",
       "      <td>50</td>\n",
       "      <td>128</td>\n",
       "      <td>{'bagging_freq': 3, 'feature_fraction': 0.6, '...</td>\n",
       "      <td>0.980617</td>\n",
       "      <td>0.989014</td>\n",
       "      <td>0.987001</td>\n",
       "      <td>0.985663</td>\n",
       "      <td>0.985375</td>\n",
       "      <td>0.985534</td>\n",
       "      <td>0.002774</td>\n",
       "      <td>4</td>\n",
       "    </tr>\n",
       "    <tr>\n",
       "      <th>422</th>\n",
       "      <td>5.702067</td>\n",
       "      <td>0.087576</td>\n",
       "      <td>0.011847</td>\n",
       "      <td>0.002028</td>\n",
       "      <td>5</td>\n",
       "      <td>0.6</td>\n",
       "      <td>0.01</td>\n",
       "      <td>8</td>\n",
       "      <td>50</td>\n",
       "      <td>128</td>\n",
       "      <td>{'bagging_freq': 5, 'feature_fraction': 0.6, '...</td>\n",
       "      <td>0.980617</td>\n",
       "      <td>0.989014</td>\n",
       "      <td>0.987001</td>\n",
       "      <td>0.985663</td>\n",
       "      <td>0.985375</td>\n",
       "      <td>0.985534</td>\n",
       "      <td>0.002774</td>\n",
       "      <td>4</td>\n",
       "    </tr>\n",
       "    <tr>\n",
       "      <th>421</th>\n",
       "      <td>5.797953</td>\n",
       "      <td>0.154611</td>\n",
       "      <td>0.023636</td>\n",
       "      <td>0.013954</td>\n",
       "      <td>5</td>\n",
       "      <td>0.6</td>\n",
       "      <td>0.01</td>\n",
       "      <td>8</td>\n",
       "      <td>50</td>\n",
       "      <td>64</td>\n",
       "      <td>{'bagging_freq': 5, 'feature_fraction': 0.6, '...</td>\n",
       "      <td>0.980617</td>\n",
       "      <td>0.989014</td>\n",
       "      <td>0.987001</td>\n",
       "      <td>0.985663</td>\n",
       "      <td>0.985375</td>\n",
       "      <td>0.985534</td>\n",
       "      <td>0.002774</td>\n",
       "      <td>4</td>\n",
       "    </tr>\n",
       "    <tr>\n",
       "      <th>744</th>\n",
       "      <td>5.731270</td>\n",
       "      <td>0.755770</td>\n",
       "      <td>0.010077</td>\n",
       "      <td>0.000313</td>\n",
       "      <td>7</td>\n",
       "      <td>0.6</td>\n",
       "      <td>0.01</td>\n",
       "      <td>8</td>\n",
       "      <td>50</td>\n",
       "      <td>32</td>\n",
       "      <td>{'bagging_freq': 7, 'feature_fraction': 0.6, '...</td>\n",
       "      <td>0.980617</td>\n",
       "      <td>0.988843</td>\n",
       "      <td>0.986933</td>\n",
       "      <td>0.985791</td>\n",
       "      <td>0.985407</td>\n",
       "      <td>0.985518</td>\n",
       "      <td>0.002727</td>\n",
       "      <td>10</td>\n",
       "    </tr>\n",
       "  </tbody>\n",
       "</table>\n",
       "</div>"
      ],
      "text/plain": [
       "     mean_fit_time  std_fit_time  mean_score_time  std_score_time  \\\n",
       "969       6.098316      0.114783         0.016064        0.008416   \n",
       "645       5.819723      0.046785         0.034723        0.050079   \n",
       "321       6.302729      0.629169         0.012425        0.004395   \n",
       "745       5.946890      0.075388         0.012037        0.001298   \n",
       "746       6.573960      0.789718         0.044557        0.044628   \n",
       "97        5.435875      0.139570         0.011250        0.003634   \n",
       "98        5.422071      0.126940         0.009136        0.000442   \n",
       "422       5.702067      0.087576         0.011847        0.002028   \n",
       "421       5.797953      0.154611         0.023636        0.013954   \n",
       "744       5.731270      0.755770         0.010077        0.000313   \n",
       "\n",
       "     param_bagging_freq  param_feature_fraction  param_learning_rate  \\\n",
       "969                   7                     1.0                 0.01   \n",
       "645                   5                     1.0                 0.01   \n",
       "321                   3                     1.0                 0.01   \n",
       "745                   7                     0.6                 0.01   \n",
       "746                   7                     0.6                 0.01   \n",
       "97                    3                     0.6                 0.01   \n",
       "98                    3                     0.6                 0.01   \n",
       "422                   5                     0.6                 0.01   \n",
       "421                   5                     0.6                 0.01   \n",
       "744                   7                     0.6                 0.01   \n",
       "\n",
       "     param_max_depth  param_min_data_in_leaf  param_num_leaves  \\\n",
       "969               -1                      50                32   \n",
       "645               -1                      50                32   \n",
       "321               -1                      50                32   \n",
       "745                8                      50                64   \n",
       "746                8                      50               128   \n",
       "97                 8                      50                64   \n",
       "98                 8                      50               128   \n",
       "422                8                      50               128   \n",
       "421                8                      50                64   \n",
       "744                8                      50                32   \n",
       "\n",
       "                                                params  split0_test_score  \\\n",
       "969  {'bagging_freq': 7, 'feature_fraction': 1.0, '...           0.983527   \n",
       "645  {'bagging_freq': 5, 'feature_fraction': 1.0, '...           0.983527   \n",
       "321  {'bagging_freq': 3, 'feature_fraction': 1.0, '...           0.983527   \n",
       "745  {'bagging_freq': 7, 'feature_fraction': 0.6, '...           0.980617   \n",
       "746  {'bagging_freq': 7, 'feature_fraction': 0.6, '...           0.980617   \n",
       "97   {'bagging_freq': 3, 'feature_fraction': 0.6, '...           0.980617   \n",
       "98   {'bagging_freq': 3, 'feature_fraction': 0.6, '...           0.980617   \n",
       "422  {'bagging_freq': 5, 'feature_fraction': 0.6, '...           0.980617   \n",
       "421  {'bagging_freq': 5, 'feature_fraction': 0.6, '...           0.980617   \n",
       "744  {'bagging_freq': 7, 'feature_fraction': 0.6, '...           0.980617   \n",
       "\n",
       "     split1_test_score  split2_test_score  split3_test_score  \\\n",
       "969           0.990208           0.983043           0.986207   \n",
       "645           0.990208           0.983043           0.986207   \n",
       "321           0.990208           0.983043           0.986207   \n",
       "745           0.989014           0.987001           0.985663   \n",
       "746           0.989014           0.987001           0.985663   \n",
       "97            0.989014           0.987001           0.985663   \n",
       "98            0.989014           0.987001           0.985663   \n",
       "422           0.989014           0.987001           0.985663   \n",
       "421           0.989014           0.987001           0.985663   \n",
       "744           0.988843           0.986933           0.985791   \n",
       "\n",
       "     split4_test_score  mean_test_score  std_test_score  rank_test_score  \n",
       "969           0.984831         0.985563        0.002570                1  \n",
       "645           0.984831         0.985563        0.002570                1  \n",
       "321           0.984831         0.985563        0.002570                1  \n",
       "745           0.985375         0.985534        0.002774                4  \n",
       "746           0.985375         0.985534        0.002774                4  \n",
       "97            0.985375         0.985534        0.002774                4  \n",
       "98            0.985375         0.985534        0.002774                4  \n",
       "422           0.985375         0.985534        0.002774                4  \n",
       "421           0.985375         0.985534        0.002774                4  \n",
       "744           0.985407         0.985518        0.002727               10  "
      ]
     },
     "metadata": {},
     "output_type": "display_data"
    }
   ],
   "source": [
    "best_model, grid_search, top_10_summary = trainer.train_with_grid_search(\n",
    "    X_train_scaled, X_val_scaled, y_train, y_val,\n",
    "    param_grid, cv=5\n",
    ")\n",
    "\n",
    "print(\"Top 10 best hyperparameter sets and their validation results:\")\n",
    "display(top_10_summary)"
   ]
  },
  {
   "cell_type": "markdown",
   "metadata": {
    "id": "q43YtqpdeniY"
   },
   "source": [
    "### J.4 Model Technical Performance\n",
    "\n",
    "> Provide some explanations on model performance\n"
   ]
  },
  {
   "cell_type": "code",
   "execution_count": 30,
   "metadata": {
    "id": "x1Q3oxoNhez5"
   },
   "outputs": [
    {
     "name": "stdout",
     "output_type": "stream",
     "text": [
      "Validation AUC with best model: 0.9922\n"
     ]
    }
   ],
   "source": [
    "val_predictions = best_model.predict_proba(X_val_scaled)[:, 1]\n",
    "val_auc = roc_auc_score(y_val, val_predictions)\n",
    "print(f\"Validation AUC with best model: {val_auc:.4f}\")"
   ]
  },
  {
   "cell_type": "code",
   "execution_count": 32,
   "metadata": {},
   "outputs": [
    {
     "data": {
      "image/png": "[encoded data removed]",
      "text/plain": [
       "<Figure size 800x600 with 1 Axes>"
      ]
     },
     "metadata": {},
     "output_type": "display_data"
    }
   ],
   "source": [
    "import matplotlib.pyplot as plt\n",
    "from sklearn.metrics import roc_curve, auc\n",
    "\n",
    "# Get predicted probabilities for the positive class\n",
    "y_val_proba = best_model.predict_proba(X_val_scaled)[:, 1]\n",
    "\n",
    "# Compute ROC curve and ROC area\n",
    "fpr, tpr, thresholds = roc_curve(y_val, y_val_proba)\n",
    "roc_auc = auc(fpr, tpr)\n",
    "\n",
    "plt.figure(figsize=(8, 6))\n",
    "plt.plot(fpr, tpr, color='darkorange', lw=2, label=f'ROC curve (AUC = {roc_auc:.4f})')\n",
    "plt.plot([0, 1], [0, 1], color='navy', lw=2, linestyle='--')\n",
    "plt.xlim([0.0, 1.0])\n",
    "plt.ylim([0.0, 1.05])\n",
    "plt.xlabel('False Positive Rate')\n",
    "plt.ylabel('True Positive Rate')\n",
    "plt.title('Receiver Operating Characteristic (ROC) Curve')\n",
    "plt.legend(loc=\"lower right\")\n",
    "plt.grid(True)\n",
    "plt.show()"
   ]
  },
  {
   "cell_type": "code",
   "execution_count": 38,
   "metadata": {},
   "outputs": [
    {
     "name": "stdout",
     "output_type": "stream",
     "text": [
      "Probability range: 0.0003 to 0.9480\n"
     ]
    }
   ],
   "source": [
    "# Export predictions for X_test dataset\n",
    "# Get predicted probabilities for the positive class (drafted)\n",
    "y_test_proba = best_model.predict_proba(X_test_scaled)[:, 1]\n",
    "\n",
    "# Create submission DataFrame\n",
    "submission_df = pd.DataFrame({\n",
    "    'player_id': X_test.index,  # player_id is the index\n",
    "    'drafted': y_test_proba\n",
    "})\n",
    "\n",
    "# Save to CSV file\n",
    "submission_df.to_csv('../Data/processed/submission_2.csv', index=False)\n",
    "# Save the trained model to the 'models' directory\n",
    "joblib.dump(best_model, '../models/25587799_lightgbm_finetuned_model.joblib')\n",
    "print(f\"Probability range: {submission_df['drafted'].min():.4f} to {submission_df['drafted'].max():.4f}\")"
   ]
  },
  {
   "cell_type": "code",
   "execution_count": 45,
   "metadata": {
    "id": "_YbQldshHk_3"
   },
   "outputs": [],
   "source": [
    "# <Student to fill this section>\n",
    "model_performance_explanations = \"\"\"\n",
    "The model shows a very high AUROC (≈0.99), which initially suggests excellent discriminative performance. However, this result is misleading because of the strong class imbalance in the dataset, where drafted players represent only a very small fraction of the total. In practice, the model predicts almost exclusively the majority class (not drafted), failing to identify any drafted players. This explains why the AUROC appears strong—since predicting the majority class still achieves high accuracy in ranking—but the model has little real-world value for the intended task. The imbalance skews performance metrics, highlighting the need for alternative evaluation criteria (e.g., precision, recall, F1-score for the drafted class) and imbalance-handling strategies such as re-sampling, class weights, or tailored algorithms.\"\"\""
   ]
  },
  {
   "cell_type": "code",
   "execution_count": 46,
   "metadata": {
    "id": "-MkLnLzVHlDO"
   },
   "outputs": [
    {
     "data": {
      "text/html": [
       "<p style=\"color:grey\">model_performance_explanations</p><h3 font-size: 3em>\n",
       "The model shows a very high AUROC (≈0.99), which initially suggests excellent discriminative performance. However, this result is misleading because of the strong class imbalance in the dataset, where drafted players represent only a very small fraction of the total. In practice, the model predicts almost exclusively the majority class (not drafted), failing to identify any drafted players. This explains why the AUROC appears strong—since predicting the majority class still achieves high accuracy in ranking—but the model has little real-world value for the intended task. The imbalance skews performance metrics, highlighting the need for alternative evaluation criteria (e.g., precision, recall, F1-score for the drafted class) and imbalance-handling strategies such as re-sampling, class weights, or tailored algorithms.</h3>"
      ],
      "text/plain": [
       "<IPython.core.display.HTML object>"
      ]
     },
     "metadata": {},
     "output_type": "display_data"
    }
   ],
   "source": [
    "# Do not modify this code\n",
    "print_tile(size=\"h3\", key='model_performance_explanations', value=model_performance_explanations)"
   ]
  },
  {
   "cell_type": "markdown",
   "metadata": {
    "id": "W1HgZMPcmtu7"
   },
   "source": [
    "### J.5 Business Impact from Current Model Performance\n",
    "\n",
    "> Provide some analysis on the model impacts from the business point of view\n"
   ]
  },
  {
   "cell_type": "code",
   "execution_count": null,
   "metadata": {
    "id": "XGq2RWyqmuKM"
   },
   "outputs": [],
   "source": [
    "# <Student to fill this section>"
   ]
  },
  {
   "cell_type": "code",
   "execution_count": 47,
   "metadata": {
    "id": "7bcCHiP-Hozj"
   },
   "outputs": [],
   "source": [
    "# <Student to fill this section>\n",
    "business_impacts_explanations = \"\"\"\n",
    "The experiments so far show that while the model achieves a very high AUROC, it fails to identify drafted players, predicting almost everyone as not drafted. This result directly conflicts with the business objective, which is to flag players with a meaningful probability of being drafted. The main business impact of such incorrect results is that promising athletes would be systematically overlooked, reducing the model’s utility for scouting or decision support. Misclassifying non-drafted players as drafted would also have consequences, but those are less severe than consistently missing the small group of true positives. Therefore, the most critical issue is the model’s inability to recognize the minority class, which undermines the value the business seeks from predictive analytics. To deliver actionable insights, the model must improve recall and precision for drafted players, even at the cost of a lower overall AUROC.\"\"\""
   ]
  },
  {
   "cell_type": "code",
   "execution_count": 48,
   "metadata": {
    "id": "RQ3lJGAnHo3O"
   },
   "outputs": [
    {
     "data": {
      "text/html": [
       "<p style=\"color:grey\">business_impacts_explanations</p><h3 font-size: 3em>\n",
       "The experiments so far show that while the model achieves a very high AUROC, it fails to identify drafted players, predicting almost everyone as not drafted. This result directly conflicts with the business objective, which is to flag players with a meaningful probability of being drafted. The main business impact of such incorrect results is that promising athletes would be systematically overlooked, reducing the model’s utility for scouting or decision support. Misclassifying non-drafted players as drafted would also have consequences, but those are less severe than consistently missing the small group of true positives. Therefore, the most critical issue is the model’s inability to recognize the minority class, which undermines the value the business seeks from predictive analytics. To deliver actionable insights, the model must improve recall and precision for drafted players, even at the cost of a lower overall AUROC.</h3>"
      ],
      "text/plain": [
       "<IPython.core.display.HTML object>"
      ]
     },
     "metadata": {},
     "output_type": "display_data"
    }
   ],
   "source": [
    "# Do not modify this code\n",
    "print_tile(size=\"h3\", key='business_impacts_explanations', value=business_impacts_explanations)"
   ]
  },
  {
   "cell_type": "markdown",
   "metadata": {
    "id": "mp1Ie9o8nDl1"
   },
   "source": [
    "## H. Project Outcomes"
   ]
  },
  {
   "cell_type": "code",
   "execution_count": 49,
   "metadata": {
    "id": "AvFNheh1HtPb"
   },
   "outputs": [],
   "source": [
    "# <Student to fill this section>\n",
    "experiment_outcome = \"Hypothesis Rejected\" # Either 'Hypothesis Confirmed', 'Hypothesis Partially Confirmed' or 'Hypothesis Rejected'"
   ]
  },
  {
   "cell_type": "code",
   "execution_count": 50,
   "metadata": {
    "id": "23bFWNIVHtTU"
   },
   "outputs": [
    {
     "data": {
      "text/html": [
       "<p style=\"color:grey\">experiment_outcomes_explanations</p><h2 font-size: 3em>Hypothesis Rejected</h2>"
      ],
      "text/plain": [
       "<IPython.core.display.HTML object>"
      ]
     },
     "metadata": {},
     "output_type": "display_data"
    }
   ],
   "source": [
    "# Do not modify this code\n",
    "print_tile(size=\"h2\", key='experiment_outcomes_explanations', value=experiment_outcome)"
   ]
  },
  {
   "cell_type": "code",
   "execution_count": 51,
   "metadata": {
    "id": "iFF8wsz6HteA"
   },
   "outputs": [],
   "source": [
    "# <Student to fill this section>\n",
    "experiment_results_explanations = \"\"\"\n",
    "The experiment showed that while the model delivers a very high AUROC, it fails to meet the business objective because it predicts only the majority class and misses all drafted players. This outcome highlights that AUROC alone is not a sufficient metric under strong imbalance, and evaluation must shift toward class-specific metrics such as F1 and precision–recall. The results suggest the approach is not a dead end—there is clear separability in the data—but further experimentation is needed. Next steps include testing XGBoost with the current hyperparameters as a guide, adjusting for class imbalance through weights or resampling, removing problematic outliers, and adopting F1 alongside AUROC as evaluation criteria. These refinements are expected to improve the model’s ability to identify the minority drafted players, which is critical for the business goal.\n",
    "\"\"\""
   ]
  },
  {
   "cell_type": "code",
   "execution_count": 52,
   "metadata": {
    "id": "QpWzEhX2HthW"
   },
   "outputs": [
    {
     "data": {
      "text/html": [
       "<p style=\"color:grey\">experiment_results_explanations</p><h2 font-size: 3em>\n",
       "The experiment showed that while the model delivers a very high AUROC, it fails to meet the business objective because it predicts only the majority class and misses all drafted players. This outcome highlights that AUROC alone is not a sufficient metric under strong imbalance, and evaluation must shift toward class-specific metrics such as F1 and precision–recall. The results suggest the approach is not a dead end—there is clear separability in the data—but further experimentation is needed. Next steps include testing XGBoost with the current hyperparameters as a guide, adjusting for class imbalance through weights or resampling, removing problematic outliers, and adopting F1 alongside AUROC as evaluation criteria. These refinements are expected to improve the model’s ability to identify the minority drafted players, which is critical for the business goal.\n",
       "</h2>"
      ],
      "text/plain": [
       "<IPython.core.display.HTML object>"
      ]
     },
     "metadata": {},
     "output_type": "display_data"
    }
   ],
   "source": [
    "# Do not modify this code\n",
    "print_tile(size=\"h2\", key='experiment_results_explanations', value=experiment_results_explanations)"
   ]
  },
  {
   "cell_type": "code",
   "execution_count": null,
   "metadata": {},
   "outputs": [],
   "source": []
  }
 ],
 "metadata": {
  "colab": {
   "provenance": [
    {
     "file_id": "13MHsQlFmfLuY1rWjvW73WSaDUaRPENW4",
     "timestamp": 1680399055727
    }
   ],
   "toc_visible": true
  },
  "kernelspec": {
   "display_name": ".venv",
   "language": "python",
   "name": "python3"
  },
  "language_info": {
   "codemirror_mode": {
    "name": "ipython",
    "version": 3
   },
   "file_extension": ".py",
   "mimetype": "text/x-python",
   "name": "python",
   "nbconvert_exporter": "python",
   "pygments_lexer": "ipython3",
   "version": "3.12.3"
  }
 },
 "nbformat": 4,
 "nbformat_minor": 0
}
