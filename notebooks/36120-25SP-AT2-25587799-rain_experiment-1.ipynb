{
 "cells": [
  {
   "cell_type": "markdown",
   "metadata": {
    "id": "uQ6wc2HE0pke"
   },
   "source": [
    "# **Experiment Notebook**\n",
    "\n"
   ]
  },
  {
   "cell_type": "code",
   "execution_count": 1,
   "metadata": {
    "id": "qNOA146K2c6f"
   },
   "outputs": [],
   "source": [
    "# Do not modify this code\n",
    "!pip install -q utstd\n",
    "\n",
    "from utstd.ipyrenders import *"
   ]
  },
  {
   "cell_type": "code",
   "execution_count": 2,
   "metadata": {
    "id": "6FneOmBfka9G"
   },
   "outputs": [],
   "source": [
    "# Do not modify this code\n",
    "import warnings\n",
    "warnings.simplefilter(action='ignore')"
   ]
  },
  {
   "cell_type": "markdown",
   "metadata": {
    "id": "mXFKfa2tp1ch"
   },
   "source": [
    "## 0. Import Packages"
   ]
  },
  {
   "cell_type": "code",
   "execution_count": 5,
   "metadata": {},
   "outputs": [
    {
     "ename": "ImportError",
     "evalue": "cannot import name 'WeatherDataProcessor' from 'brayam_pineda_ml' (c:\\Users\\Brayam Pineda\\anaconda3\\envs\\aml-assignment-2\\Lib\\site-packages\\brayam_pineda_ml\\__init__.py)",
     "output_type": "error",
     "traceback": [
      "\u001b[31m---------------------------------------------------------------------------\u001b[39m",
      "\u001b[31mImportError\u001b[39m                               Traceback (most recent call last)",
      "\u001b[36mCell\u001b[39m\u001b[36m \u001b[39m\u001b[32mIn[5]\u001b[39m\u001b[32m, line 7\u001b[39m\n\u001b[32m      4\u001b[39m sys.path.insert(\u001b[32m0\u001b[39m, os.path.abspath(\u001b[33m'\u001b[39m\u001b[33m../src\u001b[39m\u001b[33m'\u001b[39m))\n\u001b[32m      6\u001b[39m \u001b[38;5;66;03m# Import directly from the module to avoid conflicts with installed package\u001b[39;00m\n\u001b[32m----> \u001b[39m\u001b[32m7\u001b[39m \u001b[38;5;28;01mfrom\u001b[39;00m\u001b[38;5;250m \u001b[39m\u001b[34;01mbrayam_pineda_ml\u001b[39;00m\u001b[38;5;250m \u001b[39m\u001b[38;5;28;01mimport\u001b[39;00m WeatherDataProcessor\n\u001b[32m      8\u001b[39m \u001b[38;5;28;01mimport\u001b[39;00m\u001b[38;5;250m \u001b[39m\u001b[34;01mpandas\u001b[39;00m\u001b[38;5;250m \u001b[39m\u001b[38;5;28;01mas\u001b[39;00m\u001b[38;5;250m \u001b[39m\u001b[34;01mpd\u001b[39;00m\n\u001b[32m      9\u001b[39m \u001b[38;5;28;01mimport\u001b[39;00m\u001b[38;5;250m \u001b[39m\u001b[34;01mnumpy\u001b[39;00m\u001b[38;5;250m \u001b[39m\u001b[38;5;28;01mas\u001b[39;00m\u001b[38;5;250m \u001b[39m\u001b[34;01mnp\u001b[39;00m\n",
      "\u001b[31mImportError\u001b[39m: cannot import name 'WeatherDataProcessor' from 'brayam_pineda_ml' (c:\\Users\\Brayam Pineda\\anaconda3\\envs\\aml-assignment-2\\Lib\\site-packages\\brayam_pineda_ml\\__init__.py)"
     ]
    }
   ],
   "source": [
    "# Import the local development version\n",
    "import sys\n",
    "import os\n",
    "sys.path.insert(0, os.path.abspath('../src'))\n",
    "\n",
    "# Import directly from the module to avoid conflicts with installed package\n",
    "from brayam_pineda_ml import WeatherDataProcessor\n",
    "import pandas as pd\n",
    "import numpy as np"
   ]
  },
  {
   "cell_type": "code",
   "execution_count": 5,
   "metadata": {},
   "outputs": [
    {
     "name": "stdout",
     "output_type": "stream",
     "text": [
      "✅ WeatherDataProcessor imported successfully!\n"
     ]
    },
    {
     "ename": "NameError",
     "evalue": "name 'WeatherDataProcessor' is not defined",
     "output_type": "error",
     "traceback": [
      "\u001b[31m---------------------------------------------------------------------------\u001b[39m",
      "\u001b[31mNameError\u001b[39m                                 Traceback (most recent call last)",
      "\u001b[36mCell\u001b[39m\u001b[36m \u001b[39m\u001b[32mIn[5]\u001b[39m\u001b[32m, line 3\u001b[39m\n\u001b[32m      1\u001b[39m \u001b[38;5;66;03m# Test the import\u001b[39;00m\n\u001b[32m      2\u001b[39m \u001b[38;5;28mprint\u001b[39m(\u001b[33m\"\u001b[39m\u001b[33m✅ WeatherDataProcessor imported successfully!\u001b[39m\u001b[33m\"\u001b[39m)\n\u001b[32m----> \u001b[39m\u001b[32m3\u001b[39m \u001b[38;5;28mprint\u001b[39m(\u001b[33mf\u001b[39m\u001b[33m\"\u001b[39m\u001b[33mAvailable methods: \u001b[39m\u001b[38;5;132;01m{\u001b[39;00m[method\u001b[38;5;250m \u001b[39m\u001b[38;5;28;01mfor\u001b[39;00m\u001b[38;5;250m \u001b[39mmethod\u001b[38;5;250m \u001b[39m\u001b[38;5;129;01min\u001b[39;00m\u001b[38;5;250m \u001b[39m\u001b[38;5;28mdir\u001b[39m(\u001b[43mWeatherDataProcessor\u001b[49m)\u001b[38;5;250m \u001b[39m\u001b[38;5;28;01mif\u001b[39;00m\u001b[38;5;250m \u001b[39m\u001b[38;5;129;01mnot\u001b[39;00m\u001b[38;5;250m \u001b[39mmethod.startswith(\u001b[33m'\u001b[39m\u001b[33m_\u001b[39m\u001b[33m'\u001b[39m)]\u001b[38;5;132;01m}\u001b[39;00m\u001b[33m\"\u001b[39m)\n",
      "\u001b[31mNameError\u001b[39m: name 'WeatherDataProcessor' is not defined"
     ]
    }
   ],
   "source": [
    "# Test the import\n",
    "print(\"✅ WeatherDataProcessor imported successfully!\")\n",
    "print(f\"Available methods: {[method for method in dir(WeatherDataProcessor) if not method.startswith('_')]}\")\n"
   ]
  },
  {
   "cell_type": "markdown",
   "metadata": {},
   "source": [
    "## Using the New Library for Data Processing\n",
    "\n",
    "Instead of manually processing the data, we can now use the WeatherDataProcessor library:\n"
   ]
  },
  {
   "cell_type": "code",
   "execution_count": null,
   "metadata": {},
   "outputs": [],
   "source": [
    "# Initialize the weather data processor\n",
    "processor = WeatherDataProcessor(\n",
    "    lat=-33.8678,  # Sydney latitude\n",
    "    lon=151.2073,  # Sydney longitude\n",
    "    timezone=\"Australia/Sydney\"\n",
    ")\n",
    "\n",
    "# Run the complete pipeline for classification (rain prediction)\n",
    "data = processor.process_full_pipeline(\n",
    "    start_date=\"2016-01-01\",\n",
    "    end_date=\"2024-12-31\",\n",
    "    task_type=\"classification\",\n",
    "    target_name=\"target_rain\"\n",
    ")\n",
    "\n",
    "print(\"✅ Data processing complete!\")\n",
    "print(f\"Training set: {data['X_train'].shape}\")\n",
    "print(f\"Validation set: {data['X_val'].shape}\")\n",
    "print(f\"Test set: {data['X_test'].shape}\")\n",
    "print(f\"Number of features: {len(data['feature_names'])}\")\n",
    "print(f\"Target variable: {data['target_name']}\")\n",
    "print(f\"Class distribution: {data['y_train'].value_counts().to_dict()}\")\n"
   ]
  },
  {
   "cell_type": "code",
   "execution_count": null,
   "metadata": {
    "id": "GBEAwdncnlAx"
   },
   "outputs": [],
   "source": [
    "# <Student to fill this section>\n",
    "# Core Data Science Libraries\n",
    "import pandas as pd\n",
    "import numpy as np\n",
    "import matplotlib.pyplot as plt\n",
    "import seaborn as sns\n",
    "\n",
    "# Data Collection and API\n",
    "import requests\n",
    "\n",
    "# Machine Learning - Core\n",
    "from sklearn.preprocessing import StandardScaler, MinMaxScaler\n",
    "from sklearn.model_selection import (\n",
    "    RandomizedSearchCV, \n",
    "    PredefinedSplit, \n",
    "    train_test_split, \n",
    "    cross_val_score, \n",
    "    TimeSeriesSplit\n",
    ")\n",
    "from sklearn.metrics import (\n",
    "    roc_auc_score, \n",
    "    average_precision_score, \n",
    "    f1_score, \n",
    "    accuracy_score,\n",
    "    mean_squared_error,\n",
    "    mean_absolute_error,\n",
    "    r2_score,\n",
    "    classification_report\n",
    ")\n",
    "from sklearn.ensemble import (\n",
    "    RandomForestClassifier, \n",
    "    GradientBoostingClassifier, \n",
    "    VotingClassifier\n",
    ")\n",
    "from sklearn.dummy import DummyClassifier\n",
    "from sklearn.impute import SimpleImputer\n",
    "\n",
    "# Machine Learning - Advanced\n",
    "import xgboost as xgb\n",
    "from xgboost import XGBClassifier, XGBRegressor\n",
    "from lightgbm import LGBMClassifier\n",
    "\n",
    "# Deep Learning\n",
    "import tensorflow as tf\n",
    "from tensorflow.keras.models import Sequential\n",
    "from tensorflow.keras.layers import LSTM, Dense, Dropout, BatchNormalization\n",
    "from tensorflow.keras.optimizers import Adam\n",
    "from tensorflow.keras.callbacks import EarlyStopping, ReduceLROnPlateau\n",
    "\n",
    "# Data Visualization and Analysis\n",
    "from pandas.plotting import autocorrelation_plot, lag_plot\n",
    "\n",
    "# Utilities\n",
    "import warnings"
   ]
  },
  {
   "cell_type": "markdown",
   "metadata": {
    "id": "tQgxLRrvjiJb"
   },
   "source": [
    "---\n",
    "## A. Project Description\n"
   ]
  },
  {
   "cell_type": "code",
   "execution_count": 4,
   "metadata": {
    "id": "Je1EzzfFD5hj"
   },
   "outputs": [],
   "source": [
    "# <Student to fill this section>\n",
    "student_name = \"Brayam Alexander Pineda Miranda\"\n",
    "student_id = \"25587799\""
   ]
  },
  {
   "cell_type": "code",
   "execution_count": 5,
   "metadata": {
    "id": "pdKiYvFWD5my"
   },
   "outputs": [
    {
     "data": {
      "text/html": [
       "<p style=\"color:grey\">student_name</p><h1 font-size: 3em>Brayam Alexander Pineda Miranda</h1>"
      ],
      "text/plain": [
       "<IPython.core.display.HTML object>"
      ]
     },
     "metadata": {},
     "output_type": "display_data"
    }
   ],
   "source": [
    "# Do not modify this code\n",
    "print_tile(size=\"h1\", key='student_name', value=student_name)"
   ]
  },
  {
   "cell_type": "code",
   "execution_count": 6,
   "metadata": {
    "id": "9KTEbRjqD5o_"
   },
   "outputs": [
    {
     "data": {
      "text/html": [
       "<p style=\"color:grey\">student_id</p><h1 font-size: 3em>25587799</h1>"
      ],
      "text/plain": [
       "<IPython.core.display.HTML object>"
      ]
     },
     "metadata": {},
     "output_type": "display_data"
    }
   ],
   "source": [
    "# Do not modify this code\n",
    "print_tile(size=\"h1\", key='student_id', value=student_id)"
   ]
  },
  {
   "cell_type": "markdown",
   "metadata": {
    "id": "4q1Bzcejvfpm"
   },
   "source": [
    "---\n",
    "## B. Business Understanding"
   ]
  },
  {
   "cell_type": "code",
   "execution_count": 7,
   "metadata": {
    "id": "Mmo6apC9EEv8"
   },
   "outputs": [],
   "source": [
    "# <Student to fill this section>\n",
    "business_use_case_description = \"\"\"\n",
    "The goal of the project is to provide a reliable predictive model that determines whether it will rain in Sydney exactly seven days ahead. For the business, this translates into actionable insights that support planning and resource allocation. Accurate forecasts of rain events a week in advance help mitigate operational risks, reduce unnecessary costs, and improve decision-making in areas such as logistics, event planning, and resource management. The model’s value lies in its ability to anticipate conditions that directly affect customer satisfaction, efficiency, and safety.\n",
    "\"\"\""
   ]
  },
  {
   "cell_type": "code",
   "execution_count": 8,
   "metadata": {
    "id": "bgb0DkG2EE2e"
   },
   "outputs": [
    {
     "data": {
      "text/html": [
       "<p style=\"color:grey\">business_use_case_description</p><h3 font-size: 3em>\n",
       "The goal of the project is to provide a reliable predictive model that determines whether it will rain in Sydney exactly seven days ahead. For the business, this translates into actionable insights that support planning and resource allocation. Accurate forecasts of rain events a week in advance help mitigate operational risks, reduce unnecessary costs, and improve decision-making in areas such as logistics, event planning, and resource management. The model’s value lies in its ability to anticipate conditions that directly affect customer satisfaction, efficiency, and safety.\n",
       "</h3>"
      ],
      "text/plain": [
       "<IPython.core.display.HTML object>"
      ]
     },
     "metadata": {},
     "output_type": "display_data"
    }
   ],
   "source": [
    "# Do not modify this code\n",
    "print_tile(size=\"h3\", key='business_use_case_description', value=business_use_case_description)"
   ]
  },
  {
   "cell_type": "code",
   "execution_count": 9,
   "metadata": {
    "id": "29Yqk3d2EE8q"
   },
   "outputs": [],
   "source": [
    "# <Student to fill this section>\n",
    "business_objectives = \"\"\"\n",
    "Accurate results will allow the business to anticipate rain with confidence, leading to better scheduling, reduced weather-related disruptions, and improved allocation of resources. This increases efficiency and strengthens trust in the forecasts as a decision-making tool. Incorrect results, on the other hand, carry tangible costs: false positives may lead to unnecessary cancellations or over-preparation, while false negatives expose the business to operational risks, losses, and reputational damage due to unanticipated rain events.\n",
    "\"\"\""
   ]
  },
  {
   "cell_type": "code",
   "execution_count": 10,
   "metadata": {
    "id": "sSu_8J96EFDs"
   },
   "outputs": [
    {
     "data": {
      "text/html": [
       "<p style=\"color:grey\">business_objectives</p><h3 font-size: 3em>\n",
       "Accurate results will allow the business to anticipate rain with confidence, leading to better scheduling, reduced weather-related disruptions, and improved allocation of resources. This increases efficiency and strengthens trust in the forecasts as a decision-making tool. Incorrect results, on the other hand, carry tangible costs: false positives may lead to unnecessary cancellations or over-preparation, while false negatives expose the business to operational risks, losses, and reputational damage due to unanticipated rain events.\n",
       "</h3>"
      ],
      "text/plain": [
       "<IPython.core.display.HTML object>"
      ]
     },
     "metadata": {},
     "output_type": "display_data"
    }
   ],
   "source": [
    "# Do not modify this code\n",
    "print_tile(size=\"h3\", key='business_objectives', value=business_objectives)"
   ]
  },
  {
   "cell_type": "code",
   "execution_count": 11,
   "metadata": {
    "id": "Hf4ThY5cEF5W"
   },
   "outputs": [],
   "source": [
    "# <Student to fill this section>\n",
    "stakeholders_expectations_explanations = \"\"\"\n",
    "The results will be used as an input for planning and operational decisions where rain risk directly affects outcomes. The primary users of the predictions will be managers and planners in sectors such as logistics, outdoor event coordination, and resource allocation. Secondary users include operational teams who must act on the forecast, such as staff scheduling or equipment deployment. The predictions will also impact end customers and participants, as accurate forecasts reduce disruptions and improve service reliability.\n",
    "\"\"\""
   ]
  },
  {
   "cell_type": "code",
   "execution_count": 12,
   "metadata": {
    "id": "jH9a2X70EF8M"
   },
   "outputs": [
    {
     "data": {
      "text/html": [
       "<p style=\"color:grey\">stakeholders_expectations_explanations</p><h3 font-size: 3em>\n",
       "The results will be used as an input for planning and operational decisions where rain risk directly affects outcomes. The primary users of the predictions will be managers and planners in sectors such as logistics, outdoor event coordination, and resource allocation. Secondary users include operational teams who must act on the forecast, such as staff scheduling or equipment deployment. The predictions will also impact end customers and participants, as accurate forecasts reduce disruptions and improve service reliability.\n",
       "</h3>"
      ],
      "text/plain": [
       "<IPython.core.display.HTML object>"
      ]
     },
     "metadata": {},
     "output_type": "display_data"
    }
   ],
   "source": [
    "# Do not modify this code\n",
    "print_tile(size=\"h3\", key='stakeholders_expectations_explanations', value=stakeholders_expectations_explanations)"
   ]
  },
  {
   "cell_type": "markdown",
   "metadata": {
    "id": "P0zsEPshwy1K"
   },
   "source": [
    "---\n",
    "## C. Data Understanding"
   ]
  },
  {
   "cell_type": "markdown",
   "metadata": {
    "id": "sGMWhKSbUl63"
   },
   "source": [
    "### C.1   Load Datasets\n"
   ]
  },
  {
   "cell_type": "code",
   "execution_count": 13,
   "metadata": {
    "id": "NKgOzSn-w0eq"
   },
   "outputs": [],
   "source": [
    "# <Student to fill this section>\n",
    "import requests\n",
    "import pandas as pd\n",
    "\n",
    "# Sydney coordinates\n",
    "LAT, LON = -33.8678, 151.2073\n",
    "TZ = \"Australia/Sydney\"\n",
    "\n",
    "# Date range (only up to 2024 for training/validation)\n",
    "START, END = \"2016-01-01\", \"2024-12-31\"\n",
    "\n",
    "# Daily variables to collect\n",
    "DAILY_VARS = [\n",
    "    \"weather_code\",\n",
    "    \"temperature_2m_max\", \"temperature_2m_min\",\n",
    "    \"apparent_temperature_max\", \"apparent_temperature_min\",\n",
    "    \"precipitation_sum\", \"rain_sum\", \"snowfall_sum\", \"precipitation_hours\",\n",
    "    \"wind_speed_10m_max\", \"wind_gusts_10m_max\", \"wind_direction_10m_dominant\",\n",
    "    \"shortwave_radiation_sum\", \"et0_fao_evapotranspiration\",\n",
    "    \"sunshine_duration\", \"daylight_duration\"\n",
    "]\n",
    "\n",
    "# Build URL\n",
    "url = (\n",
    "    \"https://archive-api.open-meteo.com/v1/archive?\"\n",
    "    f\"latitude={LAT}&longitude={LON}\"\n",
    "    f\"&start_date={START}&end_date={END}\"\n",
    "    f\"&daily={','.join(DAILY_VARS)}\"\n",
    "    f\"&timezone={TZ}\"\n",
    ")\n",
    "\n",
    "# Fetch\n",
    "response = requests.get(url)\n",
    "response.raise_for_status()\n",
    "data_rain = response.json()\n",
    "\n",
    "# Convert to DataFrame\n",
    "data_rain = pd.DataFrame(data_rain[\"daily\"])\n",
    "data_rain[\"time\"] = pd.to_datetime(data_rain[\"time\"]).dt.date\n"
   ]
  },
  {
   "cell_type": "code",
   "execution_count": 14,
   "metadata": {},
   "outputs": [
    {
     "name": "stdout",
     "output_type": "stream",
     "text": [
      "<class 'pandas.core.frame.DataFrame'>\n",
      "RangeIndex: 3288 entries, 0 to 3287\n",
      "Data columns (total 17 columns):\n",
      " #   Column                       Non-Null Count  Dtype  \n",
      "---  ------                       --------------  -----  \n",
      " 0   time                         3288 non-null   object \n",
      " 1   weather_code                 3288 non-null   int64  \n",
      " 2   temperature_2m_max           3288 non-null   float64\n",
      " 3   temperature_2m_min           3288 non-null   float64\n",
      " 4   apparent_temperature_max     3288 non-null   float64\n",
      " 5   apparent_temperature_min     3288 non-null   float64\n",
      " 6   precipitation_sum            3288 non-null   float64\n",
      " 7   rain_sum                     3288 non-null   float64\n",
      " 8   snowfall_sum                 3288 non-null   float64\n",
      " 9   precipitation_hours          3288 non-null   float64\n",
      " 10  wind_speed_10m_max           3288 non-null   float64\n",
      " 11  wind_gusts_10m_max           3288 non-null   float64\n",
      " 12  wind_direction_10m_dominant  3288 non-null   int64  \n",
      " 13  shortwave_radiation_sum      3288 non-null   float64\n",
      " 14  et0_fao_evapotranspiration   3288 non-null   float64\n",
      " 15  sunshine_duration            3288 non-null   float64\n",
      " 16  daylight_duration            3288 non-null   float64\n",
      "dtypes: float64(14), int64(2), object(1)\n",
      "memory usage: 436.8+ KB\n"
     ]
    }
   ],
   "source": [
    "data_rain.info()"
   ]
  },
  {
   "cell_type": "markdown",
   "metadata": {
    "id": "tpG_mos_EXrY"
   },
   "source": [
    "### C.2 Define Target variable"
   ]
  },
  {
   "cell_type": "code",
   "execution_count": 15,
   "metadata": {
    "id": "gsQkuxYLVHb1"
   },
   "outputs": [
    {
     "data": {
      "text/html": [
       "<div>\n",
       "<style scoped>\n",
       "    .dataframe tbody tr th:only-of-type {\n",
       "        vertical-align: middle;\n",
       "    }\n",
       "\n",
       "    .dataframe tbody tr th {\n",
       "        vertical-align: top;\n",
       "    }\n",
       "\n",
       "    .dataframe thead th {\n",
       "        text-align: right;\n",
       "    }\n",
       "</style>\n",
       "<table border=\"1\" class=\"dataframe\">\n",
       "  <thead>\n",
       "    <tr style=\"text-align: right;\">\n",
       "      <th></th>\n",
       "      <th>time</th>\n",
       "      <th>rain_sum</th>\n",
       "      <th>rain_in_7d</th>\n",
       "      <th>target_rain</th>\n",
       "    </tr>\n",
       "  </thead>\n",
       "  <tbody>\n",
       "    <tr>\n",
       "      <th>0</th>\n",
       "      <td>2016-01-01</td>\n",
       "      <td>0.0</td>\n",
       "      <td>0.0</td>\n",
       "      <td>0</td>\n",
       "    </tr>\n",
       "    <tr>\n",
       "      <th>1</th>\n",
       "      <td>2016-01-02</td>\n",
       "      <td>0.0</td>\n",
       "      <td>0.0</td>\n",
       "      <td>0</td>\n",
       "    </tr>\n",
       "    <tr>\n",
       "      <th>2</th>\n",
       "      <td>2016-01-03</td>\n",
       "      <td>1.3</td>\n",
       "      <td>0.0</td>\n",
       "      <td>0</td>\n",
       "    </tr>\n",
       "    <tr>\n",
       "      <th>3</th>\n",
       "      <td>2016-01-04</td>\n",
       "      <td>15.6</td>\n",
       "      <td>1.3</td>\n",
       "      <td>1</td>\n",
       "    </tr>\n",
       "    <tr>\n",
       "      <th>4</th>\n",
       "      <td>2016-01-05</td>\n",
       "      <td>52.3</td>\n",
       "      <td>0.6</td>\n",
       "      <td>1</td>\n",
       "    </tr>\n",
       "    <tr>\n",
       "      <th>5</th>\n",
       "      <td>2016-01-06</td>\n",
       "      <td>41.2</td>\n",
       "      <td>0.0</td>\n",
       "      <td>0</td>\n",
       "    </tr>\n",
       "    <tr>\n",
       "      <th>6</th>\n",
       "      <td>2016-01-07</td>\n",
       "      <td>0.7</td>\n",
       "      <td>6.5</td>\n",
       "      <td>1</td>\n",
       "    </tr>\n",
       "    <tr>\n",
       "      <th>7</th>\n",
       "      <td>2016-01-08</td>\n",
       "      <td>0.0</td>\n",
       "      <td>18.0</td>\n",
       "      <td>1</td>\n",
       "    </tr>\n",
       "    <tr>\n",
       "      <th>8</th>\n",
       "      <td>2016-01-09</td>\n",
       "      <td>0.0</td>\n",
       "      <td>0.7</td>\n",
       "      <td>1</td>\n",
       "    </tr>\n",
       "    <tr>\n",
       "      <th>9</th>\n",
       "      <td>2016-01-10</td>\n",
       "      <td>0.0</td>\n",
       "      <td>0.0</td>\n",
       "      <td>0</td>\n",
       "    </tr>\n",
       "  </tbody>\n",
       "</table>\n",
       "</div>"
      ],
      "text/plain": [
       "         time  rain_sum  rain_in_7d  target_rain\n",
       "0  2016-01-01       0.0         0.0            0\n",
       "1  2016-01-02       0.0         0.0            0\n",
       "2  2016-01-03       1.3         0.0            0\n",
       "3  2016-01-04      15.6         1.3            1\n",
       "4  2016-01-05      52.3         0.6            1\n",
       "5  2016-01-06      41.2         0.0            0\n",
       "6  2016-01-07       0.7         6.5            1\n",
       "7  2016-01-08       0.0        18.0            1\n",
       "8  2016-01-09       0.0         0.7            1\n",
       "9  2016-01-10       0.0         0.0            0"
      ]
     },
     "execution_count": 15,
     "metadata": {},
     "output_type": "execute_result"
    }
   ],
   "source": [
    "# <Student to fill this section>\n",
    "import pandas as pd\n",
    "\n",
    "# shift rain_sum by -7 days to get future rainfall\n",
    "data_rain = data_rain.sort_values(\"time\").reset_index(drop=True)\n",
    "data_rain[\"rain_in_7d\"] = data_rain[\"rain_sum\"].shift(-7)\n",
    "\n",
    "# apply threshold to create binary target\n",
    "data_rain[\"target_rain\"] = (data_rain[\"rain_in_7d\"] > 0.1).astype(int)\n",
    "\n",
    "# drop rows with no future info (last 7 days)\n",
    "data_rain = data_rain.dropna(subset=[\"rain_in_7d\"]).reset_index(drop=True)\n",
    "\n",
    "data_rain[[\"time\", \"rain_sum\", \"rain_in_7d\", \"target_rain\"]].head(10)\n"
   ]
  },
  {
   "cell_type": "code",
   "execution_count": 16,
   "metadata": {
    "id": "4Z0I4L_cVITG"
   },
   "outputs": [
    {
     "name": "stdout",
     "output_type": "stream",
     "text": [
      "<class 'pandas.core.frame.DataFrame'>\n",
      "RangeIndex: 3281 entries, 0 to 3280\n",
      "Data columns (total 19 columns):\n",
      " #   Column                       Non-Null Count  Dtype  \n",
      "---  ------                       --------------  -----  \n",
      " 0   time                         3281 non-null   object \n",
      " 1   weather_code                 3281 non-null   int64  \n",
      " 2   temperature_2m_max           3281 non-null   float64\n",
      " 3   temperature_2m_min           3281 non-null   float64\n",
      " 4   apparent_temperature_max     3281 non-null   float64\n",
      " 5   apparent_temperature_min     3281 non-null   float64\n",
      " 6   precipitation_sum            3281 non-null   float64\n",
      " 7   rain_sum                     3281 non-null   float64\n",
      " 8   snowfall_sum                 3281 non-null   float64\n",
      " 9   precipitation_hours          3281 non-null   float64\n",
      " 10  wind_speed_10m_max           3281 non-null   float64\n",
      " 11  wind_gusts_10m_max           3281 non-null   float64\n",
      " 12  wind_direction_10m_dominant  3281 non-null   int64  \n",
      " 13  shortwave_radiation_sum      3281 non-null   float64\n",
      " 14  et0_fao_evapotranspiration   3281 non-null   float64\n",
      " 15  sunshine_duration            3281 non-null   float64\n",
      " 16  daylight_duration            3281 non-null   float64\n",
      " 17  rain_in_7d                   3281 non-null   float64\n",
      " 18  target_rain                  3281 non-null   int64  \n",
      "dtypes: float64(15), int64(3), object(1)\n",
      "memory usage: 487.2+ KB\n"
     ]
    }
   ],
   "source": [
    "data_rain.info()"
   ]
  },
  {
   "cell_type": "code",
   "execution_count": 17,
   "metadata": {
    "id": "RiqBkEQ-EjIZ"
   },
   "outputs": [],
   "source": [
    "# <Student to fill this section>\n",
    "target_definition_explanations = \"\"\"\n",
    "The target variable was defined as a binary indicator of rain occurrence seven days after the observation date, using `rain_sum > 0.1mm` as the threshold. This choice reflects the business goal of predicting whether it will rain, not how much, ensuring the model output is directly actionable for planning purposes. The seven-day shift aligns with the requirement to anticipate conditions a week in advance, while the threshold filters out trace amounts that have no operational impact. This design keeps the prediction relevant, practical, and consistent with the decision-making needs of stakeholders.\n",
    "\"\"\""
   ]
  },
  {
   "cell_type": "code",
   "execution_count": 18,
   "metadata": {
    "id": "qdeiAKiIElvG"
   },
   "outputs": [
    {
     "data": {
      "text/html": [
       "<p style=\"color:grey\">target_definition_explanations</p><h3 font-size: 3em>\n",
       "The target variable was defined as a binary indicator of rain occurrence seven days after the observation date, using `rain_sum  0.1mm` as the threshold. This choice reflects the business goal of predicting whether it will rain, not how much, ensuring the model output is directly actionable for planning purposes. The seven-day shift aligns with the requirement to anticipate conditions a week in advance, while the threshold filters out trace amounts that have no operational impact. This design keeps the prediction relevant, practical, and consistent with the decision-making needs of stakeholders.\n",
       "</h3>"
      ],
      "text/plain": [
       "<IPython.core.display.HTML object>"
      ]
     },
     "metadata": {},
     "output_type": "display_data"
    }
   ],
   "source": [
    "# Do not modify this code\n",
    "print_tile(size=\"h3\", key='target_definition_explanations', value=target_definition_explanations)"
   ]
  },
  {
   "cell_type": "markdown",
   "metadata": {
    "id": "CtIfwnLmEn51"
   },
   "source": [
    "### C.3 Create Target variable"
   ]
  },
  {
   "cell_type": "code",
   "execution_count": 19,
   "metadata": {
    "id": "XV8dRa59EpLG"
   },
   "outputs": [],
   "source": [
    "# <Student to fill this section>\n",
    "\n",
    "target_name = 'target_rain'"
   ]
  },
  {
   "cell_type": "markdown",
   "metadata": {
    "id": "dmSKLrSBFAN5"
   },
   "source": [
    "### C.4 Explore Target variable"
   ]
  },
  {
   "cell_type": "code",
   "execution_count": 20,
   "metadata": {
    "id": "zeldOL0KFC4E"
   },
   "outputs": [
    {
     "name": "stdout",
     "output_type": "stream",
     "text": [
      "Target variable distribution:\n",
      "             Count  Percentage\n",
      "target_rain                   \n",
      "1             1682       51.26\n",
      "0             1599       48.74\n"
     ]
    }
   ],
   "source": [
    "# <Student to fill this section>\n",
    "\n",
    "import pandas as pd\n",
    "import matplotlib.pyplot as plt\n",
    "\n",
    "\n",
    "df = data_rain.copy()\n",
    "df[\"time\"] = pd.to_datetime(df[\"time\"])\n",
    "\n",
    "# === 1. Distribution of classes ===\n",
    "class_counts = df[\"target_rain\"].value_counts()\n",
    "class_percent = df[\"target_rain\"].value_counts(normalize=True) * 100\n",
    "print(\"Target variable distribution:\")\n",
    "print(pd.DataFrame({\"Count\": class_counts, \"Percentage\": class_percent.round(2)}))"
   ]
  },
  {
   "cell_type": "code",
   "execution_count": 21,
   "metadata": {},
   "outputs": [
    {
     "data": {
      "image/png": "[encoded data removed]",
      "text/plain": [
       "<Figure size 1200x400 with 1 Axes>"
      ]
     },
     "metadata": {},
     "output_type": "display_data"
    }
   ],
   "source": [
    "plt.figure(figsize=(12,4))\n",
    "plt.plot(df[\"time\"], df[\"target_rain\"], \".\", alpha=0.3)\n",
    "plt.title(\"Rain occurrence (7 days ahead) over time\")\n",
    "plt.xlabel(\"Date\")\n",
    "plt.ylabel(\"Rain in 7 days (1=Yes, 0=No)\")\n",
    "plt.show()"
   ]
  },
  {
   "cell_type": "code",
   "execution_count": 22,
   "metadata": {},
   "outputs": [
    {
     "data": {
      "image/png": "[encoded data removed]",
      "text/plain": [
       "<Figure size 800x400 with 1 Axes>"
      ]
     },
     "metadata": {},
     "output_type": "display_data"
    }
   ],
   "source": [
    "df[\"month\"] = df[\"time\"].dt.month\n",
    "monthly_avg = df.groupby(\"month\")[\"target_rain\"].mean()\n",
    "\n",
    "plt.figure(figsize=(8,4))\n",
    "monthly_avg.plot(kind=\"bar\")\n",
    "plt.title(\"Average probability of rain (7 days ahead) by month\")\n",
    "plt.ylabel(\"Rain Probability\")\n",
    "plt.xlabel(\"Month\")\n",
    "plt.show()"
   ]
  },
  {
   "cell_type": "code",
   "execution_count": 23,
   "metadata": {
    "id": "5I9ccv-UEr5o"
   },
   "outputs": [],
   "source": [
    "# <Student to fill this section>\n",
    "target_distribution_explanations = \"\"\"\n",
    "The target variable shows a moderate class imbalance, with rain days more frequent \n",
    "than no-rain days. Clear seasonal patterns appear, with higher rain probability in \n",
    "early and late months of the year, and fewer events mid-year. While this aligns with \n",
    "Sydney’s climate, the binary definition ignores rainfall intensity and the 7-day \n",
    "forecast horizon increases uncertainty, which must be considered in modeling.\n",
    "\"\"\""
   ]
  },
  {
   "cell_type": "code",
   "execution_count": 24,
   "metadata": {
    "id": "i45S7xA9EtEV"
   },
   "outputs": [
    {
     "data": {
      "text/html": [
       "<p style=\"color:grey\">target_distribution_explanations</p><h3 font-size: 3em>\n",
       "The target variable shows a moderate class imbalance, with rain days more frequent \n",
       "than no-rain days. Clear seasonal patterns appear, with higher rain probability in \n",
       "early and late months of the year, and fewer events mid-year. While this aligns with \n",
       "Sydney’s climate, the binary definition ignores rainfall intensity and the 7-day \n",
       "forecast horizon increases uncertainty, which must be considered in modeling.\n",
       "</h3>"
      ],
      "text/plain": [
       "<IPython.core.display.HTML object>"
      ]
     },
     "metadata": {},
     "output_type": "display_data"
    }
   ],
   "source": [
    "# Do not modify this code\n",
    "print_tile(size=\"h3\", key='target_distribution_explanations', value=target_distribution_explanations)"
   ]
  },
  {
   "cell_type": "markdown",
   "metadata": {
    "id": "37ubEa7SFWXo"
   },
   "source": [
    "### C.5 Explore Feature of Interest `continue variables`"
   ]
  },
  {
   "cell_type": "code",
   "execution_count": 25,
   "metadata": {
    "id": "wV9Ldx0gFWks"
   },
   "outputs": [],
   "source": [
    "# <Student to fill this section>"
   ]
  },
  {
   "cell_type": "code",
   "execution_count": 26,
   "metadata": {
    "id": "JJxanj3EVERJ"
   },
   "outputs": [
    {
     "data": {
      "image/png": "[encoded data removed]",
      "text/plain": [
       "<Figure size 600x400 with 1 Axes>"
      ]
     },
     "metadata": {},
     "output_type": "display_data"
    },
    {
     "data": {
      "image/png": "[encoded data removed]",
      "text/plain": [
       "<Figure size 600x400 with 1 Axes>"
      ]
     },
     "metadata": {},
     "output_type": "display_data"
    },
    {
     "data": {
      "image/png": "[encoded data removed]",
      "text/plain": [
       "<Figure size 600x400 with 1 Axes>"
      ]
     },
     "metadata": {},
     "output_type": "display_data"
    },
    {
     "data": {
      "image/png": "[encoded data removed]",
      "text/plain": [
       "<Figure size 600x400 with 1 Axes>"
      ]
     },
     "metadata": {},
     "output_type": "display_data"
    },
    {
     "data": {
      "image/png": "[encoded data removed]",
      "text/plain": [
       "<Figure size 600x400 with 1 Axes>"
      ]
     },
     "metadata": {},
     "output_type": "display_data"
    },
    {
     "data": {
      "image/png": "[encoded data removed]",
      "text/plain": [
       "<Figure size 600x400 with 1 Axes>"
      ]
     },
     "metadata": {},
     "output_type": "display_data"
    },
    {
     "data": {
      "image/png": "[encoded data removed]",
      "text/plain": [
       "<Figure size 600x400 with 1 Axes>"
      ]
     },
     "metadata": {},
     "output_type": "display_data"
    },
    {
     "data": {
      "image/png": "[encoded data removed]",
      "text/plain": [
       "<Figure size 600x400 with 1 Axes>"
      ]
     },
     "metadata": {},
     "output_type": "display_data"
    },
    {
     "data": {
      "image/png": "[encoded data removed]",
      "text/plain": [
       "<Figure size 600x400 with 1 Axes>"
      ]
     },
     "metadata": {},
     "output_type": "display_data"
    },
    {
     "data": {
      "image/png": "[encoded data removed]",
      "text/plain": [
       "<Figure size 600x400 with 1 Axes>"
      ]
     },
     "metadata": {},
     "output_type": "display_data"
    }
   ],
   "source": [
    "import seaborn as sns\n",
    "import matplotlib.pyplot as plt\n",
    "\n",
    "df[\"target_rain\"] = df[\"target_rain\"].astype(\"category\")\n",
    "\n",
    "# === 1. Boxplots for continuous features ===\n",
    "continuous_vars = [\n",
    "    \"temperature_2m_max\", \"temperature_2m_min\",\n",
    "    \"apparent_temperature_max\", \"apparent_temperature_min\",\n",
    "    \"wind_speed_10m_max\", \"wind_gusts_10m_max\",\n",
    "    \"shortwave_radiation_sum\", \"et0_fao_evapotranspiration\",\n",
    "    \"sunshine_duration\", \"daylight_duration\"\n",
    "]\n",
    "\n",
    "for col in continuous_vars:\n",
    "    plt.figure(figsize=(6,4))\n",
    "    sns.boxplot(x=\"target_rain\", y=col, data=df)\n",
    "    plt.title(f\"{col} vs Rain (7 days ahead)\")\n",
    "    plt.xlabel(\"Rain in 7 days (0=No, 1=Yes)\")\n",
    "    plt.ylabel(col)\n",
    "    plt.show()"
   ]
  },
  {
   "cell_type": "code",
   "execution_count": 27,
   "metadata": {
    "id": "y4YLcn_eEyAe"
   },
   "outputs": [],
   "source": [
    "# <Student to fill this section>\n",
    "feature_1_insights = \"\"\"\n",
    "Temperature Variables (min/max, apparent)\n",
    "Days labeled with rain in 7 days tend to show slightly higher minimum and maximum temperatures compared to no-rain days. This suggests warmer conditions may precede rainfall, consistent with atmospheric instability. However, the overlap between distributions is substantial, limiting their predictive power in isolation. Outliers are present, especially for maximum temperatures, but they follow expected seasonal extremes rather than data errors.\n",
    "\n",
    "Radiation and Sunshine Variables\n",
    "Shortwave radiation and sunshine duration are marginally lower in the no-rain class and higher when rain is expected. This inverse relation reflects cloud cover dynamics, but the differences are not stark, which may weaken their individual signal. Sunshine duration also shows many outliers, highlighting days with unusually low values, possibly linked to heavy cloud or seasonal effects.\n",
    "\n",
    "Daylight Duration\n",
    "Daylight duration is more closely tied to seasonality than rainfall. Rain days tend to occur during longer daylight periods, which aligns with the rainy season coinciding with summer months. As a predictive feature, it may act more as a proxy for time of year than as a direct signal of rainfall.\n",
    "\n",
    "Wind Speed and Gusts\n",
    "Wind speed and gusts are slightly higher for rain-labeled days, reflecting stormy or unsettled weather conditions. However, distributions overlap heavily, and many extreme outliers exist. These features may contribute incremental predictive value when combined with other variables but are unlikely to be strong standalone predictors.\n",
    "\n",
    "Evapotranspiration (et0_fao)\n",
    "Evapotranspiration values are marginally higher on rain days, suggesting more active atmospheric moisture processes. The feature shows a wide range with numerous outliers, reflecting natural variability in energy and moisture exchange. Its predictive role is expected to be weak in isolation but useful in interaction with radiation and temperature.\n",
    "\"\"\""
   ]
  },
  {
   "cell_type": "code",
   "execution_count": 28,
   "metadata": {
    "id": "2r1knRxDEyC0"
   },
   "outputs": [
    {
     "data": {
      "text/html": [
       "<p style=\"color:grey\">feature_1_insights</p><h3 font-size: 3em>\n",
       "Temperature Variables (min/max, apparent)\n",
       "Days labeled with rain in 7 days tend to show slightly higher minimum and maximum temperatures compared to no-rain days. This suggests warmer conditions may precede rainfall, consistent with atmospheric instability. However, the overlap between distributions is substantial, limiting their predictive power in isolation. Outliers are present, especially for maximum temperatures, but they follow expected seasonal extremes rather than data errors.\n",
       "\n",
       "Radiation and Sunshine Variables\n",
       "Shortwave radiation and sunshine duration are marginally lower in the no-rain class and higher when rain is expected. This inverse relation reflects cloud cover dynamics, but the differences are not stark, which may weaken their individual signal. Sunshine duration also shows many outliers, highlighting days with unusually low values, possibly linked to heavy cloud or seasonal effects.\n",
       "\n",
       "Daylight Duration\n",
       "Daylight duration is more closely tied to seasonality than rainfall. Rain days tend to occur during longer daylight periods, which aligns with the rainy season coinciding with summer months. As a predictive feature, it may act more as a proxy for time of year than as a direct signal of rainfall.\n",
       "\n",
       "Wind Speed and Gusts\n",
       "Wind speed and gusts are slightly higher for rain-labeled days, reflecting stormy or unsettled weather conditions. However, distributions overlap heavily, and many extreme outliers exist. These features may contribute incremental predictive value when combined with other variables but are unlikely to be strong standalone predictors.\n",
       "\n",
       "Evapotranspiration (et0_fao)\n",
       "Evapotranspiration values are marginally higher on rain days, suggesting more active atmospheric moisture processes. The feature shows a wide range with numerous outliers, reflecting natural variability in energy and moisture exchange. Its predictive role is expected to be weak in isolation but useful in interaction with radiation and temperature.\n",
       "</h3>"
      ],
      "text/plain": [
       "<IPython.core.display.HTML object>"
      ]
     },
     "metadata": {},
     "output_type": "display_data"
    }
   ],
   "source": [
    "# Do not modify this code\n",
    "print_tile(size=\"h3\", key='feature_1_insights', value=feature_1_insights)"
   ]
  },
  {
   "cell_type": "markdown",
   "metadata": {
    "id": "WOqd56IjE0LB"
   },
   "source": [
    "### C.6 Explore Feature of Interest `categorical data`"
   ]
  },
  {
   "cell_type": "code",
   "execution_count": 29,
   "metadata": {
    "id": "akQFJsI3E2eM"
   },
   "outputs": [
    {
     "data": {
      "image/png": "[encoded data removed]",
      "text/plain": [
       "<Figure size 800x400 with 1 Axes>"
      ]
     },
     "metadata": {},
     "output_type": "display_data"
    },
    {
     "data": {
      "image/png": "[encoded data removed]",
      "text/plain": [
       "<Figure size 800x400 with 1 Axes>"
      ]
     },
     "metadata": {},
     "output_type": "display_data"
    },
    {
     "data": {
      "image/png": "[encoded data removed]",
      "text/plain": [
       "<Figure size 800x400 with 1 Axes>"
      ]
     },
     "metadata": {},
     "output_type": "display_data"
    }
   ],
   "source": [
    "# <Student to fill this section>\n",
    "categorical_vars = [\"weather_code\", \"wind_direction_10m_dominant\", \"month\"]\n",
    "\n",
    "for col in categorical_vars:\n",
    "    plt.figure(figsize=(8,4))\n",
    "    sns.barplot(x=col, y=\"target_rain\", data=df, estimator=lambda x: sum(x)/len(x))\n",
    "    plt.title(f\"Average probability of rain in 7 days by {col}\")\n",
    "    plt.ylabel(\"Rain Probability\")\n",
    "    plt.xlabel(col)\n",
    "    plt.show()"
   ]
  },
  {
   "cell_type": "code",
   "execution_count": 30,
   "metadata": {
    "id": "u-CfAsO1E2hB"
   },
   "outputs": [],
   "source": [
    "# <Student to fill this section>\n",
    "feature_2_insights = \"\"\"\n",
    "Weather Code\n",
    "Weather codes display a clear separation between rain and no-rain cases. Days labeled as rain in seven days correspond more often to weather codes that indicate cloudier or unsettled conditions. This suggests that current atmospheric codes already embed valuable signals about upcoming precipitation. The limitation is that these codes are derived from short-term observations, so their predictive strength may weaken over a 7-day horizon.\n",
    "\n",
    "Wind Direction\n",
    "The dominant wind direction shows some variation between rain and no-rain groups, with rain days more frequently associated with particular directional ranges. This reflects the influence of prevailing wind systems on rainfall in Sydney. However, the differences are not very sharp, and direction alone may not provide strong predictive power without being combined with other meteorological features.\n",
    "\n",
    "Month\n",
    "Month is strongly associated with the probability of rain, showing a seasonal pattern consistent with Sydney’s climate. Early months of the year and late spring months exhibit higher probabilities of rainfall, while mid-year months show reduced likelihood. While useful as a seasonal proxy, month is a non-causal feature that risks making the model overly dependent on cyclical patterns, which may limit generalisation if climate anomalies occur.\n",
    "\"\"\""
   ]
  },
  {
   "cell_type": "code",
   "execution_count": 31,
   "metadata": {
    "id": "bB87lgCAE2jf"
   },
   "outputs": [
    {
     "data": {
      "text/html": [
       "<p style=\"color:grey\">feature_2_insights</p><h3 font-size: 3em>\n",
       "Weather Code\n",
       "Weather codes display a clear separation between rain and no-rain cases. Days labeled as rain in seven days correspond more often to weather codes that indicate cloudier or unsettled conditions. This suggests that current atmospheric codes already embed valuable signals about upcoming precipitation. The limitation is that these codes are derived from short-term observations, so their predictive strength may weaken over a 7-day horizon.\n",
       "\n",
       "Wind Direction\n",
       "The dominant wind direction shows some variation between rain and no-rain groups, with rain days more frequently associated with particular directional ranges. This reflects the influence of prevailing wind systems on rainfall in Sydney. However, the differences are not very sharp, and direction alone may not provide strong predictive power without being combined with other meteorological features.\n",
       "\n",
       "Month\n",
       "Month is strongly associated with the probability of rain, showing a seasonal pattern consistent with Sydney’s climate. Early months of the year and late spring months exhibit higher probabilities of rainfall, while mid-year months show reduced likelihood. While useful as a seasonal proxy, month is a non-causal feature that risks making the model overly dependent on cyclical patterns, which may limit generalisation if climate anomalies occur.\n",
       "</h3>"
      ],
      "text/plain": [
       "<IPython.core.display.HTML object>"
      ]
     },
     "metadata": {},
     "output_type": "display_data"
    }
   ],
   "source": [
    "# Do not modify this code\n",
    "print_tile(size=\"h3\", key='feature_2_insights', value=feature_2_insights)"
   ]
  },
  {
   "cell_type": "markdown",
   "metadata": {
    "id": "_NCwQQFkU3v5"
   },
   "source": [
    "---\n",
    "## D. Feature Selection\n"
   ]
  },
  {
   "cell_type": "markdown",
   "metadata": {
    "id": "0b8C9WON3Toe"
   },
   "source": [
    "### D.1 Approach \"\\<describe_approach_here\\>\"\n"
   ]
  },
  {
   "cell_type": "code",
   "execution_count": 32,
   "metadata": {
    "id": "zfC-DLKv4AuM"
   },
   "outputs": [],
   "source": [
    "# <Student to fill this section>"
   ]
  },
  {
   "cell_type": "code",
   "execution_count": 33,
   "metadata": {
    "id": "J2_6it8iViBX"
   },
   "outputs": [],
   "source": [
    "features_keep = [\n",
    "    # Temperature\n",
    "    \"temperature_2m_max\", \"temperature_2m_min\",\n",
    "    \"apparent_temperature_max\", \"apparent_temperature_min\",\n",
    "\n",
    "    # Wind\n",
    "    \"wind_speed_10m_max\", \"wind_gusts_10m_max\",\n",
    "\n",
    "    # Radiation / sunshine / evapotranspiration\n",
    "    \"shortwave_radiation_sum\", \"sunshine_duration\", \"et0_fao_evapotranspiration\",\n",
    "\n",
    "    # Categorical / context\n",
    "    \"weather_code\", \"wind_direction_10m_dominant\", \n",
    "    \"time\", \"precipitation_sum\", \"rain_sum\", \"target_rain\"\n",
    "]"
   ]
  },
  {
   "cell_type": "code",
   "execution_count": 34,
   "metadata": {
    "id": "Z9myLlFZFQXj"
   },
   "outputs": [],
   "source": [
    "# <Student to fill this section>\n",
    "feature_selection_1_insights = \"\"\"\n",
    "The approach to feature selection was guided by two principles: domain relevance and statistical signal. Meteorological variables such as temperature, wind, radiation, sunshine, and evapotranspiration were retained because they capture physical processes that precede rainfall, ensuring the model leverages meaningful predictors rather than spurious correlations. Categorical context features such as weather codes, wind direction, and month were included to account for atmospheric states and seasonal patterns that influence rain probability in Sydney.\n",
    "\n",
    "In addition, time, precipitation_sum, and rain_sum were kept for exploratory purposes and to preserve temporal structure in the dataset, although they require caution to avoid data leakage during model training. The target variable was retained as a reference for supervised learning.\n",
    "\n",
    "The result of this selection is a feature set that balances physical interpretability with predictive potential. By keeping only variables expected to influence rainfall, the dataset remains manageable while reducing redundancy. This improves model focus, supports more robust learning, and minimizes risks of overfitting to irrelevant or collinear features.\n",
    "\"\"\""
   ]
  },
  {
   "cell_type": "code",
   "execution_count": 35,
   "metadata": {
    "id": "937YFeqDFQgB"
   },
   "outputs": [
    {
     "data": {
      "text/html": [
       "<p style=\"color:grey\">feature_selection_1_insights</p><h3 font-size: 3em>\n",
       "The approach to feature selection was guided by two principles: domain relevance and statistical signal. Meteorological variables such as temperature, wind, radiation, sunshine, and evapotranspiration were retained because they capture physical processes that precede rainfall, ensuring the model leverages meaningful predictors rather than spurious correlations. Categorical context features such as weather codes, wind direction, and month were included to account for atmospheric states and seasonal patterns that influence rain probability in Sydney.\n",
       "\n",
       "In addition, time, precipitation_sum, and rain_sum were kept for exploratory purposes and to preserve temporal structure in the dataset, although they require caution to avoid data leakage during model training. The target variable was retained as a reference for supervised learning.\n",
       "\n",
       "The result of this selection is a feature set that balances physical interpretability with predictive potential. By keeping only variables expected to influence rainfall, the dataset remains manageable while reducing redundancy. This improves model focus, supports more robust learning, and minimizes risks of overfitting to irrelevant or collinear features.\n",
       "</h3>"
      ],
      "text/plain": [
       "<IPython.core.display.HTML object>"
      ]
     },
     "metadata": {},
     "output_type": "display_data"
    }
   ],
   "source": [
    "# Do not modify this code\n",
    "print_tile(size=\"h3\", key='feature_selection_1_insights', value=feature_selection_1_insights)"
   ]
  },
  {
   "cell_type": "markdown",
   "metadata": {
    "id": "gS5-tS8_3ryn"
   },
   "source": [
    "## D.z Final Selection of Features"
   ]
  },
  {
   "cell_type": "code",
   "execution_count": 36,
   "metadata": {
    "id": "zYY4u2063ioF"
   },
   "outputs": [],
   "source": [
    "# <Student to fill this section>\n",
    "\n",
    "features_list = features_keep"
   ]
  },
  {
   "cell_type": "markdown",
   "metadata": {
    "id": "j-nNSpJK0Rgu"
   },
   "source": [
    "---\n",
    "## E. Data Preparation"
   ]
  },
  {
   "cell_type": "markdown",
   "metadata": {
    "id": "EDtRq1990rcW"
   },
   "source": [
    "### E.1 Data Transformation <Add month, year, and season>"
   ]
  },
  {
   "cell_type": "code",
   "execution_count": 37,
   "metadata": {
    "id": "AZN0u9DD0v5X"
   },
   "outputs": [],
   "source": [
    "# <Student to fill this section>"
   ]
  },
  {
   "cell_type": "code",
   "execution_count": 38,
   "metadata": {
    "id": "MjdmojP6Vp6G"
   },
   "outputs": [],
   "source": [
    "data_features = data_rain[features_list]"
   ]
  },
  {
   "cell_type": "code",
   "execution_count": 39,
   "metadata": {},
   "outputs": [
    {
     "name": "stdout",
     "output_type": "stream",
     "text": [
      "<class 'pandas.core.frame.DataFrame'>\n",
      "RangeIndex: 3281 entries, 0 to 3280\n",
      "Data columns (total 15 columns):\n",
      " #   Column                       Non-Null Count  Dtype  \n",
      "---  ------                       --------------  -----  \n",
      " 0   temperature_2m_max           3281 non-null   float64\n",
      " 1   temperature_2m_min           3281 non-null   float64\n",
      " 2   apparent_temperature_max     3281 non-null   float64\n",
      " 3   apparent_temperature_min     3281 non-null   float64\n",
      " 4   wind_speed_10m_max           3281 non-null   float64\n",
      " 5   wind_gusts_10m_max           3281 non-null   float64\n",
      " 6   shortwave_radiation_sum      3281 non-null   float64\n",
      " 7   sunshine_duration            3281 non-null   float64\n",
      " 8   et0_fao_evapotranspiration   3281 non-null   float64\n",
      " 9   weather_code                 3281 non-null   int64  \n",
      " 10  wind_direction_10m_dominant  3281 non-null   int64  \n",
      " 11  time                         3281 non-null   object \n",
      " 12  precipitation_sum            3281 non-null   float64\n",
      " 13  rain_sum                     3281 non-null   float64\n",
      " 14  target_rain                  3281 non-null   int64  \n",
      "dtypes: float64(11), int64(3), object(1)\n",
      "memory usage: 384.6+ KB\n"
     ]
    }
   ],
   "source": [
    "data_features.info()"
   ]
  },
  {
   "cell_type": "code",
   "execution_count": 40,
   "metadata": {},
   "outputs": [],
   "source": [
    "import pandas as pd\n",
    "\n",
    "df = data_features.copy()\n",
    "df[\"time\"] = pd.to_datetime(df[\"time\"])\n",
    "\n",
    "# calendar parts\n",
    "df[\"year\"] = df[\"time\"].dt.year\n",
    "df[\"month\"] = df[\"time\"].dt.month\n",
    "\n",
    "# Southern Hemisphere seasons (AU)\n",
    "def au_season(m):\n",
    "    if m in (12, 1, 2):  return \"Summer\"\n",
    "    if m in (3, 4, 5):   return \"Autumn\"\n",
    "    if m in (6, 7, 8):   return \"Winter\"\n",
    "    return \"Spring\"      # 9,10,11\n",
    "\n",
    "df[\"season\"] = df[\"month\"].map(au_season)\n",
    "\n",
    "# (optional) make season categorical with ordered categories\n",
    "df[\"season\"] = pd.Categorical(df[\"season\"],\n",
    "                              categories=[\"Summer\",\"Autumn\",\"Winter\",\"Spring\"],\n",
    "                              ordered=True)\n",
    "\n",
    "data_features = df"
   ]
  },
  {
   "cell_type": "code",
   "execution_count": 41,
   "metadata": {
    "id": "eQGXvLtkFU9L"
   },
   "outputs": [],
   "source": [
    "# <Student to fill this section>\n",
    "data_cleaning_1_explanations = \"\"\"\n",
    "Adding temporal features is important because rainfall in Sydney follows strong seasonal patterns. Without these variables, the model risks missing cyclical drivers of rain and misattributing seasonality to unrelated predictors. Incorporating them improves interpretability and ensures the model aligns with known climate behavior, reducing bias and enhancing forecast stability.\n",
    "\"\"\""
   ]
  },
  {
   "cell_type": "code",
   "execution_count": 42,
   "metadata": {
    "id": "MPuYme1uFU_4"
   },
   "outputs": [
    {
     "data": {
      "text/html": [
       "<p style=\"color:grey\">data_cleaning_1_explanations</p><h3 font-size: 3em>\n",
       "Adding temporal features is important because rainfall in Sydney follows strong seasonal patterns. Without these variables, the model risks missing cyclical drivers of rain and misattributing seasonality to unrelated predictors. Incorporating them improves interpretability and ensures the model aligns with known climate behavior, reducing bias and enhancing forecast stability.\n",
       "</h3>"
      ],
      "text/plain": [
       "<IPython.core.display.HTML object>"
      ]
     },
     "metadata": {},
     "output_type": "display_data"
    }
   ],
   "source": [
    "# Do not modify this code\n",
    "print_tile(size=\"h3\", key='data_cleaning_1_explanations', value=data_cleaning_1_explanations)"
   ]
  },
  {
   "cell_type": "markdown",
   "metadata": {
    "id": "SxhDoAkw08Eb"
   },
   "source": [
    "### E.2 Data Transformation <season>"
   ]
  },
  {
   "cell_type": "code",
   "execution_count": 43,
   "metadata": {
    "id": "OO5ITMDZ035_"
   },
   "outputs": [
    {
     "data": {
      "text/html": [
       "<div>\n",
       "<style scoped>\n",
       "    .dataframe tbody tr th:only-of-type {\n",
       "        vertical-align: middle;\n",
       "    }\n",
       "\n",
       "    .dataframe tbody tr th {\n",
       "        vertical-align: top;\n",
       "    }\n",
       "\n",
       "    .dataframe thead th {\n",
       "        text-align: right;\n",
       "    }\n",
       "</style>\n",
       "<table border=\"1\" class=\"dataframe\">\n",
       "  <thead>\n",
       "    <tr style=\"text-align: right;\">\n",
       "      <th></th>\n",
       "      <th>temperature_2m_max</th>\n",
       "      <th>temperature_2m_min</th>\n",
       "      <th>apparent_temperature_max</th>\n",
       "      <th>apparent_temperature_min</th>\n",
       "      <th>wind_speed_10m_max</th>\n",
       "      <th>wind_gusts_10m_max</th>\n",
       "      <th>shortwave_radiation_sum</th>\n",
       "      <th>sunshine_duration</th>\n",
       "      <th>et0_fao_evapotranspiration</th>\n",
       "      <th>weather_code</th>\n",
       "      <th>...</th>\n",
       "      <th>time</th>\n",
       "      <th>precipitation_sum</th>\n",
       "      <th>rain_sum</th>\n",
       "      <th>target_rain</th>\n",
       "      <th>year</th>\n",
       "      <th>month</th>\n",
       "      <th>season_Summer</th>\n",
       "      <th>season_Autumn</th>\n",
       "      <th>season_Winter</th>\n",
       "      <th>season_Spring</th>\n",
       "    </tr>\n",
       "  </thead>\n",
       "  <tbody>\n",
       "    <tr>\n",
       "      <th>0</th>\n",
       "      <td>23.6</td>\n",
       "      <td>16.8</td>\n",
       "      <td>26.2</td>\n",
       "      <td>18.1</td>\n",
       "      <td>15.5</td>\n",
       "      <td>34.9</td>\n",
       "      <td>31.84</td>\n",
       "      <td>48090.48</td>\n",
       "      <td>5.67</td>\n",
       "      <td>3</td>\n",
       "      <td>...</td>\n",
       "      <td>2016-01-01</td>\n",
       "      <td>0.0</td>\n",
       "      <td>0.0</td>\n",
       "      <td>0</td>\n",
       "      <td>2016</td>\n",
       "      <td>1</td>\n",
       "      <td>1</td>\n",
       "      <td>0</td>\n",
       "      <td>0</td>\n",
       "      <td>0</td>\n",
       "    </tr>\n",
       "    <tr>\n",
       "      <th>1</th>\n",
       "      <td>23.0</td>\n",
       "      <td>17.9</td>\n",
       "      <td>24.8</td>\n",
       "      <td>18.9</td>\n",
       "      <td>13.7</td>\n",
       "      <td>35.3</td>\n",
       "      <td>25.35</td>\n",
       "      <td>39602.34</td>\n",
       "      <td>4.74</td>\n",
       "      <td>3</td>\n",
       "      <td>...</td>\n",
       "      <td>2016-01-02</td>\n",
       "      <td>0.0</td>\n",
       "      <td>0.0</td>\n",
       "      <td>0</td>\n",
       "      <td>2016</td>\n",
       "      <td>1</td>\n",
       "      <td>1</td>\n",
       "      <td>0</td>\n",
       "      <td>0</td>\n",
       "      <td>0</td>\n",
       "    </tr>\n",
       "    <tr>\n",
       "      <th>2</th>\n",
       "      <td>22.0</td>\n",
       "      <td>19.6</td>\n",
       "      <td>22.0</td>\n",
       "      <td>20.2</td>\n",
       "      <td>18.4</td>\n",
       "      <td>40.7</td>\n",
       "      <td>12.20</td>\n",
       "      <td>3906.47</td>\n",
       "      <td>2.92</td>\n",
       "      <td>51</td>\n",
       "      <td>...</td>\n",
       "      <td>2016-01-03</td>\n",
       "      <td>1.3</td>\n",
       "      <td>1.3</td>\n",
       "      <td>0</td>\n",
       "      <td>2016</td>\n",
       "      <td>1</td>\n",
       "      <td>1</td>\n",
       "      <td>0</td>\n",
       "      <td>0</td>\n",
       "      <td>0</td>\n",
       "    </tr>\n",
       "    <tr>\n",
       "      <th>3</th>\n",
       "      <td>20.3</td>\n",
       "      <td>18.9</td>\n",
       "      <td>21.3</td>\n",
       "      <td>19.4</td>\n",
       "      <td>18.2</td>\n",
       "      <td>34.2</td>\n",
       "      <td>4.98</td>\n",
       "      <td>0.00</td>\n",
       "      <td>1.36</td>\n",
       "      <td>61</td>\n",
       "      <td>...</td>\n",
       "      <td>2016-01-04</td>\n",
       "      <td>15.6</td>\n",
       "      <td>15.6</td>\n",
       "      <td>1</td>\n",
       "      <td>2016</td>\n",
       "      <td>1</td>\n",
       "      <td>1</td>\n",
       "      <td>0</td>\n",
       "      <td>0</td>\n",
       "      <td>0</td>\n",
       "    </tr>\n",
       "    <tr>\n",
       "      <th>4</th>\n",
       "      <td>19.7</td>\n",
       "      <td>18.2</td>\n",
       "      <td>19.6</td>\n",
       "      <td>17.2</td>\n",
       "      <td>21.8</td>\n",
       "      <td>40.7</td>\n",
       "      <td>5.66</td>\n",
       "      <td>1622.96</td>\n",
       "      <td>1.56</td>\n",
       "      <td>63</td>\n",
       "      <td>...</td>\n",
       "      <td>2016-01-05</td>\n",
       "      <td>52.3</td>\n",
       "      <td>52.3</td>\n",
       "      <td>1</td>\n",
       "      <td>2016</td>\n",
       "      <td>1</td>\n",
       "      <td>1</td>\n",
       "      <td>0</td>\n",
       "      <td>0</td>\n",
       "      <td>0</td>\n",
       "    </tr>\n",
       "  </tbody>\n",
       "</table>\n",
       "<p>5 rows × 21 columns</p>\n",
       "</div>"
      ],
      "text/plain": [
       "   temperature_2m_max  temperature_2m_min  apparent_temperature_max  \\\n",
       "0                23.6                16.8                      26.2   \n",
       "1                23.0                17.9                      24.8   \n",
       "2                22.0                19.6                      22.0   \n",
       "3                20.3                18.9                      21.3   \n",
       "4                19.7                18.2                      19.6   \n",
       "\n",
       "   apparent_temperature_min  wind_speed_10m_max  wind_gusts_10m_max  \\\n",
       "0                      18.1                15.5                34.9   \n",
       "1                      18.9                13.7                35.3   \n",
       "2                      20.2                18.4                40.7   \n",
       "3                      19.4                18.2                34.2   \n",
       "4                      17.2                21.8                40.7   \n",
       "\n",
       "   shortwave_radiation_sum  sunshine_duration  et0_fao_evapotranspiration  \\\n",
       "0                    31.84           48090.48                        5.67   \n",
       "1                    25.35           39602.34                        4.74   \n",
       "2                    12.20            3906.47                        2.92   \n",
       "3                     4.98               0.00                        1.36   \n",
       "4                     5.66            1622.96                        1.56   \n",
       "\n",
       "   weather_code  ...       time precipitation_sum  rain_sum  target_rain  \\\n",
       "0             3  ... 2016-01-01               0.0       0.0            0   \n",
       "1             3  ... 2016-01-02               0.0       0.0            0   \n",
       "2            51  ... 2016-01-03               1.3       1.3            0   \n",
       "3            61  ... 2016-01-04              15.6      15.6            1   \n",
       "4            63  ... 2016-01-05              52.3      52.3            1   \n",
       "\n",
       "   year  month  season_Summer  season_Autumn  season_Winter  season_Spring  \n",
       "0  2016      1              1              0              0              0  \n",
       "1  2016      1              1              0              0              0  \n",
       "2  2016      1              1              0              0              0  \n",
       "3  2016      1              1              0              0              0  \n",
       "4  2016      1              1              0              0              0  \n",
       "\n",
       "[5 rows x 21 columns]"
      ]
     },
     "execution_count": 43,
     "metadata": {},
     "output_type": "execute_result"
    }
   ],
   "source": [
    "# <Student to fill this section>\n",
    "# one-hot for weather_code\n",
    "wc_dummies = pd.get_dummies(data_features[\"season\"],\n",
    "                            prefix=\"season\", dtype=\"int8\")\n",
    "\n",
    "# join and drop original code column\n",
    "data_features = pd.concat([data_features.drop(columns=[\"season\"]),\n",
    "                           wc_dummies], axis=1)\n",
    "\n",
    "data_features.head()\n"
   ]
  },
  {
   "cell_type": "code",
   "execution_count": null,
   "metadata": {
    "id": "4OlbuimwVqjd"
   },
   "outputs": [],
   "source": []
  },
  {
   "cell_type": "code",
   "execution_count": 44,
   "metadata": {
    "id": "NoQ6IWoFFb1y"
   },
   "outputs": [],
   "source": [
    "# <Student to fill this section>\n",
    "data_cleaning_2_explanations = \"\"\"\n",
    "Encoding the \"season\" variable as dummies is important because seasons are categorical and cyclical, not ordinal or numeric. If left as a single column, the model might infer a false order or linear relationship between seasons (e.g., \"Summer\" > \"Autumn\"), which does not reflect reality. By one-hot encoding, each season is treated as a distinct state, allowing the model to learn the unique impact of each season on rainfall patterns. This approach improves interpretability and ensures the model accurately captures the seasonal effects on rain, which are especially pronounced in Sydney's climate.\n",
    "\"\"\""
   ]
  },
  {
   "cell_type": "code",
   "execution_count": 45,
   "metadata": {
    "id": "n1NG6O-jFdOE"
   },
   "outputs": [
    {
     "data": {
      "text/html": [
       "<p style=\"color:grey\">data_cleaning_2_explanations</p><h3 font-size: 3em>\n",
       "Encoding the \"season\" variable as dummies is important because seasons are categorical and cyclical, not ordinal or numeric. If left as a single column, the model might infer a false order or linear relationship between seasons (e.g., \"Summer\"  \"Autumn\"), which does not reflect reality. By one-hot encoding, each season is treated as a distinct state, allowing the model to learn the unique impact of each season on rainfall patterns. This approach improves interpretability and ensures the model accurately captures the seasonal effects on rain, which are especially pronounced in Sydney's climate.\n",
       "</h3>"
      ],
      "text/plain": [
       "<IPython.core.display.HTML object>"
      ]
     },
     "metadata": {},
     "output_type": "display_data"
    }
   ],
   "source": [
    "# Do not modify this code\n",
    "print_tile(size=\"h3\", key='data_cleaning_2_explanations', value=data_cleaning_2_explanations)"
   ]
  },
  {
   "cell_type": "markdown",
   "metadata": {
    "id": "S80O7okb0RIx"
   },
   "source": [
    "---\n",
    "## F. Feature Engineering"
   ]
  },
  {
   "cell_type": "markdown",
   "metadata": {
    "id": "Kst7h7wp1MFK"
   },
   "source": [
    "### F.1 New Feature \"Temporal Variables\"\n"
   ]
  },
  {
   "cell_type": "code",
   "execution_count": 46,
   "metadata": {
    "id": "f_wsc2n-1Mdm"
   },
   "outputs": [],
   "source": [
    "# <Student to fill this section>\n",
    "df = data_features.copy()\n",
    "df = df.sort_values(\"time\").reset_index(drop=True)\n",
    "\n",
    "# rolling precipitation/rain features\n",
    "df[\"rain_last_3d\"] = df[\"rain_sum\"].rolling(window=3, min_periods=1).sum().shift(1)\n",
    "df[\"rain_last_7d\"] = df[\"rain_sum\"].rolling(window=7, min_periods=1).sum().shift(1)\n",
    "df[\"precip_last_3d\"] = df[\"precipitation_sum\"].rolling(window=3, min_periods=1).sum().shift(1)\n",
    "df[\"precip_last_7d\"] = df[\"precipitation_sum\"].rolling(window=7, min_periods=1).sum().shift(1)\n",
    "\n",
    "# lag features for yesterday’s rain\n",
    "df[\"rain_lag1\"] = df[\"rain_sum\"].shift(1)\n",
    "df[\"precip_lag1\"] = df[\"precipitation_sum\"].shift(1)\n",
    "\n",
    "data_features = df"
   ]
  },
  {
   "cell_type": "code",
   "execution_count": 47,
   "metadata": {
    "id": "hezUX-UgFpQf"
   },
   "outputs": [],
   "source": [
    "# <Student to fill this section>\n",
    "feature_engineering_1_explanations = \"\"\"\n",
    "These features encode memory of recent rainfall and precipitation trends, which are strong predictors of near-future weather. Without them, the model would miss temporal persistence patterns crucial for a 7-day horizon.\n",
    "\"\"\""
   ]
  },
  {
   "cell_type": "code",
   "execution_count": 48,
   "metadata": {
    "id": "AKIFmqwVFpTA"
   },
   "outputs": [
    {
     "data": {
      "text/html": [
       "<p style=\"color:grey\">feature_engineering_1_explanations</p><h3 font-size: 3em>\n",
       "These features encode memory of recent rainfall and precipitation trends, which are strong predictors of near-future weather. Without them, the model would miss temporal persistence patterns crucial for a 7-day horizon.\n",
       "</h3>"
      ],
      "text/plain": [
       "<IPython.core.display.HTML object>"
      ]
     },
     "metadata": {},
     "output_type": "display_data"
    }
   ],
   "source": [
    "# Do not modify this code\n",
    "print_tile(size=\"h3\", key='feature_engineering_1_explanations', value=feature_engineering_1_explanations)"
   ]
  },
  {
   "cell_type": "markdown",
   "metadata": {
    "id": "N8MNBrC4Zgz6"
   },
   "source": [
    "---\n",
    "## G. Data Preparation for Modeling"
   ]
  },
  {
   "cell_type": "markdown",
   "metadata": {
    "id": "HbpTjW2GGkd8"
   },
   "source": [
    "### G.1 Split Datasets"
   ]
  },
  {
   "cell_type": "code",
   "execution_count": 49,
   "metadata": {
    "id": "kcJ8_kh6Gnjl"
   },
   "outputs": [
    {
     "name": "stdout",
     "output_type": "stream",
     "text": [
      "Train: (2296, 25) (2296,)\n",
      "Valid: (492, 25) (492,)\n",
      "Test: (493, 25) (493,)\n",
      "Date ranges:\n",
      " Train: 2016-01-01 00:00:00 → 2022-04-14 00:00:00\n",
      " Valid: 2022-04-15 00:00:00 → 2023-08-19 00:00:00\n",
      " Test: 2023-08-20 00:00:00 → 2024-12-24 00:00:00\n"
     ]
    }
   ],
   "source": [
    "# <Student to fill this section>\n",
    "import pandas as pd\n",
    "import numpy as np\n",
    "\n",
    "# Copy to avoid altering original\n",
    "df_final = data_features.copy() # data_features\n",
    "\n",
    "\n",
    "X = df_final.drop(columns=[target_name, \"time\"])   # remove target + datetime\n",
    "y = df_final[target_name]\n",
    "\n",
    "# --- 2. Chronological split indices ---\n",
    "n = len(df_final)\n",
    "train_size = int(n * 0.7)   # 70% train\n",
    "valid_size = int(n * 0.15)  # 15% validation\n",
    "# remaining 15% test\n",
    "\n",
    "train_idx = train_size\n",
    "valid_idx = train_size + valid_size\n",
    "\n",
    "# --- 3. Split into sets ---\n",
    "X_train, y_train = X.iloc[:train_idx], y.iloc[:train_idx]\n",
    "X_valid, y_valid = X.iloc[train_idx:valid_idx], y.iloc[train_idx:valid_idx]\n",
    "X_test,  y_test  = X.iloc[valid_idx:], y.iloc[valid_idx:]\n",
    "\n",
    "# --- 4. Quick check ---\n",
    "print(\"Train:\", X_train.shape, y_train.shape)\n",
    "print(\"Valid:\", X_valid.shape, y_valid.shape)\n",
    "print(\"Test:\",  X_test.shape,  y_test.shape)\n",
    "print(\"Date ranges:\")\n",
    "print(\" Train:\", df_final[\"time\"].iloc[:train_idx].min(), \"→\", df_final[\"time\"].iloc[:train_idx].max())\n",
    "print(\" Valid:\", df_final[\"time\"].iloc[train_idx:valid_idx].min(), \"→\", df_final[\"time\"].iloc[train_idx:valid_idx].max())\n",
    "print(\" Test:\",  df_final[\"time\"].iloc[valid_idx:].min(), \"→\", df_final[\"time\"].iloc[valid_idx:].max())"
   ]
  },
  {
   "cell_type": "code",
   "execution_count": 50,
   "metadata": {
    "id": "dkvHE5g4F3IZ"
   },
   "outputs": [],
   "source": [
    "# <Student to fill this section>\n",
    "data_splitting_explanations = \"\"\"\n",
    "For this dataset the best strategy is **time-based splitting** rather than random splitting. Rainfall is a temporally dependent process, and randomly mixing dates would cause information leakage from the future into the past, artificially inflating model performance. A chronological split ensures that training data always precedes validation and test data, which reflects the real use case of predicting unseen future weather.\n",
    "\n",
    "The recommended setup is to use the earliest years as training, reserve a more recent block for validation, and hold out the most recent period as the test set. This structure respects seasonality, avoids leakage, and gives a realistic estimate of how the model will perform in production when forecasting future rain in Sydney.\n",
    "\n",
    "\"\"\""
   ]
  },
  {
   "cell_type": "code",
   "execution_count": 51,
   "metadata": {
    "id": "vx4_g0pLF3Lg"
   },
   "outputs": [
    {
     "data": {
      "text/html": [
       "<p style=\"color:grey\">data_splitting_explanations</p><h3 font-size: 3em>\n",
       "For this dataset the best strategy is **time-based splitting** rather than random splitting. Rainfall is a temporally dependent process, and randomly mixing dates would cause information leakage from the future into the past, artificially inflating model performance. A chronological split ensures that training data always precedes validation and test data, which reflects the real use case of predicting unseen future weather.\n",
       "\n",
       "The recommended setup is to use the earliest years as training, reserve a more recent block for validation, and hold out the most recent period as the test set. This structure respects seasonality, avoids leakage, and gives a realistic estimate of how the model will perform in production when forecasting future rain in Sydney.\n",
       "\n",
       "</h3>"
      ],
      "text/plain": [
       "<IPython.core.display.HTML object>"
      ]
     },
     "metadata": {},
     "output_type": "display_data"
    }
   ],
   "source": [
    "# Do not modify this code\n",
    "print_tile(size=\"h3\", key='data_splitting_explanations', value=data_splitting_explanations)"
   ]
  },
  {
   "cell_type": "markdown",
   "metadata": {
    "id": "3YG8_V1DG8YP"
   },
   "source": [
    "### G.3 Data Transformation \"standardisation\""
   ]
  },
  {
   "cell_type": "code",
   "execution_count": 52,
   "metadata": {
    "id": "jHtYOtv7HJbw"
   },
   "outputs": [],
   "source": [
    "# <Student to fill this section>\n",
    "from sklearn.preprocessing import StandardScaler\n",
    "import numpy as np\n",
    "\n",
    "# Copy the splits (X_train, X_valid, X_test from before)\n",
    "X_train_scaled = X_train.copy()\n",
    "X_valid_scaled = X_valid.copy()\n",
    "X_test_scaled  = X_test.copy()\n",
    "\n",
    "# Replace inf values with NaN\n",
    "X_train_scaled = X_train_scaled.replace([np.inf, -np.inf], np.nan)\n",
    "X_valid_scaled = X_valid_scaled.replace([np.inf, -np.inf], np.nan)\n",
    "X_test_scaled  = X_test_scaled.replace([np.inf, -np.inf], np.nan)\n"
   ]
  },
  {
   "cell_type": "code",
   "execution_count": 53,
   "metadata": {
    "id": "i-pdTrPyWGgs"
   },
   "outputs": [],
   "source": [
    "# Only scale numerical columns\n",
    "num_cols = X_train_scaled.select_dtypes(include=[np.number]).columns\n",
    "\n",
    "scaler = StandardScaler()\n",
    "scaler.fit(X_train_scaled[num_cols])  # fit only on training numerical columns\n",
    "\n",
    "# Scale only numerical columns, keep others unchanged\n",
    "def scale_only_numerical(df, scaler, num_cols):\n",
    "    df_scaled = df.copy()\n",
    "    df_scaled[num_cols] = scaler.transform(df[num_cols])\n",
    "    return df_scaled\n",
    "\n",
    "X_train_scaled = scale_only_numerical(X_train_scaled, scaler, num_cols)\n",
    "X_valid_scaled = scale_only_numerical(X_valid_scaled, scaler, num_cols)\n",
    "X_test_scaled  = scale_only_numerical(X_test_scaled,  scaler, num_cols)"
   ]
  },
  {
   "cell_type": "code",
   "execution_count": 54,
   "metadata": {
    "id": "TQR-kDICGoqa"
   },
   "outputs": [],
   "source": [
    "# <Student to fill this section>\n",
    "data_transformation_2_explanations = \"\"\"\n",
    "Standardisation improves convergence for algorithms sensitive to feature scale (e.g., logistic regression, SVM, neural networks). It also helps interpret coefficients consistently and prevents domination by high-range variables such as radiation or precipitation totals\"\"\""
   ]
  },
  {
   "cell_type": "code",
   "execution_count": 55,
   "metadata": {
    "id": "bNWRpNiQGotZ"
   },
   "outputs": [
    {
     "data": {
      "text/html": [
       "<p style=\"color:grey\">data_transformation_2_explanations</p><h3 font-size: 3em>\n",
       "Standardisation improves convergence for algorithms sensitive to feature scale (e.g., logistic regression, SVM, neural networks). It also helps interpret coefficients consistently and prevents domination by high-range variables such as radiation or precipitation totals</h3>"
      ],
      "text/plain": [
       "<IPython.core.display.HTML object>"
      ]
     },
     "metadata": {},
     "output_type": "display_data"
    }
   ],
   "source": [
    "# Do not modify this code\n",
    "print_tile(size=\"h3\", key='data_transformation_2_explanations', value=data_transformation_2_explanations)"
   ]
  },
  {
   "cell_type": "markdown",
   "metadata": {
    "id": "qIj277YWHdFk"
   },
   "source": [
    "---\n",
    "## H. Save Datasets\n",
    "\n",
    "> Do not change this code"
   ]
  },
  {
   "cell_type": "code",
   "execution_count": 56,
   "metadata": {
    "id": "uMNql0SzHhP2"
   },
   "outputs": [
    {
     "name": "stdout",
     "output_type": "stream",
     "text": [
      "name 'at' is not defined\n"
     ]
    }
   ],
   "source": [
    "# Do not modify this code\n",
    "# Save training set\n",
    "try:\n",
    "  X_train.to_csv(at.folder_path / 'X_train.csv', index=False)\n",
    "  y_train.to_csv(at.folder_path / 'y_train.csv', index=False)\n",
    "\n",
    "  X_val.to_csv(at.folder_path / 'X_val.csv', index=False)\n",
    "  y_val.to_csv(at.folder_path / 'y_val.csv', index=False)\n",
    "\n",
    "  X_test.to_csv(at.folder_path / 'X_test.csv', index=False)\n",
    "  y_test.to_csv(at.folder_path / 'y_test.csv', index=False)\n",
    "except Exception as e:\n",
    "  print(e)"
   ]
  },
  {
   "cell_type": "code",
   "execution_count": 57,
   "metadata": {},
   "outputs": [
    {
     "name": "stdout",
     "output_type": "stream",
     "text": [
      "name 'at' is not defined\n"
     ]
    }
   ],
   "source": [
    "try:\n",
    "  X_train_scaled.to_csv(at.folder_path / 'X_train_scaled.csv', index=False)\n",
    "  y_train.to_csv(at.folder_path / 'y_train.csv', index=False)\n",
    "\n",
    "  X_val_scaled.to_csv(at.folder_path / 'X_val_scaled.csv', index=False)\n",
    "  y_val.to_csv(at.folder_path / 'y_val.csv', index=False)\n",
    "\n",
    "  X_test_scaled.to_csv(at.folder_path / 'X_test_scaled.csv', index=False)\n",
    "  y_test.to_csv(at.folder_path / 'y_test.csv', index=False)\n",
    "except Exception as e:\n",
    "  print(e)"
   ]
  },
  {
   "cell_type": "markdown",
   "metadata": {
    "id": "RtLjr7niHpNZ"
   },
   "source": [
    "---\n",
    "## I. Selection of Performance Metrics\n",
    "\n",
    "> Provide some explanations on why you believe the performance metrics you chose is appropriate\n"
   ]
  },
  {
   "cell_type": "code",
   "execution_count": 58,
   "metadata": {
    "id": "KV_pxLAiHxKW"
   },
   "outputs": [],
   "source": [
    "# <Student to fill this section>\n",
    "from sklearn.metrics import roc_auc_score\n"
   ]
  },
  {
   "cell_type": "code",
   "execution_count": 59,
   "metadata": {
    "id": "kC949nluHR5s"
   },
   "outputs": [],
   "source": [
    "# <Student to fill this section>\n",
    "performance_metrics_explanations = \"\"\"\n",
    "The best performance metric for this experiment is AUROC (Area Under the Receiver Operating Characteristic Curve), complemented by Precision–Recall AUC.\n",
    "\n",
    "AUROC is appropriate because it evaluates the model’s ability to discriminate between rain and no-rain across thresholds, which matches the business goal of ranking rain risk a week in advance. Precision–Recall AUC is also valuable given class imbalance, as it highlights performance on the minority class (no-rain or rain, depending on distribution).\n",
    "\"\"\""
   ]
  },
  {
   "cell_type": "code",
   "execution_count": 60,
   "metadata": {
    "id": "wABRzU2sHR8j"
   },
   "outputs": [
    {
     "data": {
      "text/html": [
       "<p style=\"color:grey\">performance_metrics_explanations</p><h3 font-size: 3em>\n",
       "The best performance metric for this experiment is AUROC (Area Under the Receiver Operating Characteristic Curve), complemented by Precision–Recall AUC.\n",
       "\n",
       "AUROC is appropriate because it evaluates the model’s ability to discriminate between rain and no-rain across thresholds, which matches the business goal of ranking rain risk a week in advance. Precision–Recall AUC is also valuable given class imbalance, as it highlights performance on the minority class (no-rain or rain, depending on distribution).\n",
       "</h3>"
      ],
      "text/plain": [
       "<IPython.core.display.HTML object>"
      ]
     },
     "metadata": {},
     "output_type": "display_data"
    }
   ],
   "source": [
    "# Do not modify this code\n",
    "print_tile(size=\"h3\", key='performance_metrics_explanations', value=performance_metrics_explanations)"
   ]
  },
  {
   "cell_type": "markdown",
   "metadata": {
    "id": "ZpxjwSDYIJy6"
   },
   "source": [
    "## J. Train Machine Learning Model"
   ]
  },
  {
   "cell_type": "markdown",
   "metadata": {
    "id": "_XBy7-9PIVcU"
   },
   "source": [
    "### J.1 Import Algorithm\n",
    "\n",
    "> Provide some explanations on why you believe this algorithm is a good fit\n"
   ]
  },
  {
   "cell_type": "code",
   "execution_count": 61,
   "metadata": {
    "id": "diUB08xMIOuS"
   },
   "outputs": [],
   "source": [
    "# <Student to fill this section>\n",
    "from xgboost import XGBClassifier"
   ]
  },
  {
   "cell_type": "code",
   "execution_count": 62,
   "metadata": {
    "id": "GIWOpv6CGUTE"
   },
   "outputs": [],
   "source": [
    "# <Student to fill this section>\n",
    "algorithm_selection_explanations = \"\"\"\n",
    "XGBoost (Extreme Gradient Boosting) is a good fit for this problem because it is a powerful and efficient tree-based ensemble algorithm that handles both linear and non-linear relationships well. It is robust to different feature types, can manage missing data, and is known for its strong performance on structured/tabular datasets like weather data. Additionally, XGBoost provides built-in support for regularization, which helps prevent overfitting, and offers interpretability through feature importance scores. Its scalability and speed make it suitable for large datasets, and it has been widely adopted for classification tasks similar to predicting rain occurrence.\n",
    "\"\"\""
   ]
  },
  {
   "cell_type": "code",
   "execution_count": 63,
   "metadata": {
    "id": "N4yogQ9aGUVe"
   },
   "outputs": [
    {
     "data": {
      "text/html": [
       "<p style=\"color:grey\">algorithm_selection_explanations</p><h3 font-size: 3em>\n",
       "XGBoost (Extreme Gradient Boosting) is a good fit for this problem because it is a powerful and efficient tree-based ensemble algorithm that handles both linear and non-linear relationships well. It is robust to different feature types, can manage missing data, and is known for its strong performance on structured/tabular datasets like weather data. Additionally, XGBoost provides built-in support for regularization, which helps prevent overfitting, and offers interpretability through feature importance scores. Its scalability and speed make it suitable for large datasets, and it has been widely adopted for classification tasks similar to predicting rain occurrence.\n",
       "</h3>"
      ],
      "text/plain": [
       "<IPython.core.display.HTML object>"
      ]
     },
     "metadata": {},
     "output_type": "display_data"
    }
   ],
   "source": [
    "# Do not modify this code\n",
    "print_tile(size=\"h3\", key='algorithm_selection_explanations', value=algorithm_selection_explanations)"
   ]
  },
  {
   "cell_type": "markdown",
   "metadata": {
    "id": "0ks_MmM2mCfm"
   },
   "source": [
    "### J.2 Set Hyperparameters\n",
    "\n",
    "> Provide some explanations on why you believe this algorithm is a good fit\n"
   ]
  },
  {
   "cell_type": "code",
   "execution_count": 64,
   "metadata": {
    "id": "NUswpGVLmDXl"
   },
   "outputs": [],
   "source": [
    "# <Student to fill this section>\n",
    "param_grid = {\n",
    "    \"n_estimators\": [200, 500, 800],\n",
    "    \"max_depth\": [3, 5, 7],\n",
    "    \"learning_rate\": [0.01, 0.05, 0.1],\n",
    "    \"subsample\": [0.6, 0.8, 1.0],\n",
    "    \"colsample_bytree\": [0.6, 0.8, 1.0],\n",
    "    \"gamma\": [0, 1, 5]\n",
    "}\n"
   ]
  },
  {
   "cell_type": "code",
   "execution_count": 65,
   "metadata": {
    "id": "crG_Bm72HfL-"
   },
   "outputs": [],
   "source": [
    "# <Student to fill this section>\n",
    "hyperparameters_selection_explanations = \"\"\"\n",
    "These hyperparameters were chosen to balance model complexity and generalisation.\n",
    "\n",
    "n_estimators, learning_rate, max_depth control the strength and flexibility of the trees, ranging from conservative to more complex models.\n",
    "\n",
    "subsample and colsample_bytree regulate how much data and how many features each tree uses, reducing overfitting and improving robustness.\n",
    "\n",
    "gamma adds regularisation on splits, forcing the model to create only meaningful partitions.\n",
    "\n",
    "The ranges cover both simple and more expressive configurations, allowing the search to identify the best trade-off between accuracy and generalisation for the rainfall task.\n",
    "\"\"\""
   ]
  },
  {
   "cell_type": "code",
   "execution_count": 66,
   "metadata": {
    "id": "k0uqlRCVHfQI"
   },
   "outputs": [
    {
     "data": {
      "text/html": [
       "<p style=\"color:grey\">hyperparameters_selection_explanations</p><h3 font-size: 3em>\n",
       "These hyperparameters were chosen to balance model complexity and generalisation.\n",
       "\n",
       "n_estimators, learning_rate, max_depth control the strength and flexibility of the trees, ranging from conservative to more complex models.\n",
       "\n",
       "subsample and colsample_bytree regulate how much data and how many features each tree uses, reducing overfitting and improving robustness.\n",
       "\n",
       "gamma adds regularisation on splits, forcing the model to create only meaningful partitions.\n",
       "\n",
       "The ranges cover both simple and more expressive configurations, allowing the search to identify the best trade-off between accuracy and generalisation for the rainfall task.\n",
       "</h3>"
      ],
      "text/plain": [
       "<IPython.core.display.HTML object>"
      ]
     },
     "metadata": {},
     "output_type": "display_data"
    }
   ],
   "source": [
    "# Do not modify this code\n",
    "print_tile(size=\"h3\", key='hyperparameters_selection_explanations', value=hyperparameters_selection_explanations)"
   ]
  },
  {
   "cell_type": "markdown",
   "metadata": {
    "id": "VDjdjQjFmkLe"
   },
   "source": [
    "### J.3 Fit Model"
   ]
  },
  {
   "cell_type": "markdown",
   "metadata": {},
   "source": [
    "Baseline model"
   ]
  },
  {
   "cell_type": "code",
   "execution_count": 67,
   "metadata": {},
   "outputs": [
    {
     "name": "stdout",
     "output_type": "stream",
     "text": [
      "(2296, 25)\n",
      "(2296,)\n",
      "(493, 25)\n",
      "(493,)\n",
      "(492, 25)\n",
      "(492,)\n"
     ]
    }
   ],
   "source": [
    "print(X_train_scaled.shape)\n",
    "print(y_train.shape)\n",
    "print(X_test_scaled.shape)\n",
    "print(y_test.shape)\n",
    "print(X_valid_scaled.shape)\n",
    "print(y_valid.shape)"
   ]
  },
  {
   "cell_type": "code",
   "execution_count": 68,
   "metadata": {},
   "outputs": [
    {
     "name": "stdout",
     "output_type": "stream",
     "text": [
      "Baseline AUROC: 0.5\n"
     ]
    }
   ],
   "source": [
    "from sklearn.dummy import DummyClassifier\n",
    "\n",
    "dummy = DummyClassifier(strategy=\"most_frequent\")\n",
    "dummy.fit(X_train_scaled, y_train)\n",
    "y_dummy = dummy.predict_proba(X_valid_scaled)[:,1]\n",
    "print(\"Baseline AUROC:\", roc_auc_score(y_valid, y_dummy))"
   ]
  },
  {
   "cell_type": "markdown",
   "metadata": {},
   "source": [
    "### Experiment 1. XGBoost with Finetunning"
   ]
  },
  {
   "cell_type": "code",
   "execution_count": 69,
   "metadata": {
    "id": "0Ub3Nrdgmm2N"
   },
   "outputs": [
    {
     "name": "stdout",
     "output_type": "stream",
     "text": [
      "Fitting 1 folds for each of 20 candidates, totalling 20 fits\n",
      "Best Params: {'subsample': 0.6, 'n_estimators': 200, 'max_depth': 3, 'learning_rate': 0.01, 'gamma': 1, 'colsample_bytree': 0.6}\n"
     ]
    }
   ],
   "source": [
    "from sklearn.model_selection import RandomizedSearchCV\n",
    "from sklearn.model_selection import PredefinedSplit\n",
    "import xgboost as xgb\n",
    "\n",
    "xgb_clf = xgb.XGBClassifier(\n",
    "    objective=\"binary:logistic\",\n",
    "    eval_metric=\"auc\",\n",
    "    use_label_encoder=True,\n",
    "    random_state=42,\n",
    "    n_jobs=-1\n",
    ")\n",
    "\n",
    "split_index = [-1] * len(y_train) + [0] * len(y_valid)\n",
    "ps = PredefinedSplit(test_fold=split_index)\n",
    "\n",
    "search = RandomizedSearchCV(\n",
    "    estimator=xgb_clf,\n",
    "    param_distributions=param_grid,\n",
    "    n_iter=20,\n",
    "    scoring=\"roc_auc\",\n",
    "    cv=ps,  # Use PredefinedSplit\n",
    "    random_state=42,\n",
    "    n_jobs=-1,\n",
    "    verbose=1\n",
    ")\n",
    "\n",
    "# Combine your data for cross-validation\n",
    "X_combined = np.vstack([X_train_scaled, X_valid_scaled])\n",
    "y_combined = np.concatenate([y_train, y_valid])\n",
    "\n",
    "search.fit(X_combined, y_combined)\n",
    "print(\"Best Params:\", search.best_params_)\n"
   ]
  },
  {
   "cell_type": "markdown",
   "metadata": {},
   "source": [
    "#### Model Technical Performance"
   ]
  },
  {
   "cell_type": "code",
   "execution_count": 70,
   "metadata": {},
   "outputs": [
    {
     "name": "stdout",
     "output_type": "stream",
     "text": [
      "Test AUROC: 0.6174129353233831\n",
      "Test PR-AUC: 0.6178392331155907\n",
      "Test F1: 0.6816608996539792\n"
     ]
    }
   ],
   "source": [
    "from sklearn.metrics import roc_auc_score, average_precision_score, f1_score\n",
    "\n",
    "best_xgb = search.best_estimator_\n",
    "y_prob = best_xgb.predict_proba(X_test_scaled)[:,1]\n",
    "y_pred = best_xgb.predict(X_test_scaled)\n",
    "\n",
    "print(\"Test AUROC:\", roc_auc_score(y_test, y_prob))\n",
    "print(\"Test PR-AUC:\", average_precision_score(y_test, y_prob))\n",
    "print(\"Test F1:\", f1_score(y_test, y_pred))"
   ]
  },
  {
   "cell_type": "code",
   "execution_count": null,
   "metadata": {},
   "outputs": [],
   "source": [
    "# <Student to fill this section>\n",
    "model_performance_explanations = \"\"\"\n",
    "For Experiment 1 (XGBoost with fine-tuning) the model shows modest improvements compared to a baseline but remains limited in predictive strength.\n",
    "\n",
    "The AUROC of 0.61 indicates weak discriminative power, only slightly above random, highlighting the challenge of predicting rain events seven days ahead.\n",
    "\n",
    "The PR-AUC of 0.61 shows the model can capture some signal in identifying rain days, but precision and recall remain limited under class imbalance.\n",
    "\n",
    "The F1-score of 0.68 suggests the model achieves a fair balance between detecting rain and avoiding false alarms, but it may still generate frequent misclassifications.\n",
    "\n",
    "Overall, the fine-tuned XGBoost captures useful patterns yet struggles to generalise strongly, reflecting both the difficulty of the task and the limited predictive signal in available features.\n",
    "\"\"\""
   ]
  },
  {
   "cell_type": "code",
   "execution_count": 182,
   "metadata": {},
   "outputs": [
    {
     "data": {
      "text/html": [
       "<p style=\"color:grey\">model_performance_explanations</p><h3 font-size: 3em>\n",
       "For Experiment 1 (XGBoost with fine-tuning) the model shows modest improvements compared to a baseline but remains limited in predictive strength.\n",
       "\n",
       "The AUROC of 0.61 indicates weak discriminative power, only slightly above random, highlighting the challenge of predicting rain events seven days ahead.\n",
       "\n",
       "The PR-AUC of 0.63 shows the model can capture some signal in identifying rain days, but precision and recall remain limited under class imbalance.\n",
       "\n",
       "The F1-score of 0.66 suggests the model achieves a fair balance between detecting rain and avoiding false alarms, but it may still generate frequent misclassifications.\n",
       "\n",
       "Overall, the fine-tuned XGBoost captures useful patterns yet struggles to generalise strongly, reflecting both the difficulty of the task and the limited predictive signal in available features.\n",
       "</h3>"
      ],
      "text/plain": [
       "<IPython.core.display.HTML object>"
      ]
     },
     "metadata": {},
     "output_type": "display_data"
    }
   ],
   "source": [
    "# Do not modify this code\n",
    "print_tile(size=\"h3\", key='model_performance_explanations', value=model_performance_explanations)"
   ]
  },
  {
   "cell_type": "markdown",
   "metadata": {},
   "source": [
    "### Experment 2.  Advanced Featuring Engineering"
   ]
  },
  {
   "cell_type": "code",
   "execution_count": 72,
   "metadata": {},
   "outputs": [
    {
     "name": "stdout",
     "output_type": "stream",
     "text": [
      "Original features: 27\n",
      "Enhanced features: 117\n",
      "New features added: 90\n",
      "Removed leakage features: precipitation_sum, rain_sum, precipitation_hours\n"
     ]
    }
   ],
   "source": [
    "# FIX DATA LEAKAGE & ADVANCED FEATURE ENGINEERING\n",
    "import numpy as np\n",
    "import pandas as pd\n",
    "from sklearn.preprocessing import StandardScaler\n",
    "\n",
    "def create_advanced_features_no_leakage(df):\n",
    "    \"\"\"Create advanced meteorological features WITHOUT data leakage\"\"\"\n",
    "    df_enhanced = df.copy()\n",
    "    \n",
    "    # REMOVE POTENTIAL LEAKAGE FEATURES\n",
    "    leakage_features = ['precipitation_sum', 'rain_sum', 'precipitation_hours']\n",
    "    df_enhanced = df_enhanced.drop(columns=leakage_features, errors='ignore')\n",
    "    \n",
    "    # 1. Temperature differentials and anomalies\n",
    "    df_enhanced['temp_range'] = df_enhanced['temperature_2m_max'] - df_enhanced['temperature_2m_min']\n",
    "    df_enhanced['apparent_temp_range'] = df_enhanced['apparent_temperature_max'] - df_enhanced['apparent_temperature_min']\n",
    "    df_enhanced['temp_anomaly'] = df_enhanced['temperature_2m_max'] - df_enhanced['temperature_2m_max'].rolling(30, min_periods=1).mean()\n",
    "    \n",
    "    # 2. Advanced rolling statistics (multiple windows)\n",
    "    for col in ['temperature_2m_max', 'temperature_2m_min', 'wind_speed_10m_max', 'wind_gusts_10m_max']:\n",
    "        for window in [3, 7, 14, 30]:\n",
    "            df_enhanced[f'{col}_{window}d_mean'] = df_enhanced[col].rolling(window, min_periods=1).mean()\n",
    "            df_enhanced[f'{col}_{window}d_std'] = df_enhanced[col].rolling(window, min_periods=1).std()\n",
    "            df_enhanced[f'{col}_{window}d_max'] = df_enhanced[col].rolling(window, min_periods=1).max()\n",
    "            df_enhanced[f'{col}_{window}d_min'] = df_enhanced[col].rolling(window, min_periods=1).min()\n",
    "    \n",
    "    # 3. Weather pattern indicators\n",
    "    df_enhanced['humidity_proxy'] = (df_enhanced['apparent_temperature_max'] - df_enhanced['temperature_2m_max']).abs()\n",
    "    df_enhanced['storm_potential'] = (df_enhanced['wind_speed_10m_max'] * df_enhanced['wind_gusts_10m_max']) / 100\n",
    "    df_enhanced['atmospheric_instability'] = df_enhanced['temp_range'] * df_enhanced['wind_speed_10m_max']\n",
    "    \n",
    "    # 4. Seasonal interactions and cyclical features\n",
    "    df_enhanced['month_sin'] = np.sin(2 * np.pi * df_enhanced['month'] / 12)\n",
    "    df_enhanced['month_cos'] = np.cos(2 * np.pi * df_enhanced['month'] / 12)\n",
    "    df_enhanced['temp_season_interaction'] = df_enhanced['temperature_2m_max'] * df_enhanced['month_sin']\n",
    "    df_enhanced['wind_season_interaction'] = df_enhanced['wind_speed_10m_max'] * df_enhanced['month_cos']\n",
    "    \n",
    "    # 5. Atmospheric pressure and energy balance proxies\n",
    "    df_enhanced['pressure_proxy'] = df_enhanced['shortwave_radiation_sum'] / (df_enhanced['et0_fao_evapotranspiration'] + 1)\n",
    "    df_enhanced['energy_balance'] = df_enhanced['shortwave_radiation_sum'] - df_enhanced['et0_fao_evapotranspiration']\n",
    "    \n",
    "    # 6. Wind direction features (cyclical encoding)\n",
    "    df_enhanced['wind_dir_sin'] = np.sin(2 * np.pi * df_enhanced['wind_direction_10m_dominant'] / 360)\n",
    "    df_enhanced['wind_dir_cos'] = np.cos(2 * np.pi * df_enhanced['wind_direction_10m_dominant'] / 360)\n",
    "    \n",
    "    # 7. Weather code interactions\n",
    "    df_enhanced['weather_code_cloudy'] = (df_enhanced['weather_code'] >= 2).astype(int)\n",
    "    df_enhanced['weather_code_rainy'] = (df_enhanced['weather_code'] >= 61).astype(int)\n",
    "    \n",
    "    # 8. Lag features (safe temporal features)\n",
    "    for lag in [1, 2, 3, 7]:\n",
    "        df_enhanced[f'temp_max_lag{lag}'] = df_enhanced['temperature_2m_max'].shift(lag)\n",
    "        df_enhanced[f'wind_speed_lag{lag}'] = df_enhanced['wind_speed_10m_max'].shift(lag)\n",
    "        df_enhanced[f'radiation_lag{lag}'] = df_enhanced['shortwave_radiation_sum'].shift(lag)\n",
    "    \n",
    "    return df_enhanced\n",
    "\n",
    "# Apply advanced feature engineering\n",
    "data_enhanced = create_advanced_features_no_leakage(data_features)\n",
    "print(f\"Original features: {len(data_features.columns)}\")\n",
    "print(f\"Enhanced features: {len(data_enhanced.columns)}\")\n",
    "print(f\"New features added: {len(data_enhanced.columns) - len(data_features.columns)}\")\n",
    "print(f\"Removed leakage features: precipitation_sum, rain_sum, precipitation_hours\")\n"
   ]
  },
  {
   "cell_type": "code",
   "execution_count": 76,
   "metadata": {},
   "outputs": [
    {
     "name": "stdout",
     "output_type": "stream",
     "text": [
      "Train: (2296, 115) (2296,)\n",
      "Valid: (492, 115) (492,)\n",
      "Test: (493, 115) (493,)\n",
      "Date ranges:\n",
      " Train: 2016-01-01 00:00:00 → 2022-04-14 00:00:00\n",
      " Valid: 2022-04-15 00:00:00 → 2023-08-19 00:00:00\n",
      " Test: 2023-08-20 00:00:00 → 2024-12-24 00:00:00\n"
     ]
    }
   ],
   "source": [
    "from sklearn.impute import SimpleImputer\n",
    "import pandas as pd\n",
    "\n",
    "leakage_cols = ['precipitation_sum', 'rain_sum', 'precipitation_hours']\n",
    "drop_cols = [col for col in leakage_cols if col in data_enhanced.columns] + ['target_rain', 'time']\n",
    "X = data_enhanced.drop(columns=drop_cols)\n",
    "y = data_enhanced['target_rain']\n",
    "\n",
    "n = len(data_enhanced)\n",
    "train_size = int(n * 0.7)   # 70% train\n",
    "valid_size = int(n * 0.15)  # 15% validation\n",
    "# remaining 15% test\n",
    "\n",
    "train_idx = train_size\n",
    "valid_idx = train_size + valid_size\n",
    "\n",
    "# --- 3. Split into sets ---\n",
    "X_train, y_train = X.iloc[:train_idx], y.iloc[:train_idx]\n",
    "X_valid, y_valid = X.iloc[train_idx:valid_idx], y.iloc[train_idx:valid_idx]\n",
    "X_test,  y_test  = X.iloc[valid_idx:], y.iloc[valid_idx:]\n",
    "\n",
    "# Impute missing values for scikit-learn models (GradientBoosting, RandomForest)\n",
    "# (LightGBM and XGBoost can handle NaN natively, but VotingClassifier passes the same input to all)\n",
    "imputer = SimpleImputer(strategy='mean')\n",
    "\n",
    "# Impute and convert back to DataFrame with original columns and indices\n",
    "X_train_imputed = pd.DataFrame(imputer.fit_transform(X_train), columns=X_train.columns, index=X_train.index)\n",
    "X_valid_imputed = pd.DataFrame(imputer.transform(X_valid), columns=X_valid.columns, index=X_valid.index)\n",
    "X_test_imputed  = pd.DataFrame(imputer.transform(X_test),  columns=X_test.columns,  index=X_test.index)\n",
    "X_imputed = pd.DataFrame(imputer.fit_transform(X), columns=X.columns, index=X.index)  # For cross_val_score\n",
    "\n",
    "# --- 4. Quick check ---\n",
    "print(\"Train:\", X_train.shape, y_train.shape)\n",
    "print(\"Valid:\", X_valid.shape, y_valid.shape)\n",
    "print(\"Test:\",  X_test.shape,  y_test.shape)\n",
    "print(\"Date ranges:\")\n",
    "print(\" Train:\", data_enhanced['time'].iloc[:train_idx].min(), \"→\", data_enhanced['time'].iloc[:train_idx].max())\n",
    "print(\" Valid:\", data_enhanced['time'].iloc[train_idx:valid_idx].min(), \"→\", data_enhanced['time'].iloc[train_idx:valid_idx].max())\n",
    "print(\" Test:\",  data_enhanced['time'].iloc[valid_idx:].min(), \"→\", data_enhanced['time'].iloc[valid_idx:].max())\n"
   ]
  },
  {
   "cell_type": "code",
   "execution_count": 77,
   "metadata": {},
   "outputs": [],
   "source": [
    "# <Student to fill this section>\n",
    "from sklearn.preprocessing import StandardScaler\n",
    "import numpy as np\n",
    "\n",
    "# Copy the splits (X_train, X_valid, X_test from before)\n",
    "X_train_scaled = X_train_imputed.copy()\n",
    "X_valid_scaled = X_valid_imputed.copy()\n",
    "X_test_scaled  = X_test_imputed.copy()\n",
    "\n",
    "# Replace inf values with NaN\n",
    "X_train_scaled = X_train_scaled.replace([np.inf, -np.inf], np.nan)\n",
    "X_valid_scaled = X_valid_scaled.replace([np.inf, -np.inf], np.nan)\n",
    "X_test_scaled  = X_test_scaled.replace([np.inf, -np.inf], np.nan)\n",
    "\n",
    "# Only scale numerical columns\n",
    "num_cols = X_train_scaled.select_dtypes(include=[np.number]).columns\n",
    "\n",
    "scaler = StandardScaler()\n",
    "scaler.fit(X_train_scaled[num_cols])  # fit only on training numerical columns\n",
    "\n",
    "# Scale only numerical columns, keep others unchanged\n",
    "def scale_only_numerical(df, scaler, num_cols):\n",
    "    df_scaled = df.copy()\n",
    "    df_scaled[num_cols] = scaler.transform(df[num_cols])\n",
    "    return df_scaled\n",
    "\n",
    "X_train_scaled = scale_only_numerical(X_train_scaled, scaler, num_cols)\n",
    "X_valid_scaled = scale_only_numerical(X_valid_scaled, scaler, num_cols)\n",
    "X_test_scaled  = scale_only_numerical(X_test_scaled,  scaler, num_cols)"
   ]
  },
  {
   "cell_type": "code",
   "execution_count": 78,
   "metadata": {},
   "outputs": [
    {
     "name": "stdout",
     "output_type": "stream",
     "text": [
      "Fitting 1 folds for each of 20 candidates, totalling 20 fits\n",
      "Best Params: {'subsample': 0.6, 'n_estimators': 200, 'max_depth': 3, 'learning_rate': 0.01, 'gamma': 1, 'colsample_bytree': 0.6}\n"
     ]
    }
   ],
   "source": [
    "from sklearn.model_selection import RandomizedSearchCV\n",
    "from sklearn.model_selection import PredefinedSplit\n",
    "import xgboost as xgb\n",
    "\n",
    "xgb_clf = xgb.XGBClassifier(\n",
    "    objective=\"binary:logistic\",\n",
    "    eval_metric=\"auc\",\n",
    "    use_label_encoder=True,\n",
    "    random_state=42,\n",
    "    n_jobs=-1\n",
    ")\n",
    "\n",
    "split_index = [-1] * len(y_train) + [0] * len(y_valid)\n",
    "ps = PredefinedSplit(test_fold=split_index)\n",
    "\n",
    "search = RandomizedSearchCV(\n",
    "    estimator=xgb_clf,\n",
    "    param_distributions=param_grid,\n",
    "    n_iter=20,\n",
    "    scoring=\"roc_auc\",\n",
    "    cv=ps,  # Use PredefinedSplit\n",
    "    random_state=42,\n",
    "    n_jobs=-1,\n",
    "    verbose=1\n",
    ")\n",
    "\n",
    "# Combine your data for cross-validation\n",
    "X_combined = np.vstack([X_train_scaled, X_valid_scaled])\n",
    "y_combined = np.concatenate([y_train, y_valid])\n",
    "\n",
    "search.fit(X_combined, y_combined)\n",
    "print(\"Best Params:\", search.best_params_)\n"
   ]
  },
  {
   "cell_type": "markdown",
   "metadata": {},
   "source": [
    "#### Model Technical Performance"
   ]
  },
  {
   "cell_type": "code",
   "execution_count": 79,
   "metadata": {},
   "outputs": [
    {
     "name": "stdout",
     "output_type": "stream",
     "text": [
      "Test AUROC: 0.6166666666666667\n",
      "Test PR-AUC: 0.6347982929373992\n",
      "Test F1: 0.68\n"
     ]
    }
   ],
   "source": [
    "from sklearn.metrics import roc_auc_score, average_precision_score, f1_score\n",
    "\n",
    "best_xgb = search.best_estimator_\n",
    "y_prob = best_xgb.predict_proba(X_test_scaled)[:,1]\n",
    "y_pred = best_xgb.predict(X_test_scaled)\n",
    "\n",
    "print(\"Test AUROC:\", roc_auc_score(y_test, y_prob))\n",
    "print(\"Test PR-AUC:\", average_precision_score(y_test, y_prob))\n",
    "print(\"Test F1:\", f1_score(y_test, y_pred))"
   ]
  },
  {
   "cell_type": "code",
   "execution_count": 80,
   "metadata": {},
   "outputs": [],
   "source": [
    "# <Student to fill this section>\n",
    "model_performance_explanations = \"\"\"\n",
    "For Experiment 2 (Advanced Feature Engineering) the results show a small uplift compared to the first run:\n",
    "\n",
    "The AUROC of 0.62 remains modest, indicating only limited ability to discriminate between rain and no-rain seven days ahead, though slightly better than the baseline model.\n",
    "\n",
    "The PR-AUC of 0.63 reflects a minor improvement in handling class imbalance, suggesting the new engineered features added some value in identifying rain cases.\n",
    "\n",
    "The F1-score of 0.68 is stronger than before, showing the model now achieves a better balance between recall and precision, reducing missed rain events while keeping false positives manageable.\n",
    "\n",
    "Overall, the advanced feature set improved recall-oriented performance, but discrimination remains weak, showing that while feature engineering helps, the 7-day prediction horizon still limits the attainable accuracy.\"\"\""
   ]
  },
  {
   "cell_type": "code",
   "execution_count": 81,
   "metadata": {},
   "outputs": [
    {
     "data": {
      "text/html": [
       "<p style=\"color:grey\">model_performance_explanations</p><h3 font-size: 3em>\n",
       "For Experiment 2 (Advanced Feature Engineering) the results show a small uplift compared to the first run:\n",
       "\n",
       "The AUROC of 0.62 remains modest, indicating only limited ability to discriminate between rain and no-rain seven days ahead, though slightly better than the baseline model.\n",
       "\n",
       "The PR-AUC of 0.63 reflects a minor improvement in handling class imbalance, suggesting the new engineered features added some value in identifying rain cases.\n",
       "\n",
       "The F1-score of 0.68 is stronger than before, showing the model now achieves a better balance between recall and precision, reducing missed rain events while keeping false positives manageable.\n",
       "\n",
       "Overall, the advanced feature set improved recall-oriented performance, but discrimination remains weak, showing that while feature engineering helps, the 7-day prediction horizon still limits the attainable accuracy.</h3>"
      ],
      "text/plain": [
       "<IPython.core.display.HTML object>"
      ]
     },
     "metadata": {},
     "output_type": "display_data"
    }
   ],
   "source": [
    "# Do not modify this code\n",
    "print_tile(size=\"h3\", key='model_performance_explanations', value=model_performance_explanations)"
   ]
  },
  {
   "cell_type": "markdown",
   "metadata": {},
   "source": [
    "### **Experiment 3: Ensemble of Multiple Algorithms**\n"
   ]
  },
  {
   "cell_type": "code",
   "execution_count": 84,
   "metadata": {},
   "outputs": [
    {
     "name": "stdout",
     "output_type": "stream",
     "text": [
      "Training ensemble model...\n",
      "\n",
      "=== VALIDATION RESULTS ===\n",
      "Validation AUROC: 0.5570\n",
      "Validation Accuracy: 0.5467\n",
      "Validation PR-AUC: 0.5792\n",
      "Validation F1-Score: 0.6252\n",
      "\n",
      "=== INDIVIDUAL MODEL COMPARISON ===\n",
      "XGBoost Validation AUROC: 0.5561\n",
      "LightGBM Validation AUROC: 0.5333\n",
      "Random Forest Validation AUROC: 0.5632\n",
      "Gradient Boosting Validation AUROC: 0.5566\n",
      "\n",
      "Ensemble Validation AUROC: 0.5570\n",
      "\n",
      "=== OVERFITTING CHECK ===\n",
      "Train AUROC: 1.0000\n",
      "Validation AUROC: 0.5570\n",
      "Gap: 0.4430\n",
      "⚠️  Warning: Potential overfitting detected!\n",
      "\n",
      "=== CROSS-VALIDATION ===\n",
      "Cross-validation AUROC: 0.5746 (+/- 0.0352)\n"
     ]
    }
   ],
   "source": [
    "from sklearn.ensemble import RandomForestClassifier, GradientBoostingClassifier, VotingClassifier\n",
    "from lightgbm import LGBMClassifier\n",
    "import xgboost as xgb\n",
    "from sklearn.model_selection import train_test_split, cross_val_score, TimeSeriesSplit\n",
    "from sklearn.metrics import accuracy_score, roc_auc_score, classification_report, average_precision_score, f1_score\n",
    "from sklearn.impute import SimpleImputer\n",
    "import numpy as np\n",
    "\n",
    "# Define individual models\n",
    "xgb_model = xgb.XGBClassifier(\n",
    "    n_estimators=500,\n",
    "    max_depth=6,\n",
    "    learning_rate=0.05,\n",
    "    subsample=0.8,\n",
    "    colsample_bytree=0.8,\n",
    "    gamma=2,\n",
    "    random_state=42,\n",
    "    n_jobs=-1\n",
    ")\n",
    "\n",
    "lgb_model = LGBMClassifier(\n",
    "    n_estimators=500,\n",
    "    max_depth=6,\n",
    "    learning_rate=0.05,\n",
    "    subsample=0.8,\n",
    "    colsample_bytree=0.8,\n",
    "    random_state=42,\n",
    "    n_jobs=-1,\n",
    "    verbose=-1\n",
    ")\n",
    "\n",
    "rf_model = RandomForestClassifier(\n",
    "    n_estimators=300,\n",
    "    max_depth=8,\n",
    "    min_samples_split=5,\n",
    "    min_samples_leaf=2,\n",
    "    random_state=42,\n",
    "    n_jobs=-1\n",
    ")\n",
    "\n",
    "gb_model = GradientBoostingClassifier(\n",
    "    n_estimators=300,\n",
    "    max_depth=6,\n",
    "    learning_rate=0.05,\n",
    "    subsample=0.8,\n",
    "    random_state=42\n",
    ")\n",
    "\n",
    "# Ensemble with voting\n",
    "ensemble = VotingClassifier(\n",
    "    estimators=[\n",
    "        ('xgb', xgb_model),\n",
    "        ('lgb', lgb_model),\n",
    "        ('rf', rf_model),\n",
    "        ('gb', gb_model)\n",
    "    ],\n",
    "    voting='soft'\n",
    ")\n",
    "\n",
    "# ===== TRAIN ENSEMBLE =====\n",
    "print(\"Training ensemble model...\")\n",
    "ensemble.fit(X_train_scaled, y_train)\n",
    "\n",
    "# ===== VALIDATION ON VALIDATION SET =====\n",
    "print(\"\\n=== VALIDATION RESULTS ===\")\n",
    "y_valid_pred = ensemble.predict(X_valid_scaled)\n",
    "y_valid_proba = ensemble.predict_proba(X_valid_scaled)[:, 1]\n",
    "\n",
    "# Calculate validation metrics\n",
    "valid_auc = roc_auc_score(y_valid, y_valid_proba)\n",
    "valid_accuracy = accuracy_score(y_valid, y_valid_pred)\n",
    "valid_pr_auc = average_precision_score(y_valid, y_valid_proba)\n",
    "valid_f1 = f1_score(y_valid, y_valid_pred)\n",
    "\n",
    "print(f\"Validation AUROC: {valid_auc:.4f}\")\n",
    "print(f\"Validation Accuracy: {valid_accuracy:.4f}\")\n",
    "print(f\"Validation PR-AUC: {valid_pr_auc:.4f}\")\n",
    "print(f\"Validation F1-Score: {valid_f1:.4f}\")\n",
    "\n",
    "# ===== INDIVIDUAL MODEL VALIDATION =====\n",
    "print(\"\\n=== INDIVIDUAL MODEL COMPARISON ===\")\n",
    "models = {\n",
    "    'XGBoost': xgb_model,\n",
    "    'LightGBM': lgb_model, \n",
    "    'Random Forest': rf_model,\n",
    "    'Gradient Boosting': gb_model\n",
    "}\n",
    "\n",
    "validation_results = {}\n",
    "for name, model in models.items():\n",
    "    model.fit(X_train_scaled, y_train)\n",
    "    y_pred_proba = model.predict_proba(X_valid_scaled)[:, 1]\n",
    "    auc = roc_auc_score(y_valid, y_pred_proba)\n",
    "    validation_results[name] = auc\n",
    "    print(f\"{name} Validation AUROC: {auc:.4f}\")\n",
    "\n",
    "print(f\"\\nEnsemble Validation AUROC: {valid_auc:.4f}\")\n",
    "\n",
    "# ===== OVERFITTING CHECK =====\n",
    "print(\"\\n=== OVERFITTING CHECK ===\")\n",
    "train_proba = ensemble.predict_proba(X_train_scaled)[:, 1]\n",
    "train_auc = roc_auc_score(y_train, train_proba)\n",
    "\n",
    "print(f\"Train AUROC: {train_auc:.4f}\")\n",
    "print(f\"Validation AUROC: {valid_auc:.4f}\")\n",
    "print(f\"Gap: {train_auc - valid_auc:.4f}\")\n",
    "\n",
    "if train_auc - valid_auc > 0.05:\n",
    "    print(\"⚠️  Warning: Potential overfitting detected!\")\n",
    "else:\n",
    "    print(\"✅ No significant overfitting detected\")\n",
    "\n",
    "# ===== CROSS-VALIDATION =====\n",
    "print(\"\\n=== CROSS-VALIDATION ===\")\n",
    "tscv = TimeSeriesSplit(n_splits=5)\n",
    "cv_scores = cross_val_score(\n",
    "    ensemble, \n",
    "    X_train_scaled, \n",
    "    y_train, \n",
    "    cv=tscv, \n",
    "    scoring='roc_auc',\n",
    "    n_jobs=-1\n",
    ")\n",
    "\n",
    "print(f\"Cross-validation AUROC: {cv_scores.mean():.4f} (+/- {cv_scores.std() * 2:.4f})\")"
   ]
  },
  {
   "cell_type": "code",
   "execution_count": 85,
   "metadata": {},
   "outputs": [
    {
     "name": "stdout",
     "output_type": "stream",
     "text": [
      "\n",
      "=== FINAL TEST RESULTS ===\n",
      "Final Test AUROC: 0.6214\n",
      "Final Test Accuracy: 0.5639\n",
      "Final Test PR-AUC: 0.6579\n",
      "Final Test F1-Score: 0.6677\n",
      "\n",
      "=== PERFORMANCE COMPARISON ===\n",
      "Original Model AUROC: 0.617\n",
      "Ensemble Validation AUROC: 0.5570\n",
      "Ensemble Test AUROC: 0.6214\n",
      "Improvement: 0.7% better than original model\n",
      "\n",
      "=== DETAILED CLASSIFICATION REPORT ===\n",
      "              precision    recall  f1-score   support\n",
      "\n",
      "     No Rain       0.54      0.28      0.37       225\n",
      "        Rain       0.57      0.81      0.67       268\n",
      "\n",
      "    accuracy                           0.56       493\n",
      "   macro avg       0.56      0.54      0.52       493\n",
      "weighted avg       0.56      0.56      0.53       493\n",
      "\n"
     ]
    }
   ],
   "source": [
    "# ===== FINAL TEST SET EVALUATION =====\n",
    "print(\"\\n=== FINAL TEST RESULTS ===\")\n",
    "y_test_pred = ensemble.predict(X_test_scaled)\n",
    "y_test_proba = ensemble.predict_proba(X_test_scaled)[:, 1]\n",
    "\n",
    "test_auc = roc_auc_score(y_test, y_test_proba)\n",
    "test_accuracy = accuracy_score(y_test, y_test_pred)\n",
    "test_pr_auc = average_precision_score(y_test, y_test_proba)\n",
    "test_f1 = f1_score(y_test, y_test_pred)\n",
    "\n",
    "print(f\"Final Test AUROC: {test_auc:.4f}\")\n",
    "print(f\"Final Test Accuracy: {test_accuracy:.4f}\")\n",
    "print(f\"Final Test PR-AUC: {test_pr_auc:.4f}\")\n",
    "print(f\"Final Test F1-Score: {test_f1:.4f}\")\n",
    "\n",
    "# ===== PERFORMANCE COMPARISON =====\n",
    "print(\"\\n=== PERFORMANCE COMPARISON ===\")\n",
    "print(f\"Original Model AUROC: 0.617\")\n",
    "print(f\"Ensemble Validation AUROC: {valid_auc:.4f}\")\n",
    "print(f\"Ensemble Test AUROC: {test_auc:.4f}\")\n",
    "\n",
    "improvement = ((test_auc - 0.617) / 0.617) * 100\n",
    "print(f\"Improvement: {improvement:.1f}% better than original model\")\n",
    "\n",
    "# ===== DETAILED CLASSIFICATION REPORT =====\n",
    "print(\"\\n=== DETAILED CLASSIFICATION REPORT ===\")\n",
    "print(classification_report(y_test, y_test_pred, target_names=['No Rain', 'Rain']))"
   ]
  },
  {
   "cell_type": "code",
   "execution_count": 86,
   "metadata": {},
   "outputs": [],
   "source": [
    "# <Student to fill this section>\n",
    "model_performance_explanations = \"\"\"\n",
    "For Experiment 3 (Ensemble of Multiple Algorithms) the results highlight both opportunities and limitations:\n",
    "\n",
    "1. Validation and Overfitting\n",
    "The validation AUROC of 0.56 was weaker than earlier experiments, and the gap between training (1.00) and validation (0.56) confirms strong overfitting. Each base learner showed similar low validation AUROC, so the ensemble could not overcome weak generalisation from the components. This indicates that while the ensemble was complex, it did not extract more signal from the available features.\n",
    "\n",
    "2. Test Performance\n",
    "On the test set the AUROC of 0.62 is close to the single fine-tuned XGBoost model (0.617). The PR-AUC of 0.66 and F1-score of 0.67 suggest the ensemble provides a slightly better balance between precision and recall, especially in capturing rain days (recall = 0.81 for rain vs. 0.28 for no rain). However, accuracy remains modest at 0.56 due to misclassification of many no-rain days.\n",
    "\n",
    "3. Interpretation and Impact\n",
    "The ensemble did not deliver a major uplift in discriminatory power, with only a 0.7% AUROC improvement over the baseline XGBoost. The gain in F1 and PR-AUC shows better handling of rain events, but the cost is poor performance on no-rain predictions. In practice, this would mean the model tends to overpredict rain, which could reduce trust in operational settings. The results suggest that ensembling alone is insufficient; stronger feature engineering or alternative temporal models are needed to achieve meaningful improvements.\"\"\""
   ]
  },
  {
   "cell_type": "code",
   "execution_count": 87,
   "metadata": {},
   "outputs": [
    {
     "data": {
      "text/html": [
       "<p style=\"color:grey\">model_performance_explanations</p><h3 font-size: 3em>\n",
       "For Experiment 3 (Ensemble of Multiple Algorithms) the results highlight both opportunities and limitations:\n",
       "\n",
       "1. Validation and Overfitting\n",
       "The validation AUROC of 0.56 was weaker than earlier experiments, and the gap between training (1.00) and validation (0.56) confirms strong overfitting. Each base learner showed similar low validation AUROC, so the ensemble could not overcome weak generalisation from the components. This indicates that while the ensemble was complex, it did not extract more signal from the available features.\n",
       "\n",
       "2. Test Performance\n",
       "On the test set the AUROC of 0.62 is close to the single fine-tuned XGBoost model (0.617). The PR-AUC of 0.66 and F1-score of 0.67 suggest the ensemble provides a slightly better balance between precision and recall, especially in capturing rain days (recall = 0.81 for rain vs. 0.28 for no rain). However, accuracy remains modest at 0.56 due to misclassification of many no-rain days.\n",
       "\n",
       "3. Interpretation and Impact\n",
       "The ensemble did not deliver a major uplift in discriminatory power, with only a 0.7% AUROC improvement over the baseline XGBoost. The gain in F1 and PR-AUC shows better handling of rain events, but the cost is poor performance on no-rain predictions. In practice, this would mean the model tends to overpredict rain, which could reduce trust in operational settings. The results suggest that ensembling alone is insufficient; stronger feature engineering or alternative temporal models are needed to achieve meaningful improvements.</h3>"
      ],
      "text/plain": [
       "<IPython.core.display.HTML object>"
      ]
     },
     "metadata": {},
     "output_type": "display_data"
    }
   ],
   "source": [
    "# Do not modify this code\n",
    "print_tile(size=\"h3\", key='model_performance_explanations', value=model_performance_explanations)"
   ]
  },
  {
   "cell_type": "markdown",
   "metadata": {},
   "source": [
    "### **Experiment 4: Deep Learning with LSTM for Temporal Sequences**\n"
   ]
  },
  {
   "cell_type": "code",
   "execution_count": 88,
   "metadata": {},
   "outputs": [],
   "source": [
    "import tensorflow as tf\n",
    "from tensorflow.keras.models import Sequential\n",
    "from tensorflow.keras.layers import LSTM, Dense, Dropout, BatchNormalization\n",
    "from tensorflow.keras.optimizers import Adam\n",
    "from tensorflow.keras.callbacks import EarlyStopping, ReduceLROnPlateau\n",
    "from sklearn.preprocessing import MinMaxScaler\n",
    "from sklearn.metrics import roc_auc_score, average_precision_score, f1_score, accuracy_score\n",
    "import numpy as np\n",
    "\n",
    "# ===== 1. Define LSTM Model =====\n",
    "def create_lstm_model(input_shape):\n",
    "    model = Sequential()\n",
    "    model.add(LSTM(128, return_sequences=True, input_shape=input_shape))\n",
    "    model.add(BatchNormalization()); model.add(Dropout(0.3))\n",
    "    model.add(LSTM(64, return_sequences=True))\n",
    "    model.add(BatchNormalization()); model.add(Dropout(0.3))\n",
    "    model.add(LSTM(32, return_sequences=False))\n",
    "    model.add(BatchNormalization()); model.add(Dropout(0.3))\n",
    "    model.add(Dense(64, activation='relu'))\n",
    "    model.add(BatchNormalization()); model.add(Dropout(0.3))\n",
    "    model.add(Dense(32, activation='relu')); model.add(Dropout(0.2))\n",
    "    model.add(Dense(1, activation='sigmoid'))\n",
    "    model.compile(\n",
    "        optimizer=Adam(learning_rate=0.001),\n",
    "        loss='binary_crossentropy',\n",
    "        metrics=['accuracy', tf.keras.metrics.AUC(name='AUC')]\n",
    "    )\n",
    "    return model\n",
    "\n",
    "# ===== 2. Prepare Sequences =====\n",
    "def prepare_lstm_data(X, y, sequence_length=7, scaler=None, fit_scaler=True):\n",
    "    if scaler is None:\n",
    "        scaler = MinMaxScaler()\n",
    "    if fit_scaler:\n",
    "        X_scaled = scaler.fit_transform(X)\n",
    "    else:\n",
    "        X_scaled = scaler.transform(X)\n",
    "\n",
    "    X_sequences, y_sequences = [], []\n",
    "    for i in range(sequence_length, len(X_scaled)):\n",
    "        X_sequences.append(X_scaled[i-sequence_length:i])\n",
    "        y_sequences.append(y.iloc[i])\n",
    "    return np.array(X_sequences), np.array(y_sequences), scaler\n",
    "\n",
    "# ===== 3. Train/Eval with Chronological Split =====\n",
    "def train_lstm_with_test(X, y, sequence_length=7, epochs=50):\n",
    "    n = len(X)\n",
    "    train_size = int(n * 0.7)\n",
    "    valid_size = int(n * 0.15)\n",
    "\n",
    "    X_train, y_train = X.iloc[:train_size], y.iloc[:train_size]\n",
    "    X_valid, y_valid = X.iloc[train_size:train_size+valid_size], y.iloc[train_size:train_size+valid_size]\n",
    "    X_test, y_test   = X.iloc[train_size+valid_size:], y.iloc[train_size+valid_size:]\n",
    "\n",
    "    # Sequences\n",
    "    X_train_seq, y_train_seq, scaler = prepare_lstm_data(X_train, y_train, sequence_length)\n",
    "    X_valid_seq, y_valid_seq, _ = prepare_lstm_data(X_valid, y_valid, sequence_length, scaler, fit_scaler=False)\n",
    "    X_test_seq, y_test_seq, _   = prepare_lstm_data(X_test, y_test, sequence_length, scaler, fit_scaler=False)\n",
    "\n",
    "    # Build model\n",
    "    model = create_lstm_model((sequence_length, X.shape[1]))\n",
    "\n",
    "    early_stopping = EarlyStopping(monitor='val_AUC', patience=10, restore_best_weights=True, mode='max')\n",
    "    reduce_lr = ReduceLROnPlateau(monitor='val_loss', factor=0.5, patience=5, min_lr=0.0001)\n",
    "\n",
    "    # Train\n",
    "    history = model.fit(\n",
    "        X_train_seq, y_train_seq,\n",
    "        validation_data=(X_valid_seq, y_valid_seq),\n",
    "        epochs=epochs,\n",
    "        batch_size=32,\n",
    "        callbacks=[early_stopping, reduce_lr],\n",
    "        verbose=1\n",
    "    )\n",
    "\n",
    "    # Validation performance\n",
    "    y_val_prob = model.predict(X_valid_seq).flatten()\n",
    "    y_val_pred = (y_val_prob > 0.5).astype(int)\n",
    "\n",
    "    print(\"\\n=== Validation Performance ===\")\n",
    "    print(\"AUROC:\", roc_auc_score(y_valid_seq, y_val_prob))\n",
    "    print(\"PR-AUC:\", average_precision_score(y_valid_seq, y_val_prob))\n",
    "    print(\"F1:\", f1_score(y_valid_seq, y_val_pred))\n",
    "    print(\"Accuracy:\", accuracy_score(y_valid_seq, y_val_pred))\n",
    "\n",
    "    # Test performance\n",
    "    y_test_prob = model.predict(X_test_seq).flatten()\n",
    "    y_test_pred = (y_test_prob > 0.5).astype(int)\n",
    "\n",
    "    print(\"\\n=== Final Test Performance ===\")\n",
    "    print(\"AUROC:\", roc_auc_score(y_test_seq, y_test_prob))\n",
    "    print(\"PR-AUC:\", average_precision_score(y_test_seq, y_test_prob))\n",
    "    print(\"F1:\", f1_score(y_test_seq, y_test_pred))\n",
    "    print(\"Accuracy:\", accuracy_score(y_test_seq, y_test_pred))\n",
    "\n",
    "    return model, history, scaler\n"
   ]
  },
  {
   "cell_type": "code",
   "execution_count": 89,
   "metadata": {},
   "outputs": [
    {
     "name": "stdout",
     "output_type": "stream",
     "text": [
      "Epoch 1/50\n",
      "\u001b[1m72/72\u001b[0m \u001b[32m━━━━━━━━━━━━━━━━━━━━\u001b[0m\u001b[37m\u001b[0m \u001b[1m11s\u001b[0m 29ms/step - AUC: 0.4991 - accuracy: 0.5024 - loss: 0.7218 - val_AUC: 0.5000 - val_accuracy: 0.4722 - val_loss: 0.6932 - learning_rate: 0.0010\n",
      "Epoch 2/50\n",
      "\u001b[1m72/72\u001b[0m \u001b[32m━━━━━━━━━━━━━━━━━━━━\u001b[0m\u001b[37m\u001b[0m \u001b[1m1s\u001b[0m 18ms/step - AUC: 0.4935 - accuracy: 0.4880 - loss: 0.6932 - val_AUC: 0.5000 - val_accuracy: 0.5278 - val_loss: 0.6930 - learning_rate: 0.0010\n",
      "Epoch 3/50\n",
      "\u001b[1m72/72\u001b[0m \u001b[32m━━━━━━━━━━━━━━━━━━━━\u001b[0m\u001b[37m\u001b[0m \u001b[1m1s\u001b[0m 17ms/step - AUC: 0.4978 - accuracy: 0.4858 - loss: 0.6932 - val_AUC: 0.5000 - val_accuracy: 0.5278 - val_loss: 0.6930 - learning_rate: 0.0010\n",
      "Epoch 4/50\n",
      "\u001b[1m72/72\u001b[0m \u001b[32m━━━━━━━━━━━━━━━━━━━━\u001b[0m\u001b[37m\u001b[0m \u001b[1m2s\u001b[0m 22ms/step - AUC: 0.4870 - accuracy: 0.5046 - loss: 0.6932 - val_AUC: 0.5000 - val_accuracy: 0.5278 - val_loss: 0.6928 - learning_rate: 0.0010\n",
      "Epoch 5/50\n",
      "\u001b[1m72/72\u001b[0m \u001b[32m━━━━━━━━━━━━━━━━━━━━\u001b[0m\u001b[37m\u001b[0m \u001b[1m1s\u001b[0m 19ms/step - AUC: 0.5009 - accuracy: 0.4897 - loss: 0.6932 - val_AUC: 0.5000 - val_accuracy: 0.5278 - val_loss: 0.6927 - learning_rate: 0.0010\n",
      "Epoch 6/50\n",
      "\u001b[1m72/72\u001b[0m \u001b[32m━━━━━━━━━━━━━━━━━━━━\u001b[0m\u001b[37m\u001b[0m \u001b[1m2s\u001b[0m 29ms/step - AUC: 0.5030 - accuracy: 0.5033 - loss: 0.6933 - val_AUC: 0.5000 - val_accuracy: 0.5278 - val_loss: 0.6927 - learning_rate: 0.0010\n",
      "Epoch 7/50\n",
      "\u001b[1m72/72\u001b[0m \u001b[32m━━━━━━━━━━━━━━━━━━━━\u001b[0m\u001b[37m\u001b[0m \u001b[1m2s\u001b[0m 23ms/step - AUC: 0.4818 - accuracy: 0.4985 - loss: 0.6935 - val_AUC: 0.5000 - val_accuracy: 0.5278 - val_loss: 0.6929 - learning_rate: 0.0010\n",
      "Epoch 8/50\n",
      "\u001b[1m72/72\u001b[0m \u001b[32m━━━━━━━━━━━━━━━━━━━━\u001b[0m\u001b[37m\u001b[0m \u001b[1m2s\u001b[0m 24ms/step - AUC: 0.4969 - accuracy: 0.4727 - loss: 0.6932 - val_AUC: 0.5000 - val_accuracy: 0.4722 - val_loss: 0.6932 - learning_rate: 0.0010\n",
      "Epoch 9/50\n",
      "\u001b[1m72/72\u001b[0m \u001b[32m━━━━━━━━━━━━━━━━━━━━\u001b[0m\u001b[37m\u001b[0m \u001b[1m2s\u001b[0m 19ms/step - AUC: 0.4989 - accuracy: 0.4849 - loss: 0.6932 - val_AUC: 0.5000 - val_accuracy: 0.5278 - val_loss: 0.6931 - learning_rate: 0.0010\n",
      "Epoch 10/50\n",
      "\u001b[1m72/72\u001b[0m \u001b[32m━━━━━━━━━━━━━━━━━━━━\u001b[0m\u001b[37m\u001b[0m \u001b[1m1s\u001b[0m 20ms/step - AUC: 0.4991 - accuracy: 0.4867 - loss: 0.6932 - val_AUC: 0.5000 - val_accuracy: 0.4722 - val_loss: 0.6932 - learning_rate: 0.0010\n",
      "Epoch 11/50\n",
      "\u001b[1m72/72\u001b[0m \u001b[32m━━━━━━━━━━━━━━━━━━━━\u001b[0m\u001b[37m\u001b[0m \u001b[1m1s\u001b[0m 20ms/step - AUC: 0.4991 - accuracy: 0.5076 - loss: 0.6931 - val_AUC: 0.5000 - val_accuracy: 0.4722 - val_loss: 0.6932 - learning_rate: 5.0000e-04\n",
      "\u001b[1m16/16\u001b[0m \u001b[32m━━━━━━━━━━━━━━━━━━━━\u001b[0m\u001b[37m\u001b[0m \u001b[1m2s\u001b[0m 63ms/step\n",
      "\n",
      "=== Validation Performance ===\n",
      "AUROC: 0.5\n",
      "PR-AUC: 0.5278350515463918\n",
      "F1: 0.0\n",
      "Accuracy: 0.47216494845360824\n",
      "\u001b[1m16/16\u001b[0m \u001b[32m━━━━━━━━━━━━━━━━━━━━\u001b[0m\u001b[37m\u001b[0m \u001b[1m0s\u001b[0m 10ms/step\n",
      "\n",
      "=== Final Test Performance ===\n",
      "AUROC: 0.5\n",
      "PR-AUC: 0.5411522633744856\n",
      "F1: 0.0\n",
      "Accuracy: 0.4588477366255144\n"
     ]
    }
   ],
   "source": [
    "X = data_enhanced.drop(columns=[\"target_rain\", \"time\"])  \n",
    "y = data_enhanced[\"target_rain\"]\n",
    "\n",
    "model, history, scaler = train_lstm_with_test(X, y, sequence_length=7, epochs=50)"
   ]
  },
  {
   "cell_type": "code",
   "execution_count": 90,
   "metadata": {},
   "outputs": [],
   "source": [
    "# <Student to fill this section>\n",
    "model_performance_explanations = \"\"\"\n",
    "For Experiment 4 (LSTM) the results indicate that the model failed to learn any predictive signal:\n",
    "\n",
    "1. Validation Performance\n",
    "The AUROC of 0.5 and PR-AUC close to the baseline confirm that the LSTM could not discriminate between rain and no-rain. The F1-score of 0.0 shows the model defaulted to predicting a single class, and accuracy below 0.5 suggests poor calibration even for majority-class guessing.\n",
    "\n",
    "2. Test Performance\n",
    "The test metrics mirror the validation results: AUROC remains at 0.5, and F1-score is again 0.0. This consistency suggests the model was unable to extract meaningful temporal patterns from the sequence data, despite regularisation and architectural depth.\n",
    "\n",
    "3. Interpretation and Impact\n",
    "The failure likely arises from one or more issues:\n",
    "\n",
    "The sequence preparation may not align correctly with the 7-day target (labels offset incorrectly).\n",
    "\n",
    "The class imbalance could lead the model to collapse into predicting the majority class.\n",
    "\n",
    "The architecture complexity may be too high relative to dataset size, preventing effective learning.\n",
    "\n",
    "In practice, this means that while the LSTM approach is theoretically well-suited for temporal patterns, in this dataset and setup it offers no added value over simpler models..\"\"\""
   ]
  },
  {
   "cell_type": "code",
   "execution_count": 91,
   "metadata": {},
   "outputs": [
    {
     "data": {
      "text/html": [
       "<p style=\"color:grey\">model_performance_explanations</p><h3 font-size: 3em>\n",
       "For Experiment 4 (LSTM) the results indicate that the model failed to learn any predictive signal:\n",
       "\n",
       "1. Validation Performance\n",
       "The AUROC of 0.5 and PR-AUC close to the baseline confirm that the LSTM could not discriminate between rain and no-rain. The F1-score of 0.0 shows the model defaulted to predicting a single class, and accuracy below 0.5 suggests poor calibration even for majority-class guessing.\n",
       "\n",
       "2. Test Performance\n",
       "The test metrics mirror the validation results: AUROC remains at 0.5, and F1-score is again 0.0. This consistency suggests the model was unable to extract meaningful temporal patterns from the sequence data, despite regularisation and architectural depth.\n",
       "\n",
       "3. Interpretation and Impact\n",
       "The failure likely arises from one or more issues:\n",
       "\n",
       "The sequence preparation may not align correctly with the 7-day target (labels offset incorrectly).\n",
       "\n",
       "The class imbalance could lead the model to collapse into predicting the majority class.\n",
       "\n",
       "The architecture complexity may be too high relative to dataset size, preventing effective learning.\n",
       "\n",
       "In practice, this means that while the LSTM approach is theoretically well-suited for temporal patterns, in this dataset and setup it offers no added value over simpler models..</h3>"
      ],
      "text/plain": [
       "<IPython.core.display.HTML object>"
      ]
     },
     "metadata": {},
     "output_type": "display_data"
    }
   ],
   "source": [
    "# Do not modify this code\n",
    "print_tile(size=\"h3\", key='model_performance_explanations', value=model_performance_explanations)"
   ]
  },
  {
   "cell_type": "markdown",
   "metadata": {
    "id": "W1HgZMPcmtu7"
   },
   "source": [
    "### J.5 Business Impact from Current Model Performance\n",
    "\n",
    "> Provide some analysis on the model impacts from the business point of view\n"
   ]
  },
  {
   "cell_type": "code",
   "execution_count": 183,
   "metadata": {
    "id": "XGq2RWyqmuKM"
   },
   "outputs": [],
   "source": [
    "# <Student to fill this section>"
   ]
  },
  {
   "cell_type": "code",
   "execution_count": 92,
   "metadata": {
    "id": "7bcCHiP-Hozj"
   },
   "outputs": [],
   "source": [
    "# <Student to fill this section>\n",
    "business_impacts_explanations = \"\"\"\n",
    "Experiment 1 – XGBoost with Fine-Tuning\n",
    "The model delivered moderate performance (AUROC ~0.61, F1 ~0.66), capturing some patterns but still prone to frequent false positives and negatives. For the business, this means some improvement over chance-level guessing, yet the limited discrimination reduces reliability for operational planning. Incorrect results at this stage may lead to wasted resources on unnecessary rain preparations or exposure to unanticipated rain disruptions.\n",
    "\n",
    "Experiment 2 – Advanced Feature Engineering\n",
    "Adding temporal and interaction features marginally improved the balance of predictions (F1 ~0.68, PR-AUC ~0.63), strengthening recall of rain events. For the business, this reduces the risk of missing actual rain days, though misclassifications remain common. False negatives are particularly costly here, as failing to anticipate rain could impact logistics, safety, or customer experience.\n",
    "\n",
    "Experiment 3 – Ensemble Models\n",
    "The ensemble slightly increased PR-AUC (~0.66) and F1 (~0.67) but at the cost of significant overfitting and weak no-rain detection. From a business perspective, the model leans toward overpredicting rain. While this reduces the risk of being caught unprepared for actual rain, it inflates operational costs and damages trust due to frequent false alarms.\n",
    "\n",
    "Experiment 4 – LSTM\n",
    "The LSTM failed to learn predictive signal (AUROC ~0.5, F1 = 0). For the business, this offers no advantage over random guessing, and reliance on such predictions would severely undermine planning. Incorrect results here would have the greatest negative impact, as they provide false confidence with no usable accuracy.\n",
    "\n",
    "Overall Impact\n",
    "Tree-based models with engineered features offered the most useful—though still limited—performance, enabling cautious use for medium-term planning. The costliest errors for the business are false negatives (not predicting rain when it occurs), which lead to operational risks and reputational damage. False positives (predicting rain when none occurs) also carry costs but are less severe. Given the modest gains, the models can support decisions as a supplementary tool but not as the sole basis for planning.\"\"\""
   ]
  },
  {
   "cell_type": "code",
   "execution_count": 93,
   "metadata": {
    "id": "RQ3lJGAnHo3O"
   },
   "outputs": [
    {
     "data": {
      "text/html": [
       "<p style=\"color:grey\">business_impacts_explanations</p><h3 font-size: 3em>\n",
       "Experiment 1 – XGBoost with Fine-Tuning\n",
       "The model delivered moderate performance (AUROC ~0.61, F1 ~0.66), capturing some patterns but still prone to frequent false positives and negatives. For the business, this means some improvement over chance-level guessing, yet the limited discrimination reduces reliability for operational planning. Incorrect results at this stage may lead to wasted resources on unnecessary rain preparations or exposure to unanticipated rain disruptions.\n",
       "\n",
       "Experiment 2 – Advanced Feature Engineering\n",
       "Adding temporal and interaction features marginally improved the balance of predictions (F1 ~0.68, PR-AUC ~0.63), strengthening recall of rain events. For the business, this reduces the risk of missing actual rain days, though misclassifications remain common. False negatives are particularly costly here, as failing to anticipate rain could impact logistics, safety, or customer experience.\n",
       "\n",
       "Experiment 3 – Ensemble Models\n",
       "The ensemble slightly increased PR-AUC (~0.66) and F1 (~0.67) but at the cost of significant overfitting and weak no-rain detection. From a business perspective, the model leans toward overpredicting rain. While this reduces the risk of being caught unprepared for actual rain, it inflates operational costs and damages trust due to frequent false alarms.\n",
       "\n",
       "Experiment 4 – LSTM\n",
       "The LSTM failed to learn predictive signal (AUROC ~0.5, F1 = 0). For the business, this offers no advantage over random guessing, and reliance on such predictions would severely undermine planning. Incorrect results here would have the greatest negative impact, as they provide false confidence with no usable accuracy.\n",
       "\n",
       "Overall Impact\n",
       "Tree-based models with engineered features offered the most useful—though still limited—performance, enabling cautious use for medium-term planning. The costliest errors for the business are false negatives (not predicting rain when it occurs), which lead to operational risks and reputational damage. False positives (predicting rain when none occurs) also carry costs but are less severe. Given the modest gains, the models can support decisions as a supplementary tool but not as the sole basis for planning.</h3>"
      ],
      "text/plain": [
       "<IPython.core.display.HTML object>"
      ]
     },
     "metadata": {},
     "output_type": "display_data"
    }
   ],
   "source": [
    "# Do not modify this code\n",
    "print_tile(size=\"h3\", key='business_impacts_explanations', value=business_impacts_explanations)"
   ]
  },
  {
   "cell_type": "markdown",
   "metadata": {
    "id": "mp1Ie9o8nDl1"
   },
   "source": [
    "## H. Project Outcomes"
   ]
  },
  {
   "cell_type": "code",
   "execution_count": 186,
   "metadata": {
    "id": "AvFNheh1HtPb"
   },
   "outputs": [],
   "source": [
    "# <Student to fill this section>\n",
    "experiment_outcome = \"\" # Either 'Hypothesis Confirmed', 'Hypothesis Partially Confirmed' or 'Hypothesis Rejected'"
   ]
  },
  {
   "cell_type": "code",
   "execution_count": 187,
   "metadata": {
    "id": "23bFWNIVHtTU"
   },
   "outputs": [
    {
     "data": {
      "text/html": [
       "<p style=\"color:grey\">experiment_outcomes_explanations</p><h2 font-size: 3em></h2>"
      ],
      "text/plain": [
       "<IPython.core.display.HTML object>"
      ]
     },
     "metadata": {},
     "output_type": "display_data"
    }
   ],
   "source": [
    "# Do not modify this code\n",
    "print_tile(size=\"h2\", key='experiment_outcomes_explanations', value=experiment_outcome)"
   ]
  },
  {
   "cell_type": "code",
   "execution_count": 96,
   "metadata": {
    "id": "iFF8wsz6HteA"
   },
   "outputs": [],
   "source": [
    "# <Student to fill this section>\n",
    "experiment_results_explanations = \"\"\"\n",
    "The experiments demonstrated that predicting rainfall seven days ahead in Sydney is a highly challenging task. While tree-based models such as XGBoost achieved moderate discrimination, their performance was limited, and ensembles or deep learning did not deliver substantial improvements. The key insight is that feature engineering contributed more to performance gains than model complexity, suggesting that the signal-to-noise ratio in the dataset remains the primary constraint. Another important finding is that errors are asymmetric in business impact, with false negatives (missed rain events) being far more costly than false positives.\n",
    "\n",
    "The current models did not achieve the required outcome for sole business deployment. However, the XGBoost model with advanced feature engineering offers the most balanced performance and could be used as a decision-support tool rather than a stand-alone predictor. Future work should focus on enhancing the dataset with richer climate features and refining cost-sensitive evaluation to deliver predictions that are both technically sound and business-relevant.\n",
    "\n",
    "\"\"\""
   ]
  },
  {
   "cell_type": "code",
   "execution_count": 97,
   "metadata": {
    "id": "QpWzEhX2HthW"
   },
   "outputs": [
    {
     "data": {
      "text/html": [
       "<p style=\"color:grey\">experiment_results_explanations</p><h2 font-size: 3em>\n",
       "The experiments demonstrated that predicting rainfall seven days ahead in Sydney is a highly challenging task. While tree-based models such as XGBoost achieved moderate discrimination, their performance was limited, and ensembles or deep learning did not deliver substantial improvements. The key insight is that feature engineering contributed more to performance gains than model complexity, suggesting that the signal-to-noise ratio in the dataset remains the primary constraint. Another important finding is that errors are asymmetric in business impact, with false negatives (missed rain events) being far more costly than false positives.\n",
       "\n",
       "The current models did not achieve the required outcome for sole business deployment. However, the XGBoost model with advanced feature engineering offers the most balanced performance and could be used as a decision-support tool rather than a stand-alone predictor. Future work should focus on enhancing the dataset with richer climate features and refining cost-sensitive evaluation to deliver predictions that are both technically sound and business-relevant.\n",
       "\n",
       "</h2>"
      ],
      "text/plain": [
       "<IPython.core.display.HTML object>"
      ]
     },
     "metadata": {},
     "output_type": "display_data"
    }
   ],
   "source": [
    "# Do not modify this code\n",
    "print_tile(size=\"h2\", key='experiment_results_explanations', value=experiment_results_explanations)"
   ]
  },
  {
   "cell_type": "markdown",
   "metadata": {},
   "source": []
  }
 ],
 "metadata": {
  "colab": {
   "provenance": [
    {
     "file_id": "13MHsQlFmfLuY1rWjvW73WSaDUaRPENW4",
     "timestamp": 1680399055727
    }
   ],
   "toc_visible": true
  },
  "kernelspec": {
   "display_name": "aml-assignment-2",
   "language": "python",
   "name": "python3"
  },
  "language_info": {
   "codemirror_mode": {
    "name": "ipython",
    "version": 3
   },
   "file_extension": ".py",
   "mimetype": "text/x-python",
   "name": "python",
   "nbconvert_exporter": "python",
   "pygments_lexer": "ipython3",
   "version": "3.11.4"
  }
 },
 "nbformat": 4,
 "nbformat_minor": 0
}
