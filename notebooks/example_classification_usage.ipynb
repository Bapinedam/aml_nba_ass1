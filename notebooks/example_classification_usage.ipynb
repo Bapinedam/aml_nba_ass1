{
  "cells": [
    {
      "cell_type": "markdown",
      "metadata": {},
      "source": [
        "# Weather Data Processing - Classification Example\n",
        "\n",
        "This notebook demonstrates how to use the WeatherDataProcessor for classification tasks (predicting rain occurrence 7 days ahead).\n"
      ]
    },
    {
      "cell_type": "code",
      "execution_count": null,
      "metadata": {},
      "outputs": [],
      "source": [
        "# Import the local development version\n",
        "import sys\n",
        "import os\n",
        "sys.path.insert(0, os.path.abspath('../src'))\n",
        "\n",
        "# Import directly from the module to avoid conflicts with installed package\n",
        "from brayam_pineda_ml.weather_data_processor import WeatherDataProcessor\n",
        "import pandas as pd\n",
        "import numpy as np\n"
      ]
    },
    {
      "cell_type": "markdown",
      "metadata": {},
      "source": [
        "## 1. Initialize the Weather Data Processor\n"
      ]
    },
    {
      "cell_type": "code",
      "execution_count": null,
      "metadata": {},
      "outputs": [],
      "source": [
        "# Initialize the processor for Sydney weather data\n",
        "processor = WeatherDataProcessor(\n",
        "    lat=-33.8678,  # Sydney latitude\n",
        "    lon=151.2073,  # Sydney longitude\n",
        "    timezone=\"Australia/Sydney\"\n",
        ")\n"
      ]
    },
    {
      "cell_type": "code",
      "execution_count": null,
      "metadata": {},
      "outputs": [],
      "source": [
        "# Run the complete pipeline for classification task\n",
        "data = processor.process_full_pipeline(\n",
        "    start_date=\"2016-01-01\",\n",
        "    end_date=\"2024-12-31\",\n",
        "    task_type=\"classification\",\n",
        "    target_name=\"target_rain\"\n",
        ")\n",
        "\n",
        "print(f\"Training set shape: {data['X_train'].shape}\")\n",
        "print(f\"Validation set shape: {data['X_val'].shape}\")\n",
        "print(f\"Test set shape: {data['X_test'].shape}\")\n",
        "print(f\"Number of features: {len(data['feature_names'])}\")\n",
        "print(f\"Target variable: {data['target_name']}\")\n"
      ]
    },
    {
      "cell_type": "markdown",
      "metadata": {},
      "source": [
        "## 3. Examine the Processed Data\n"
      ]
    },
    {
      "cell_type": "code",
      "execution_count": null,
      "metadata": {},
      "outputs": [],
      "source": [
        "# Look at the target variable distribution\n",
        "print(\"Target variable distribution:\")\n",
        "print(data['y_train'].value_counts())\n",
        "print(f\"\\\\nClass balance: {data['y_train'].mean():.3f} (proportion of positive class)\")\n"
      ]
    },
    {
      "cell_type": "markdown",
      "metadata": {},
      "source": [
        "## 4. Train a Model (Example with XGBoost)\n"
      ]
    },
    {
      "cell_type": "code",
      "execution_count": null,
      "metadata": {},
      "outputs": [],
      "source": [
        "from xgboost import XGBClassifier\n",
        "from sklearn.metrics import roc_auc_score, average_precision_score, f1_score, accuracy_score\n",
        "\n",
        "# Train XGBoost model\n",
        "model = XGBClassifier(\n",
        "    n_estimators=100,\n",
        "    max_depth=6,\n",
        "    learning_rate=0.1,\n",
        "    random_state=42\n",
        ")\n",
        "\n",
        "model.fit(data['X_train'], data['y_train'])\n",
        "\n",
        "# Make predictions\n",
        "y_train_pred = model.predict(data['X_train'])\n",
        "y_train_proba = model.predict_proba(data['X_train'])[:, 1]\n",
        "\n",
        "y_val_pred = model.predict(data['X_val'])\n",
        "y_val_proba = model.predict_proba(data['X_val'])[:, 1]\n",
        "\n",
        "y_test_pred = model.predict(data['X_test'])\n",
        "y_test_proba = model.predict_proba(data['X_test'])[:, 1]\n",
        "\n",
        "# Evaluate performance\n",
        "def evaluate_classification(y_true, y_pred, y_proba, set_name):\n",
        "    auc = roc_auc_score(y_true, y_proba)\n",
        "    pr_auc = average_precision_score(y_true, y_proba)\n",
        "    f1 = f1_score(y_true, y_pred)\n",
        "    acc = accuracy_score(y_true, y_pred)\n",
        "    print(f\"{set_name} - AUC: {auc:.3f}, PR-AUC: {pr_auc:.3f}, F1: {f1:.3f}, Accuracy: {acc:.3f}\")\n",
        "\n",
        "evaluate_classification(data['y_train'], y_train_pred, y_train_proba, \"Training\")\n",
        "evaluate_classification(data['y_val'], y_val_pred, y_val_proba, \"Validation\")\n",
        "evaluate_classification(data['y_test'], y_test_pred, y_test_proba, \"Test\")\n"
      ]
    }
  ],
  "metadata": {
    "language_info": {
      "name": "python"
    }
  },
  "nbformat": 4,
  "nbformat_minor": 2
}
