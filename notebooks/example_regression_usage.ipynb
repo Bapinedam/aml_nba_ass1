{
  "cells": [
    {
      "cell_type": "markdown",
      "metadata": {},
      "source": [
        "# Weather Data Processing - Regression Example\n",
        "\n",
        "This notebook demonstrates how to use the WeatherDataProcessor for regression tasks (predicting 3-day precipitation).\n"
      ]
    },
    {
      "cell_type": "code",
      "execution_count": null,
      "metadata": {},
      "outputs": [],
      "source": [
        "# Import the local development version\n",
        "import sys\n",
        "import os\n",
        "sys.path.insert(0, os.path.abspath('../src'))\n",
        "\n",
        "# Import directly from the module to avoid conflicts with installed package\n",
        "from brayam_pineda_ml.weather_data_processor import WeatherDataProcessor\n",
        "import pandas as pd\n",
        "import numpy as np\n"
      ]
    },
    {
      "cell_type": "markdown",
      "metadata": {},
      "source": [
        "## 1. Initialize the Weather Data Processor\n"
      ]
    },
    {
      "cell_type": "code",
      "execution_count": null,
      "metadata": {},
      "outputs": [],
      "source": [
        "# Initialize the processor for Sydney weather data\n",
        "processor = WeatherDataProcessor(\n",
        "    lat=-33.8678,  # Sydney latitude\n",
        "    lon=151.2073,  # Sydney longitude\n",
        "    timezone=\"Australia/Sydney\"\n",
        ")\n"
      ]
    },
    {
      "cell_type": "markdown",
      "metadata": {},
      "source": [
        "## 2. Run Complete Pipeline for Regression\n"
      ]
    },
    {
      "cell_type": "code",
      "execution_count": null,
      "metadata": {},
      "outputs": [],
      "source": [
        "# Run the complete pipeline for regression task\n",
        "data = processor.process_full_pipeline(\n",
        "    start_date=\"2016-01-01\",\n",
        "    end_date=\"2024-12-31\",\n",
        "    task_type=\"regression\",\n",
        "    target_name=\"precip_3day_next\"\n",
        ")\n",
        "\n",
        "print(f\"Training set shape: {data['X_train'].shape}\")\n",
        "print(f\"Validation set shape: {data['X_val'].shape}\")\n",
        "print(f\"Test set shape: {data['X_test'].shape}\")\n",
        "print(f\"Number of features: {len(data['feature_names'])}\")\n",
        "print(f\"Target variable: {data['target_name']}\")\n"
      ]
    }
  ],
  "metadata": {
    "language_info": {
      "name": "python"
    }
  },
  "nbformat": 4,
  "nbformat_minor": 2
}
