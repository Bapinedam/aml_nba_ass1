{
  "cells": [
    {
      "cell_type": "code",
      "execution_count": null,
      "metadata": {},
      "outputs": [],
      "source": [
        "# Test the library import\n",
        "from brayam_pineda_ml import WeatherDataProcessor\n",
        "import pandas as pd\n",
        "import numpy as np\n",
        "\n",
        "print(\"✅ Successfully imported WeatherDataProcessor!\")\n"
      ]
    },
    {
      "cell_type": "code",
      "execution_count": null,
      "metadata": {},
      "outputs": [],
      "source": [
        "# Test creating an instance\n",
        "processor = WeatherDataProcessor(\n",
        "    lat=-33.8678,\n",
        "    lon=151.2073,\n",
        "    timezone=\"Australia/Sydney\"\n",
        ")\n",
        "\n",
        "print(\"✅ Successfully created WeatherDataProcessor instance!\")\n",
        "print(f\"Available methods: {[method for method in dir(processor) if not method.startswith('_') and 'process' in method]}\")\n"
      ]
    }
  ],
  "metadata": {
    "kernelspec": {
      "display_name": "aml-assignment-2",
      "language": "python",
      "name": "python3"
    },
    "language_info": {
      "name": "python",
      "version": "3.11.4"
    }
  },
  "nbformat": 4,
  "nbformat_minor": 2
}
